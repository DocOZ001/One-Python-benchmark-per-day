{
 "metadata": {
  "name": "",
  "signature": "sha256:7ef7d201b665b1ba4152a973a6b7f42e851af7abb66e10d8e3d60d681d468ba2"
 },
 "nbformat": 3,
 "nbformat_minor": 0,
 "worksheets": [
  {
   "cells": [
    {
     "cell_type": "markdown",
     "metadata": {},
     "source": [
      "[Sebastian Raschka](http://sebastianraschka.com)  \n",
      "last updated: 05/18/2014\n",
      "\n",
      "- [Open in IPython nbviewer](http://nbviewer.ipython.org/github/rasbt/One-Python-benchmark-per-day/blob/master/ipython_nbs/day4_2_cython_numba_parakeet.ipynb?create=1)  \n",
      "- [Link to this IPython notebook on Github](https://github.com/rasbt/One-Python-benchmark-per-day/blob/master/ipython_nbs/day4_2_cython_numba_parakeet.ipynb)  \n",
      "- [Link to the GitHub Repository One-Python-benchmark-per-day](https://github.com/rasbt/One-Python-benchmark-per-day)\n"
     ]
    },
    {
     "cell_type": "markdown",
     "metadata": {},
     "source": [
      "<hr>\n",
      "I would be happy to hear your comments and suggestions.  \n",
      "Please feel free to drop me a note via\n",
      "[twitter](https://twitter.com/rasbt), [email](mailto:bluewoodtree@gmail.com), or [google+](https://plus.google.com/118404394130788869227).\n",
      "<hr>"
     ]
    },
    {
     "cell_type": "markdown",
     "metadata": {},
     "source": [
      "# Day 4.2 - One Python Benchmark per Day"
     ]
    },
    {
     "cell_type": "markdown",
     "metadata": {},
     "source": [
      "## Comparing (C)Python compilers - Cython vs. Numba vs. Parakeet on Bubblesort"
     ]
    },
    {
     "cell_type": "markdown",
     "metadata": {},
     "source": [
      "#### The code in this notebook was executed in"
     ]
    },
    {
     "cell_type": "code",
     "collapsed": false,
     "input": [
      "from platform import python_version\n",
      "print \"Python\", python_version()"
     ],
     "language": "python",
     "metadata": {},
     "outputs": [
      {
       "output_type": "stream",
       "stream": "stdout",
       "text": [
        "Python 2.7.6\n"
       ]
      }
     ],
     "prompt_number": 1
    },
    {
     "cell_type": "markdown",
     "metadata": {},
     "source": [
      "<br>\n",
      "**[-> skip to the results](#results)**\n",
      "<br>"
     ]
    },
    {
     "cell_type": "markdown",
     "metadata": {},
     "source": [
      "<br>\n",
      "<br>\n",
      "I made some significant changes to the previous [Day 4 benchmark](http://nbviewer.ipython.org/github/rasbt/One-Python-benchmark-per-day/blob/master/ipython_nbs/day4_python_cython_numba.ipynb?create=1), thus I decided to make it a separate article:  \n",
      "- added the [parakeet](http://www.parakeetpython.com) compiler  \n",
      "- improved the Bubblesort algorithm to avoid comparing already-sorted pairs  \n",
      "- focussed on only the optimized (\"best\") Cython and Numba implementations of Bubblesort  \n",
      "- used Python 2.7.6 instead of Python 3.4.0 (because of parakeet)  "
     ]
    },
    {
     "cell_type": "markdown",
     "metadata": {},
     "source": [
      "<br>\n",
      "<br>"
     ]
    },
    {
     "cell_type": "markdown",
     "metadata": {},
     "source": [
      "### Quick note about Bubblesort"
     ]
    },
    {
     "cell_type": "markdown",
     "metadata": {},
     "source": [
      "I don't want to get into the details about sorting algorithms here, but there is a great report  \n",
      "[\"Sorting in the Presence of Branch Prediction and Caches - Fast Sorting on Modern Computers\"](https://www.cs.tcd.ie/publications/tech-reports/reports.05/TCD-CS-2005-57.pdf) written by Paul Biggar and David Gregg, where they describe and analyze elementary sorting algorithms in very nice detail (see chapter 4).   \n",
      "\n",
      "And for a quick reference, [this website](http://www.sorting-algorithms.com/bubble-sort) has a nice animation of this algorithm."
     ]
    },
    {
     "cell_type": "markdown",
     "metadata": {},
     "source": [
      "A long story short: The \"worst-case\" complexity of the Bubblesort algorithm (i.e., \"Big-O\")  \n",
      " $\\Rightarrow \\pmb O(n^2)$"
     ]
    },
    {
     "cell_type": "markdown",
     "metadata": {},
     "source": [
      "<br>\n",
      "<br>"
     ]
    },
    {
     "cell_type": "markdown",
     "metadata": {},
     "source": [
      "### Bubble sort implemented in (C)Python"
     ]
    },
    {
     "cell_type": "code",
     "collapsed": false,
     "input": [
      "def python_bubblesort_ary(np_ary):\n",
      "    \"\"\" Bubblesort in Python for list objects. \"\"\"\n",
      "    length = len(a_list)\n",
      "    swapped = 1\n",
      "    for i in xrange(0, length):\n",
      "        if swapped: \n",
      "            swapped = 0\n",
      "            for ele in xrange(0, length-i-1):\n",
      "                if a_list[ele] > a_list[ele + 1]:\n",
      "                    temp = a_list[ele + 1]\n",
      "                    a_list[ele + 1] = a_list[ele]\n",
      "                    a_list[ele] = temp\n",
      "                    swapped = 1\n",
      "    return a_list"
     ],
     "language": "python",
     "metadata": {},
     "outputs": [],
     "prompt_number": 2
    },
    {
     "cell_type": "markdown",
     "metadata": {},
     "source": [
      "<br>\n",
      "<br>"
     ]
    },
    {
     "cell_type": "markdown",
     "metadata": {},
     "source": [
      "### Bubble sort implemented in Cython"
     ]
    },
    {
     "cell_type": "markdown",
     "metadata": {},
     "source": [
      "Maybe we can speed things up a little bit via [Cython's C-extensions for Python](http://cython.org). Cython is basically a hybrid between C and Python and can be pictured as compiled Python code with type declarations.  \n",
      "Since we are working in an IPython notebook here, we can make use of the very convenient *IPython magic*: It will take care of the conversion to C code, the compilation, and eventually the loading of the function.  \n",
      "\n",
      "Note that the static type declarations that we add via `cdef` are note required for Cython to work, but it will speed things up tremendously."
     ]
    },
    {
     "cell_type": "code",
     "collapsed": false,
     "input": [
      "%load_ext cythonmagic"
     ],
     "language": "python",
     "metadata": {},
     "outputs": [],
     "prompt_number": 3
    },
    {
     "cell_type": "code",
     "collapsed": false,
     "input": [
      "%%cython\n",
      "import numpy as np\n",
      "cimport numpy as np\n",
      "cimport cython\n",
      "@cython.boundscheck(False) \n",
      "@cython.wraparound(False)\n",
      "cpdef cython_bubblesort(long[:] np_ary):\n",
      "    \"\"\" The Cython implementation of Bubblesort with NumPy memoryview.\"\"\"\n",
      "    cdef unsigned int length, i, swapped, ele\n",
      "    length = np_ary.shape[0]\n",
      "    swapped = 1\n",
      "    for i in xrange(0, length):\n",
      "        if swapped: \n",
      "            swapped = 0\n",
      "            for ele in xrange(0, length-i-1):\n",
      "                if np_ary[ele] > np_ary[ele + 1]:\n",
      "                    temp = np_ary[ele + 1]\n",
      "                    np_ary[ele + 1] = np_ary[ele]\n",
      "                    np_ary[ele] = temp\n",
      "                    swapped = 1\n",
      "    return np.asarray(np_ary) # MemoryView to NumPy ndarray"
     ],
     "language": "python",
     "metadata": {},
     "outputs": [],
     "prompt_number": 4
    },
    {
     "cell_type": "markdown",
     "metadata": {},
     "source": [
      "<br>\n",
      "<br>"
     ]
    },
    {
     "cell_type": "markdown",
     "metadata": {},
     "source": [
      "### Bubble sort implemented in Numba"
     ]
    },
    {
     "cell_type": "markdown",
     "metadata": {},
     "source": [
      "Numba is using the [LLVM compiler infrastructure](http://llvm.org) for compiling Python code to machine code. Its strength is to work with NumPy arrays to speed-up the code. If you want to read more about Numba, please see refer to the original [website and documentation](http://numba.pydata.org/numba-doc/0.13/index.html)."
     ]
    },
    {
     "cell_type": "code",
     "collapsed": false,
     "input": [
      "from numba import jit as numba_jit\n",
      "@numba_jit\n",
      "def numba_bubblesort(np_ary):\n",
      "    \"\"\" The NumPy implementation of Bubblesort on NumPy arrays.\"\"\"\n",
      "    length = np_ary.shape[0]\n",
      "    swapped = 1\n",
      "    for i in xrange(0, length):\n",
      "        if swapped: \n",
      "            swapped = 0\n",
      "            for ele in xrange(0, length-i-1):\n",
      "                if np_ary[ele] > np_ary[ele + 1]:\n",
      "                    temp = np_ary[ele + 1]\n",
      "                    np_ary[ele + 1] = np_ary[ele]\n",
      "                    np_ary[ele] = temp\n",
      "                    swapped = 1\n",
      "    return np_ary"
     ],
     "language": "python",
     "metadata": {},
     "outputs": [],
     "prompt_number": 5
    },
    {
     "cell_type": "markdown",
     "metadata": {},
     "source": [
      "### Bubble sort implemented in  parakeet"
     ]
    },
    {
     "cell_type": "markdown",
     "metadata": {},
     "source": [
      "Similar to Numba,  [parakeet](http://www.parakeetpython.com) is a Python compiler that optimizes the runtime of numerical computations based on the NumPy data types, such as NumPy arrays.\n",
      "\n",
      "The usage is also similar to Numba where we just have to put the `jit` decorator on top of the function we want to optimize."
     ]
    },
    {
     "cell_type": "code",
     "collapsed": false,
     "input": [
      "from parakeet import jit as para_jit\n",
      "@para_jit\n",
      "def parakeet_bubblesort(np_ary):\n",
      "    \"\"\" The parakeet implementation of Bubblesort on NumPy arrays.\"\"\"\n",
      "    length = np_ary.shape[0]\n",
      "    swapped = 1\n",
      "    for i in xrange(0, length):\n",
      "        if swapped: \n",
      "            swapped = 0\n",
      "            for ele in xrange(0, length-i-1):\n",
      "                if np_ary[ele] > np_ary[ele + 1]:\n",
      "                    temp = np_ary[ele + 1]\n",
      "                    np_ary[ele + 1] = np_ary[ele]\n",
      "                    np_ary[ele] = temp\n",
      "                    swapped = 1\n",
      "    return np_ary"
     ],
     "language": "python",
     "metadata": {},
     "outputs": [],
     "prompt_number": 6
    },
    {
     "cell_type": "markdown",
     "metadata": {},
     "source": [
      "<br>\n",
      "<br>"
     ]
    },
    {
     "cell_type": "markdown",
     "metadata": {},
     "source": [
      "### Verifying that all implementations work correctly"
     ]
    },
    {
     "cell_type": "code",
     "collapsed": false,
     "input": [
      "import random\n",
      "import copy\n",
      "import numpy as np\n",
      "random.seed(12345)\n",
      "\n",
      "l = np.asarray([random.randint(1,1000) for num in xrange(1, 1000)])\n",
      "l_sorted = np.sort(l)\n",
      "for f in [python_bubblesort, cython_bubblesort, numba_bubblesort, parakeet_bubblesort]:\n",
      "    assert(l_sorted.all() == f(copy.copy(l)).all())\n",
      "print('Bubblesort works correctly')\n"
     ],
     "language": "python",
     "metadata": {},
     "outputs": [
      {
       "output_type": "stream",
       "stream": "stdout",
       "text": [
        "Bubblesort works correctly\n"
       ]
      }
     ],
     "prompt_number": 7
    },
    {
     "cell_type": "markdown",
     "metadata": {},
     "source": [
      "<br>\n",
      "<br>"
     ]
    },
    {
     "cell_type": "markdown",
     "metadata": {},
     "source": [
      "## Timing"
     ]
    },
    {
     "cell_type": "code",
     "collapsed": false,
     "input": [
      "import timeit\n",
      "import random\n",
      "import copy\n",
      "import numpy as np\n",
      "random.seed(4567)\n",
      "\n",
      "def make_copy(l):\n",
      "    return copy.deepcopy(l)\n",
      "\n",
      "funcs = ['python_bubblesort',\n",
      "         'cython_bubblesort',\n",
      "         'numba_bubblesort',\n",
      "         'parakeet_bubblesort'\n",
      "         ]\n",
      "\n",
      "orders_n = [10**n for n in range(1, 6)]\n",
      "timings = {f:[] for f in funcs}\n",
      "\n",
      "\n",
      "for n in orders_n:\n",
      "    l = [np.random.randint(n) for num in range(n)]\n",
      "    l_ary = np.asarray(l)\n",
      "    for f in funcs:\n",
      "        l_copy = make_copy(l)\n",
      "        if f != 'python_bubblesort':\n",
      "            l_copy = np.asarray(l_copy)\n",
      "        timings[f].append(min(timeit.Timer('%s(l_copy)' %f, \n",
      "                      'from __main__ import %s, l_copy' %f)\n",
      "                              .repeat(repeat=3, number=10)))"
     ],
     "language": "python",
     "metadata": {},
     "outputs": [],
     "prompt_number": 8
    },
    {
     "cell_type": "code",
     "collapsed": false,
     "input": [
      "%matplotlib inline"
     ],
     "language": "python",
     "metadata": {},
     "outputs": [],
     "prompt_number": 9
    },
    {
     "cell_type": "code",
     "collapsed": false,
     "input": [
      "import platform as pf\n",
      "from cython import __version__ as cython__version__\n",
      "from numba import __version__ as numba__version__\n",
      "from llvm import __version__ as llvm__version__\n",
      "from parakeet import __version__ as parakeet__version__\n",
      "\n",
      "sys_info = [\n",
      "        ['Python version', pf.python_version()],\n",
      "        ['Compiler', pf.python_compiler()],\n",
      "        ['Cython version', cython__version__],\n",
      "        ['NumPy version', np.__version__],\n",
      "        ['llvm version', llvm__version__],\n",
      "        ['Numba version', numba__version__],\n",
      "        ['parakeet version', parakeet__version__]\n",
      "    ]"
     ],
     "language": "python",
     "metadata": {},
     "outputs": [],
     "prompt_number": 10
    },
    {
     "cell_type": "code",
     "collapsed": false,
     "input": [
      "import matplotlib.pyplot as plt\n",
      "\n",
      "def plot(timings, title, ranked_labels, labels, orders_n, sys_info):\n",
      "    plt.rcParams.update({'font.size': 12})\n",
      "\n",
      "    fig = plt.figure(figsize=(11,10))\n",
      "    for lb in ranked_labels:\n",
      "        plt.plot(orders_n, timings[lb], alpha=0.5, label=labels[lb], \n",
      "                 marker='o', lw=3)\n",
      "    plt.xlabel('sample size n (items in the list)')\n",
      "    plt.ylabel('time per computation in milliseconds')\n",
      "    plt.xlim([min(orders_n) / 10, max(orders_n)* 10])\n",
      "    plt.legend(loc=2)\n",
      "    plt.grid()\n",
      "    plt.xscale('log')\n",
      "    plt.yscale('log')\n",
      "    plt.title(title)\n",
      "    ftext = \"\".join([\" \".join(entry)+'\\n' for entry in sys_info])\n",
      "    plt.figtext(.14,.55, ftext, fontsize=11, ha='left')\n",
      "    plt.show()"
     ],
     "language": "python",
     "metadata": {},
     "outputs": [],
     "prompt_number": 11
    },
    {
     "cell_type": "code",
     "collapsed": false,
     "input": [
      "import prettytable\n",
      "\n",
      "def summary_table(ranked_labels):\n",
      "    fit_table = prettytable.PrettyTable(['n=%s' %orders_n[-1], \n",
      "                                         'bubblesort function' ,\n",
      "                                         'time in millisec.',\n",
      "                                         'rel. performance gain'])\n",
      "    fit_table.align['bubblesort function'] = 'l'\n",
      "    for entry in ranked_labels:\n",
      "        fit_table.add_row(['', labels[entry[1]], round(entry[0]*100, 3), \n",
      "                           round(ranked_labels[0][0]/entry[0], 2)])\n",
      "        # times 100 for converting from seconds to milliseconds: (time*1000 / 10-loops)\n",
      "    print(fit_table)"
     ],
     "language": "python",
     "metadata": {},
     "outputs": [],
     "prompt_number": 12
    },
    {
     "cell_type": "markdown",
     "metadata": {},
     "source": [
      "<a name=\"results\"></a>"
     ]
    },
    {
     "cell_type": "code",
     "collapsed": false,
     "input": [
      "title = 'Performance of Bubblesort in Python, Cython, parakeet, and Numba'\n",
      "\n",
      "labels = {'python_bubblesort':'(C)Python Bubblesort - Python lists',  \n",
      "          'cython_bubblesort': 'Cython Bubblesort - NumPy arrays',\n",
      "          'numba_bubblesort': 'Numba Bubblesort - NumPy arrays',\n",
      "          'parakeet_bubblesort': 'parakeet Bubblesort - NumPy arrays'\n",
      "          }\n",
      "\n",
      "ranked_by_time = sorted([(time[1][-1],time[0]) for time in timings.items()], reverse=True)\n",
      "\n",
      "plot(timings, title, [l for t,l in ranked_by_time], labels, orders_n, sys_info)\n",
      "summary_table(ranked_by_time)"
     ],
     "language": "python",
     "metadata": {},
     "outputs": [
      {
       "metadata": {},
       "output_type": "display_data",
       "png": "[encoded data removed]",
       "text": [
        "<matplotlib.figure.Figure at 0x1097ba4d0>"
       ]
      },
      {
       "output_type": "stream",
       "stream": "stdout",
       "text": [
        "+----------+-------------------------------------+-------------------+-----------------------+\n",
        "| n=100000 | bubblesort function                 | time in millisec. | rel. performance gain |\n",
        "+----------+-------------------------------------+-------------------+-----------------------+\n",
        "|          | (C)Python Bubblesort - Python lists |       21.574      |          1.0          |\n",
        "|          | Cython Bubblesort - NumPy arrays    |       0.503       |         42.87         |\n",
        "|          | Numba Bubblesort - NumPy arrays     |       0.397       |         54.36         |\n",
        "|          | parakeet Bubblesort - NumPy arrays  |       0.362       |         59.64         |\n",
        "+----------+-------------------------------------+-------------------+-----------------------+\n"
       ]
      }
     ],
     "prompt_number": 15
    },
    {
     "cell_type": "markdown",
     "metadata": {},
     "source": [
      "### Benchmarks on larger sample sizes are in progress ..."
     ]
    },
    {
     "cell_type": "markdown",
     "metadata": {},
     "source": [
      "Note that the relative results also depend on what version of Python, Cython, Numba, parakeet, and NumPy you are using. Also, the compiler choice for installing NumPy can account for differences in the results.  "
     ]
    },
    {
     "cell_type": "markdown",
     "metadata": {},
     "source": [
      "<br>\n",
      "<br>"
     ]
    },
    {
     "cell_type": "markdown",
     "metadata": {},
     "source": [
      "## Appendix I - Why I didn't test (C)Python with NumPy arrays"
     ]
    },
    {
     "cell_type": "markdown",
     "metadata": {},
     "source": [
      "The performance of the (C)Python Bubblesort function on NumPy arrays was significantly slower than on Python list objects so that I decided to do the comparison using Python lists in order to not make Python look even worse."
     ]
    },
    {
     "cell_type": "code",
     "collapsed": false,
     "input": [
      "l = [np.random.randint(1,1000) for num in range(1,1000)]\n",
      "l_ary = np.asarray(l)\n",
      "\n",
      "%timeit python_bubblesort(l)\n",
      "%timeit python_bubblesort(l_ary)"
     ],
     "language": "python",
     "metadata": {},
     "outputs": [
      {
       "output_type": "stream",
       "stream": "stdout",
       "text": [
        "1000 loops, best of 3: 198 \u00b5s per loop\n",
        "1 loops, best of 3: 676 \u00b5s per loop"
       ]
      },
      {
       "output_type": "stream",
       "stream": "stdout",
       "text": [
        "\n"
       ]
      }
     ],
     "prompt_number": 14
    },
    {
     "cell_type": "code",
     "collapsed": false,
     "input": [],
     "language": "python",
     "metadata": {},
     "outputs": []
    }
   ],
   "metadata": {}
  }
 ]
}