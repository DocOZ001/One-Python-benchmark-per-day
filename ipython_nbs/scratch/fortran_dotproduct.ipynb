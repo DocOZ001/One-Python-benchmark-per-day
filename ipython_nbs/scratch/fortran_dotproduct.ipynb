{
 "metadata": {
  "name": "",
  "signature": "sha256:bf6ee0467ec6f5cbb78f0cfcdf001175ed05c5911025b62baabd817623c44e88"
 },
 "nbformat": 3,
 "nbformat_minor": 0,
 "worksheets": [
  {
   "cells": [
    {
     "cell_type": "code",
     "collapsed": false,
     "input": [
      "%load_ext fortranmagic"
     ],
     "language": "python",
     "metadata": {},
     "outputs": [
      {
       "javascript": [
        "$.getScript(\"https://raw.github.com/marijnh/CodeMirror/master/mode/fortran/fortran.js\", function () {\n",
        "IPython.config.cell_magic_highlight['magic_fortran'] = {'reg':[/^%%fortran/]};});\n"
       ],
       "metadata": {},
       "output_type": "display_data"
      }
     ],
     "prompt_number": 1
    },
    {
     "cell_type": "code",
     "collapsed": false,
     "input": [
      "%%fortran\n",
      "SUBROUTINE fortran_lstsqr(ary_x, ary_y, slope, y_interc)\n",
      "    ! Computes the least-squares solution to a linear matrix equation. \"\"\"\n",
      "    IMPLICIT NONE\n",
      "    REAL(8), INTENT(in), DIMENSION(:) :: ary_x, ary_y\n",
      "    REAL(8), INTENT(out) :: slope, y_interc\n",
      "    REAL(8) :: x_avg, y_avg, var_x, cov_xy, temp\n",
      "    INTEGER(8) :: N, i\n",
      "    \n",
      "    N = SIZE(ary_x)\n",
      "\n",
      "    x_avg = SUM(ary_x) / N\n",
      "    y_avg = SUM(ary_y) / N\n",
      "    var_x = 0\n",
      "    cov_xy = 0\n",
      "    \n",
      "    DO i = 1, N\n",
      "        temp = ary_x(i) - x_avg\n",
      "        var_x = var_x + temp**2\n",
      "        cov_xy = cov_xy + (temp*(ary_y(i) - y_avg))\n",
      "    END DO\n",
      "    \n",
      "    slope = cov_xy / var_x\n",
      "    y_interc = y_avg - slope*x_avg\n",
      "\n",
      "END SUBROUTINE fortran_lstsqr"
     ],
     "language": "python",
     "metadata": {},
     "outputs": [],
     "prompt_number": 2
    },
    {
     "cell_type": "code",
     "collapsed": false,
     "input": [
      "%%fortran\n",
      "subroutine linregress(x, y, slope, intercept)\n",
      "implicit none\n",
      "! Calculates simple linear regression of (x, y)\n",
      "real(8), intent(in) :: x(:), y(:)\n",
      "real(8), intent(out) :: slope ! y = intercept + slope*x\n",
      "real(8), intent(out) :: intercept ! y = intercept + slope*x\n",
      "real(8) :: xmean, ymean, varx, covxy\n",
      "integer :: N\n",
      "N = size(x)\n",
      "xmean = sum(x)/N\n",
      "ymean = sum(y)/N\n",
      "varx  = dot_product(x, x) - N*xmean**2    ! = dot_product(x-xmean, x-xmean)\n",
      "covxy = dot_product(x, y) - N*xmean*ymean ! = dot_product(x-xmean, y-ymean)\n",
      "slope = covxy / varx\n",
      "intercept = ymean - slope*xmean\n",
      "end subroutine"
     ],
     "language": "python",
     "metadata": {},
     "outputs": [],
     "prompt_number": 3
    },
    {
     "cell_type": "code",
     "collapsed": false,
     "input": [
      "import platform\n",
      "import multiprocessing\n",
      "from cython import __version__ as cython__version__\n",
      "\n",
      "def print_sysinfo():\n",
      "    \n",
      "    print('\\nPython version  :', platform.python_version())\n",
      "    print('compiler        :', platform.python_compiler())\n",
      "    print('Cython version  :', cython__version__)\n",
      "    print('NumPy version   :', np.__version__)\n",
      "    \n",
      "    print('\\nsystem     :', platform.system())\n",
      "    print('release    :', platform.release())\n",
      "    print('machine    :', platform.machine())\n",
      "    print('processor  :', platform.processor())\n",
      "    print('CPU count  :', multiprocessing.cpu_count())\n",
      "    print('interpreter:', platform.architecture()[0])\n",
      "    print('\\n\\n')"
     ],
     "language": "python",
     "metadata": {},
     "outputs": [],
     "prompt_number": 4
    },
    {
     "cell_type": "code",
     "collapsed": false,
     "input": [
      "import numpy as np\n",
      "\n",
      "print_sysinfo()\n",
      "\n",
      "x = ([x_i*np.random.randint(8,12)/10 for x_i in range(10000)])\n",
      "y = ([y_i*np.random.randint(10,14)/10 for y_i in range(10000)])\n",
      "xary = np.asarray(x)\n",
      "yary = np.asarray(y)\n",
      "\n",
      "\n",
      "%timeit fortran_lstsqr(xary, yary)\n",
      "%timeit linregress(xary, yary) "
     ],
     "language": "python",
     "metadata": {},
     "outputs": [
      {
       "output_type": "stream",
       "stream": "stdout",
       "text": [
        "\n",
        "Python version  : 3.4.1\n",
        "compiler        : GCC 4.2.1 (Apple Inc. build 5577)\n",
        "Cython version  : 0.20.1\n",
        "NumPy version   : 1.8.1\n",
        "\n",
        "system     : Darwin\n",
        "release    : 13.2.0\n",
        "machine    : x86_64\n",
        "processor  : i386\n",
        "CPU count  : 2\n",
        "interpreter: 64bit\n",
        "\n",
        "\n",
        "\n",
        "10000 loops, best of 3: 44.4 \u00b5s per loop"
       ]
      },
      {
       "output_type": "stream",
       "stream": "stdout",
       "text": [
        "\n",
        "10000 loops, best of 3: 52.7 \u00b5s per loop"
       ]
      },
      {
       "output_type": "stream",
       "stream": "stdout",
       "text": [
        "\n"
       ]
      }
     ],
     "prompt_number": 7
    },
    {
     "cell_type": "code",
     "collapsed": false,
     "input": [
      "import numpy as np\n",
      "\n",
      "print_sysinfo()\n",
      "\n",
      "x = ([x_i*np.random.randint(8,12)/10 for x_i in range(10000)])\n",
      "y = ([y_i*np.random.randint(10,14)/10 for y_i in range(10000)])\n",
      "xary = np.asarray(x)\n",
      "yary = np.asarray(y)\n",
      "\n",
      "\n",
      "%timeit fortran_lstsqr(xary, yary)\n",
      "%timeit linregress(xary, yary) "
     ],
     "language": "python",
     "metadata": {},
     "outputs": [
      {
       "output_type": "stream",
       "stream": "stdout",
       "text": [
        "('\\nPython version  :', '2.7.7')\n",
        "('compiler        :', 'GCC 4.0.1 (Apple Inc. build 5493)')\n",
        "('Cython version  :', '0.20.1')\n",
        "('NumPy version   :', '1.7.1')\n",
        "('\\nsystem     :', 'Darwin')\n",
        "('release    :', '13.2.0')\n",
        "('machine    :', 'x86_64')\n",
        "('processor  :', 'i386')\n",
        "('CPU count  :', 2)\n",
        "('interpreter:', '64bit')\n",
        "\n",
        "\n",
        "\n",
        "10000 loops, best of 3: 74.3 \u00b5s per loop"
       ]
      },
      {
       "output_type": "stream",
       "stream": "stdout",
       "text": [
        "\n",
        "10000 loops, best of 3: 81 \u00b5s per loop"
       ]
      },
      {
       "output_type": "stream",
       "stream": "stdout",
       "text": [
        "\n"
       ]
      }
     ],
     "prompt_number": 5
    },
    {
     "cell_type": "code",
     "collapsed": false,
     "input": [],
     "language": "python",
     "metadata": {},
     "outputs": []
    }
   ],
   "metadata": {}
  }
 ]
}