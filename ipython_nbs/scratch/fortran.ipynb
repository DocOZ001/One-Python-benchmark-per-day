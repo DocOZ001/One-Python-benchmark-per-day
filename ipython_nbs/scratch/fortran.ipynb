{
 "metadata": {
  "name": "",
  "signature": "sha256:f1a4bf5cc7d247e7dca32ab292257df0f7ddf2b46bd389212a889bd710ff07b0"
 },
 "nbformat": 3,
 "nbformat_minor": 0,
 "worksheets": [
  {
   "cells": [
    {
     "cell_type": "code",
     "collapsed": false,
     "input": [
      "%install_ext https://raw.github.com/mgaitan/fortran_magic/master/fortranmagic.py"
     ],
     "language": "python",
     "metadata": {},
     "outputs": [
      {
       "output_type": "stream",
       "stream": "stdout",
       "text": [
        "Installed fortranmagic.py. To use it, type:\n",
        "  %load_ext fortranmagic\n"
       ]
      }
     ],
     "prompt_number": 3
    },
    {
     "cell_type": "code",
     "collapsed": false,
     "input": [
      "%load_ext fortranmagic"
     ],
     "language": "python",
     "metadata": {},
     "outputs": [
      {
       "javascript": [
        "$.getScript(\"https://raw.github.com/marijnh/CodeMirror/master/mode/fortran/fortran.js\", function () {\n",
        "IPython.config.cell_magic_highlight['magic_fortran'] = {'reg':[/^%%fortran/]};});\n"
       ],
       "metadata": {},
       "output_type": "display_data"
      }
     ],
     "prompt_number": 1
    },
    {
     "cell_type": "code",
     "collapsed": false,
     "input": [
      "%%fortran\n",
      "SUBROUTINE fortran_bubblesort(a,n)\n",
      "  INTEGER, INTENT(in) :: n\n",
      "  REAL, INTENT(in out), DIMENSION(n) :: a\n",
      "  REAL :: temp\n",
      "  INTEGER :: i, j\n",
      "  LOGICAL :: swapped = .TRUE.\n",
      "\n",
      "  DO j = SIZE(a)-1, 1, -1\n",
      "    swapped = .FALSE.\n",
      "    DO i = 1, j\n",
      "      IF (a(i) > a(i+1)) THEN\n",
      "        temp = a(i)\n",
      "        a(i) = a(i+1)\n",
      "        a(i+1) = temp\n",
      "        swapped = .TRUE.\n",
      "      END IF\n",
      "    END DO\n",
      "    IF (.NOT. swapped) EXIT\n",
      "  END DO\n",
      "END SUBROUTINE fortran_bubblesort"
     ],
     "language": "python",
     "metadata": {},
     "outputs": [
      {
       "output_type": "stream",
       "stream": "stdout",
       "text": [
        "\tBuilding module \"_fortran_magic_eacc152546f5b4ce3887a88328b3b722\"...\n",
        "\t\tConstructing wrapper function \"fortran_bubblesort\"...\n",
        "\t\t  fortran_bubblesort(a,[n])\n",
        "\tWrote C/API module \"_fortran_magic_eacc152546f5b4ce3887a88328b3b722\" to file \"/var/folders/5k/0pmyxbls5tg39vdv6vl3pnvh0000gn/T/tmp9uofzdg4/src.macosx-10.5-x86_64-3.4/_fortran_magic_eacc152546f5b4ce3887a88328b3b722module.c\"\n"
       ]
      }
     ],
     "prompt_number": 8
    },
    {
     "cell_type": "code",
     "collapsed": false,
     "input": [
      "import numpy as np"
     ],
     "language": "python",
     "metadata": {},
     "outputs": [],
     "prompt_number": 3
    },
    {
     "cell_type": "code",
     "collapsed": false,
     "input": [
      "x = np.asfortranarray([3,2,1])\n",
      "y = fortran_bubblesort(x, x.shape[0])\n",
      "print(x, y)"
     ],
     "language": "python",
     "metadata": {},
     "outputs": [
      {
       "output_type": "stream",
       "stream": "stdout",
       "text": [
        "[3 2 1] None\n"
       ]
      }
     ],
     "prompt_number": 9
    },
    {
     "cell_type": "code",
     "collapsed": false,
     "input": [
      "b = [3,2,1]\n",
      "\n",
      "fortran_bubblesort(x)\n"
     ],
     "language": "python",
     "metadata": {},
     "outputs": [],
     "prompt_number": 18
    },
    {
     "cell_type": "code",
     "collapsed": false,
     "input": [
      "%%fortran\n",
      "SUBROUTINE fortran_sum(x, y, z)\n",
      "    REAL, INTENT(in) :: x,y\n",
      "    REAL, INTENT(out) :: z\n",
      "\n",
      "    z = x + y\n",
      "\n",
      "END SUBROUTINE fortran_sum"
     ],
     "language": "python",
     "metadata": {},
     "outputs": [
      {
       "output_type": "stream",
       "stream": "stdout",
       "text": [
        "\tBuilding module \"_fortran_magic_cbd5da19d6bdeed499c21d8d173922e1\"...\n",
        "\t\tConstructing wrapper function \"fortran_sum\"...\n",
        "\t\t  z = fortran_sum(x,y)\n",
        "\tWrote C/API module \"_fortran_magic_cbd5da19d6bdeed499c21d8d173922e1\" to file \"/var/folders/5k/0pmyxbls5tg39vdv6vl3pnvh0000gn/T/tmpr41j973c/src.macosx-10.5-x86_64-3.4/_fortran_magic_cbd5da19d6bdeed499c21d8d173922e1module.c\"\n"
       ]
      }
     ],
     "prompt_number": 13
    },
    {
     "cell_type": "code",
     "collapsed": false,
     "input": [
      "fortran_sum(3, 4)"
     ],
     "language": "python",
     "metadata": {},
     "outputs": [
      {
       "metadata": {},
       "output_type": "pyout",
       "prompt_number": 15,
       "text": [
        "7.0"
       ]
      }
     ],
     "prompt_number": 15
    },
    {
     "cell_type": "code",
     "collapsed": false,
     "input": [],
     "language": "python",
     "metadata": {},
     "outputs": []
    }
   ],
   "metadata": {}
  }
 ]
}