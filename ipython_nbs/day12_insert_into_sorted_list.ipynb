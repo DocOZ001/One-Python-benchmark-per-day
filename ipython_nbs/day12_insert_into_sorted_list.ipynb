{
 "metadata": {
  "name": "",
  "signature": "sha256:8838fc45659a25c7bb4a94c0c475dd830659e0f3af557dea3027c1ed9e985a43"
 },
 "nbformat": 3,
 "nbformat_minor": 0,
 "worksheets": [
  {
   "cells": [
    {
     "cell_type": "markdown",
     "metadata": {},
     "source": [
      "[Sebastian Raschka](http://sebastianraschka.com)  \n",
      "\n",
      "- [Open in IPython nbviewer](http://nbviewer.ipython.org/github/rasbt/One-Python-benchmark-per-day/blob/master/ipython_nbs/day12_insert_into_sorted_list.ipynb?create=1)  \n",
      "\n",
      "- [Link to this IPython notebook on Github](https://github.com/rasbt/One-Python-benchmark-per-day/blob/master/ipython_nbs/day12_insert_into_sorted_list.ipynb)  \n",
      "\n",
      "- [Link to the GitHub Repository One-Python-benchmark-per-day](https://github.com/rasbt/One-Python-benchmark-per-day)\n"
     ]
    },
    {
     "cell_type": "code",
     "collapsed": false,
     "input": [
      "import time\n",
      "print('Last updated: %s' %time.strftime('%d/%m/%Y'))"
     ],
     "language": "python",
     "metadata": {},
     "outputs": [
      {
       "output_type": "stream",
       "stream": "stdout",
       "text": [
        "Last updated: 24/06/2014\n"
       ]
      }
     ],
     "prompt_number": 1
    },
    {
     "cell_type": "markdown",
     "metadata": {},
     "source": [
      "<hr>\n",
      "I would be happy to hear your comments and suggestions.  \n",
      "Please feel free to drop me a note via\n",
      "[twitter](https://twitter.com/rasbt), [email](mailto:bluewoodtree@gmail.com), or [google+](https://plus.google.com/+SebastianRaschka).\n",
      "<hr>"
     ]
    },
    {
     "cell_type": "heading",
     "level": 1,
     "metadata": {},
     "source": [
      "Day 12 - One Python Benchmark per Day"
     ]
    },
    {
     "cell_type": "heading",
     "level": 2,
     "metadata": {},
     "source": [
      "Lightning fast insertion into sorted lists via the `bisect` module"
     ]
    },
    {
     "cell_type": "markdown",
     "metadata": {},
     "source": [
      "<br>\n",
      "<br>"
     ]
    },
    {
     "cell_type": "markdown",
     "metadata": {},
     "source": [
      "[[skip to results](#Results)]"
     ]
    },
    {
     "cell_type": "markdown",
     "metadata": {},
     "source": [
      "Python comes with a full-charged battery pack of useful Standard Library modules.  The [`bisect`](https://docs.python.org/3.4/library/bisect.html) module (short for \"Array bisection algorithm\") was built for fast insertion of new values to already sorted lists.  \n",
      "\n",
      "In this benchmark, we will take a look at 2 of its useful functions:\n",
      "\n"
     ]
    },
    {
     "cell_type": "markdown",
     "metadata": {},
     "source": [
      "<br>"
     ]
    },
    {
     "cell_type": "markdown",
     "metadata": {},
     "source": [
      "- `bisect_left(val, a_list)`:  \n",
      "    Returns the insertion point for a value into a sorted list. E.g., \n",
      "    "
     ]
    },
    {
     "cell_type": "code",
     "collapsed": false,
     "input": [
      "import bisect\n",
      "a_list = [1,2,4]\n",
      "bisect.bisect_left(a_list, 3)"
     ],
     "language": "python",
     "metadata": {},
     "outputs": [
      {
       "metadata": {},
       "output_type": "pyout",
       "prompt_number": 4,
       "text": [
        "2"
       ]
      }
     ],
     "prompt_number": 4
    },
    {
     "cell_type": "markdown",
     "metadata": {},
     "source": [
      "<br>\n"
     ]
    },
    {
     "cell_type": "markdown",
     "metadata": {},
     "source": [
      "- `insort_left(val, a_list)`:  \n",
      "    Directly inserts a new value into a sorted list maintaining the order."
     ]
    },
    {
     "cell_type": "code",
     "collapsed": false,
     "input": [
      "a_list = [1,2,4]\n",
      "bisect.insort_left(a_list, 3)\n",
      "a_list"
     ],
     "language": "python",
     "metadata": {},
     "outputs": [
      {
       "metadata": {},
       "output_type": "pyout",
       "prompt_number": 5,
       "text": [
        "[1, 2, 3, 4]"
       ]
      }
     ],
     "prompt_number": 5
    },
    {
     "cell_type": "markdown",
     "metadata": {},
     "source": [
      "<br>\n",
      "<br>"
     ]
    },
    {
     "cell_type": "heading",
     "level": 2,
     "metadata": {},
     "source": [
      "Approaches for inserting a value into a sorted list"
     ]
    },
    {
     "cell_type": "code",
     "collapsed": false,
     "input": [
      "def insert_sort(a_list, val):\n",
      "    a_list.append(val)\n",
      "    a_list.sort()\n",
      "    return None"
     ],
     "language": "python",
     "metadata": {},
     "outputs": [],
     "prompt_number": 4
    },
    {
     "cell_type": "code",
     "collapsed": false,
     "input": [
      "from bisect import bisect_left\n",
      "\n",
      "def bisect_insert(a_list, val):\n",
      "    a_list.insert(bisect_left(a_list, val), val)\n",
      "    return None"
     ],
     "language": "python",
     "metadata": {},
     "outputs": [],
     "prompt_number": 5
    },
    {
     "cell_type": "code",
     "collapsed": false,
     "input": [
      "from bisect import insort_left\n",
      "\n",
      "def bisect_insort(a_list, val):\n",
      "    insort_left(a_list, val)\n",
      "    return None"
     ],
     "language": "python",
     "metadata": {},
     "outputs": [],
     "prompt_number": 6
    },
    {
     "cell_type": "markdown",
     "metadata": {},
     "source": [
      "<br>\n",
      "<br>"
     ]
    },
    {
     "cell_type": "heading",
     "level": 2,
     "metadata": {},
     "source": [
      "`timeit` benchmark for integer lists"
     ]
    },
    {
     "cell_type": "code",
     "collapsed": false,
     "input": [
      "import timeit\n",
      "import random\n",
      "\n",
      "random.seed(123)\n",
      "a_list = [random.randrange(0, 1000) for i in range(50)]\n",
      "a_list.sort()\n",
      "b_list = a_list[:]\n",
      "c_list = a_list[:]\n",
      "\n",
      "insert_int = [] # for timeit results\n",
      "\n",
      "random.seed(123)\n",
      "insert_int.append(min(timeit.Timer('insert_sort(a_list, random.randrange(0, 1000))', \n",
      "            'from __main__ import insert_sort, a_list, random').repeat(repeat=3, number=10000)))\n",
      "\n",
      "random.seed(123)\n",
      "insert_int.append(min(timeit.Timer('bisect_insert(b_list, random.randrange(0, 1000))', \n",
      "            'from __main__ import bisect_insert, b_list, random').repeat(repeat=3, number=10000)))\n",
      "\n",
      "random.seed(123)\n",
      "insert_int.append(min(timeit.Timer('bisect_insort(c_list, random.randrange(0, 1000))', \n",
      "            'from __main__ import bisect_insort, c_list, random').repeat(repeat=3, number=10000)))"
     ],
     "language": "python",
     "metadata": {},
     "outputs": [],
     "prompt_number": 7
    },
    {
     "cell_type": "heading",
     "level": 4,
     "metadata": {},
     "source": [
      "Checking that all implementations produced similar results"
     ]
    },
    {
     "cell_type": "code",
     "collapsed": false,
     "input": [
      "assert(a_list[:] == b_list[:] == c_list[:])\n",
      "print('ok')"
     ],
     "language": "python",
     "metadata": {},
     "outputs": [
      {
       "output_type": "stream",
       "stream": "stdout",
       "text": [
        "ok\n"
       ]
      }
     ],
     "prompt_number": 8
    },
    {
     "cell_type": "markdown",
     "metadata": {},
     "source": [
      "<br>\n",
      "<br>"
     ]
    },
    {
     "cell_type": "heading",
     "level": 2,
     "metadata": {},
     "source": [
      "`timeit` benchmark for \"string\" lists"
     ]
    },
    {
     "cell_type": "heading",
     "level": 4,
     "metadata": {},
     "source": [
      "Random String Generator"
     ]
    },
    {
     "cell_type": "code",
     "collapsed": false,
     "input": [
      "import string\n",
      "\n",
      "def rand_string(length):\n",
      "    \"\"\" Generates a random string of numbers, lower- and uppercase chars. \"\"\"\n",
      "    return ''.join(random.choice(\n",
      "            string.ascii_lowercase + string.ascii_uppercase + string.digits) \n",
      "                   for i in range(length)\n",
      "            )\n",
      "\n",
      "print(\"Example:\", rand_string(length=8))"
     ],
     "language": "python",
     "metadata": {},
     "outputs": [
      {
       "output_type": "stream",
       "stream": "stdout",
       "text": [
        "Example: WEbg6EQl\n"
       ]
      }
     ],
     "prompt_number": 9
    },
    {
     "cell_type": "code",
     "collapsed": false,
     "input": [
      "import timeit\n",
      "import random\n",
      "\n",
      "a_list = [rand_string(4) for i in range(50)]\n",
      "a_list.sort()\n",
      "b_list = a_list[:]\n",
      "c_list = a_list[:]\n",
      "\n",
      "insert_str = [] # for timeit results\n",
      "\n",
      "random.seed(123)\n",
      "insert_str.append(min(timeit.Timer('insert_sort(a_list, rand_string(4))', \n",
      "            'from __main__ import insert_sort, a_list, rand_string').repeat(repeat=3, number=10000)))\n",
      "\n",
      "random.seed(123)\n",
      "insert_str.append(min(timeit.Timer('bisect_insert(b_list, rand_string(4))', \n",
      "            'from __main__ import bisect_insert, b_list, rand_string').repeat(repeat=3, number=10000)))\n",
      "\n",
      "random.seed(123)\n",
      "insert_str.append(min(timeit.Timer('bisect_insort(c_list, rand_string(4))', \n",
      "            'from __main__ import bisect_insort, c_list, rand_string').repeat(repeat=3, number=10000)))"
     ],
     "language": "python",
     "metadata": {},
     "outputs": [],
     "prompt_number": 10
    },
    {
     "cell_type": "heading",
     "level": 4,
     "metadata": {},
     "source": [
      "Check that all implementations produced similar results"
     ]
    },
    {
     "cell_type": "code",
     "collapsed": false,
     "input": [
      "assert(a_list[:] == b_list[:] == c_list[:])\n",
      "print('ok')"
     ],
     "language": "python",
     "metadata": {},
     "outputs": [
      {
       "output_type": "stream",
       "stream": "stdout",
       "text": [
        "ok\n"
       ]
      }
     ],
     "prompt_number": 11
    },
    {
     "cell_type": "markdown",
     "metadata": {},
     "source": [
      "<br>\n",
      "<br>"
     ]
    },
    {
     "cell_type": "heading",
     "level": 2,
     "metadata": {},
     "source": [
      "Preparing to plot the results"
     ]
    },
    {
     "cell_type": "code",
     "collapsed": false,
     "input": [
      "import platform\n",
      "import multiprocessing\n",
      "\n",
      "def print_sysinfo():\n",
      "    \n",
      "    print('\\nPython version  :', platform.python_version())\n",
      "    print('compiler        :', platform.python_compiler())\n",
      "    \n",
      "    print('\\nsystem     :', platform.system())\n",
      "    print('release    :', platform.release())\n",
      "    print('machine    :', platform.machine())\n",
      "    print('processor  :', platform.processor())\n",
      "    print('CPU count  :', multiprocessing.cpu_count())\n",
      "    print('interpreter:', platform.architecture()[0])\n",
      "    print('\\n\\n')"
     ],
     "language": "python",
     "metadata": {},
     "outputs": [],
     "prompt_number": 12
    },
    {
     "cell_type": "code",
     "collapsed": false,
     "input": [
      "%matplotlib inline"
     ],
     "language": "python",
     "metadata": {},
     "outputs": [],
     "prompt_number": 13
    },
    {
     "cell_type": "code",
     "collapsed": false,
     "input": [
      "import matplotlib.pyplot as plt\n",
      "\n",
      "def plot():\n",
      "\n",
      "    f, (ax1, ax2) = plt.subplots(1, 2, figsize=(10,5))\n",
      "\n",
      "    \n",
      "    bar_labels = ['.insert() + .sort()', \n",
      "                  'bisect_left() + .insert()', \n",
      "                  'bisect_insort()'\n",
      "                  ]\n",
      "    bar_width = 0.5\n",
      "    bar_left = [i+1 for i in range(len(insert_int))] \n",
      "    tick_pos = [i+(bar_width/2) for i in bar_left] \n",
      "    plt.grid()\n",
      "    \n",
      "    ax1.bar(bar_left, insert_int, width=bar_width,\n",
      "            alpha=0.5, color='b', label='integer list')\n",
      "\n",
      "    \n",
      "    plt.xlim([min(tick_pos)-bar_width, max(tick_pos)+bar_width])\n",
      "    \n",
      "    plt.setp(plt.gca().get_xticklabels(), rotation=45, \n",
      "             horizontalalignment='right')\n",
      "    \n",
      "    plt.sca(ax1)\n",
      "    plt.xticks(tick_pos, bar_labels)\n",
      "\n",
      "    ax1.set_ylabel(\"time in milliseconds for 1000 iterations and 3 repititions\")\n",
      "    ax1.set_xlabel(\"\")\n",
      "    \n",
      "    \n",
      "    ax2.bar(bar_left, insert_str, width=bar_width,\n",
      "            alpha=0.5, color='g', label='string list')\n",
      "    \n",
      "    plt.xlim([min(tick_pos)-bar_width, max(tick_pos)+bar_width])\n",
      "    plt.grid()\n",
      "    plt.setp(plt.gca().get_xticklabels(), rotation=45, \n",
      "             horizontalalignment='right')\n",
      "\n",
      "    plt.sca(ax2)\n",
      "    plt.xticks(tick_pos, bar_labels)\n",
      "\n",
      "    ax2.set_ylabel(\"time in milliseconds for 1000 iterations and 3 repititions\")\n",
      "    ax2.set_xlabel(\"\")\n",
      "    plt.ylim([0,2.2])\n",
      "    \n",
      "    handles, labels = ax1.get_legend_handles_labels()\n",
      "    ax1.legend(handles, labels)\n",
      "    handles, labels = ax2.get_legend_handles_labels()\n",
      "    ax2.legend(handles, labels)\n",
      "    \n",
      "    plt.suptitle('Inserting new values into a sorted list', fontsize=18)\n",
      "    plt.show()"
     ],
     "language": "python",
     "metadata": {},
     "outputs": [],
     "prompt_number": 16
    },
    {
     "cell_type": "markdown",
     "metadata": {},
     "source": [
      "<br>\n",
      "<br>"
     ]
    },
    {
     "cell_type": "heading",
     "level": 1,
     "metadata": {},
     "source": [
      "Results"
     ]
    },
    {
     "cell_type": "code",
     "collapsed": false,
     "input": [
      "plot()\n",
      "print_sysinfo()"
     ],
     "language": "python",
     "metadata": {},
     "outputs": [
      {
       "metadata": {},
       "output_type": "display_data",
       "png": "[encoded data removed]",
       "text": [
        "<matplotlib.figure.Figure at 0x1069f02e8>"
       ]
      },
      {
       "output_type": "stream",
       "stream": "stdout",
       "text": [
        "\n",
        "Python version  : 3.4.1\n",
        "compiler        : GCC 4.2.1 (Apple Inc. build 5577)\n",
        "\n",
        "system     : Darwin\n",
        "release    : 13.2.0\n",
        "machine    : x86_64\n",
        "processor  : i386\n",
        "CPU count  : 4\n",
        "interpreter: 64bit\n",
        "\n",
        "\n",
        "\n"
       ]
      }
     ],
     "prompt_number": 17
    }
   ],
   "metadata": {}
  }
 ]
}