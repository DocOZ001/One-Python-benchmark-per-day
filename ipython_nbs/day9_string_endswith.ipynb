{
 "metadata": {
  "name": "",
  "signature": "sha256:ce571fab84fcdf8589c00378f750c4c3214e1054e23c0758737569fbc0bc6974"
 },
 "nbformat": 3,
 "nbformat_minor": 0,
 "worksheets": [
  {
   "cells": [
    {
     "cell_type": "markdown",
     "metadata": {},
     "source": [
      "[Sebastian Raschka](http://sebastianraschka.com)  \n",
      "last updated: 05/29/2014\n",
      "\n",
      "- [Open in IPython nbviewer](http://nbviewer.ipython.org/github/rasbt/One-Python-benchmark-per-day/blob/master/ipython_nbs/day9_string_endswith.ipynb?create=1)  \n",
      "\n",
      "- [Link to this IPython notebook on Github](https://github.com/rasbt/One-Python-benchmark-per-day/blob/master/ipython_nbs/day9_string_endswith.ipynb)  \n",
      "\n",
      "- [Link to the GitHub Repository One-Python-benchmark-per-day](https://github.com/rasbt/One-Python-benchmark-per-day)\n"
     ]
    },
    {
     "cell_type": "markdown",
     "metadata": {},
     "source": [
      "<hr>\n",
      "I would be happy to hear your comments and suggestions.  \n",
      "Please feel free to drop me a note via\n",
      "[twitter](https://twitter.com/rasbt), [email](mailto:bluewoodtree@gmail.com), or [google+](https://plus.google.com/118404394130788869227).\n",
      "<hr>"
     ]
    },
    {
     "cell_type": "markdown",
     "metadata": {},
     "source": [
      "# Day 9 - One Python Benchmark per Day"
     ]
    },
    {
     "cell_type": "markdown",
     "metadata": {},
     "source": [
      "## The most Pythonic way to check if a string ends with a particular substring"
     ]
    },
    {
     "cell_type": "markdown",
     "metadata": {},
     "source": [
      "<br>\n",
      "**[-> skip to the results](#Results)**\n",
      "<br>"
     ]
    },
    {
     "cell_type": "markdown",
     "metadata": {},
     "source": [
      "<br>\n",
      "<br>"
     ]
    },
    {
     "cell_type": "markdown",
     "metadata": {},
     "source": [
      "This benchmark was inspired by the article [\"A Nice Little Bit of Python\"](http://www.jeffknupp.com/blog/2014/05/28/a-nice-little-bit-of-python) for finding the most elegant way to determine if a string ends with a particular substring.  \n",
      "There is the \"old-fashioned\" way using a sequence of \"`or`\"s, e.g.,\n",
      "\n",
      "    if needle.endswith('ly') or needle.endswith('ed') or\\\n",
      "        needle.endswith('ing') or needle.endswith('ers'):\n",
      "        print('Is valid')\n",
      "    else:\n",
      "        print('Invalid')"
     ]
    },
    {
     "cell_type": "markdown",
     "metadata": {},
     "source": [
      "Or the more elegant way using a list comprehension that was suggested by the author:\n",
      "\n",
      "    if any([needle.endswith(e) for e in ('ly', 'ed', 'ing', 'ers')]):\n",
      "        print('Is valid')\n",
      "    else:\n",
      "        print('Invalid')"
     ]
    },
    {
     "cell_type": "markdown",
     "metadata": {},
     "source": [
      "However, there are two even better solutions. One would be replacing the list comprehension by a generator, and my favorite one: feeding a tuple to the `.endswith()` method. See the different implementations below:"
     ]
    },
    {
     "cell_type": "markdown",
     "metadata": {},
     "source": [
      "<br>\n",
      "<br>"
     ]
    },
    {
     "cell_type": "heading",
     "level": 2,
     "metadata": {},
     "source": [
      "Functions for checking if a string ends with a substring"
     ]
    },
    {
     "cell_type": "code",
     "collapsed": false,
     "input": [
      "from re import search as re_search\n",
      "\n",
      "def old_fashioned(needle):\n",
      "    return bool(needle.endswith('ly') or needle.endswith('ed') or\\\n",
      "        needle.endswith('ing') or needle.endswith('ers'))\n",
      "\n",
      "def list_comprehension(needle):\n",
      "    return bool(any([needle.endswith(e) for e in ('ly', 'ed', 'ing', 'ers')]))\n",
      "        \n",
      "def generator(needle):\n",
      "    return bool(any(needle.endswith(e) for e in ('ly', 'ed', 'ing', 'ers')))\n",
      "\n",
      "def endswith_tuple(needle):\n",
      "    return bool(needle.endswith(('ly', 'ed', 'ing', 'ers')))\n",
      "\n",
      "def regexpr(needle):\n",
      "     return bool(re_search(r'(?:ly|ed|ing|ers)$', needle))\n",
      "    \n",
      "def map_func(needle):\n",
      "    return any(map(needle.endswith, ('ly', 'ed', 'ing', 'ers')))"
     ],
     "language": "python",
     "metadata": {},
     "outputs": [],
     "prompt_number": 1
    },
    {
     "cell_type": "markdown",
     "metadata": {},
     "source": [
      "<br>\n",
      "**Quick note on why I am importing `re.search` as `re_search`:   \n",
      "To decrease the overhead for the lookup.**"
     ]
    },
    {
     "cell_type": "code",
     "collapsed": false,
     "input": [
      "import re\n",
      "\n",
      "%timeit re_search(r'(?:ly|ed|ing|ers)$', 'needlers')\n",
      "%timeit re.search(r'(?:ly|ed|ing|ers)$', 'needlers')"
     ],
     "language": "python",
     "metadata": {},
     "outputs": [
      {
       "output_type": "stream",
       "stream": "stdout",
       "text": [
        "1000000 loops, best of 3: 1.34 \u00b5s per loop\n",
        "1000000 loops, best of 3: 1.46 \u00b5s per loop"
       ]
      },
      {
       "output_type": "stream",
       "stream": "stdout",
       "text": [
        "\n"
       ]
      }
     ],
     "prompt_number": 2
    },
    {
     "cell_type": "markdown",
     "metadata": {},
     "source": [
      "<br>\n",
      "**And also, in this particular case compiling the regular expression does not come with a speed-up,   rather the oppsite:**"
     ]
    },
    {
     "cell_type": "code",
     "collapsed": false,
     "input": [
      "import re\n",
      "\n",
      "needle = 'needlers'\n",
      "regex_comp = re.compile(r'(?:ly|ed|ing|ers)$')\n",
      "\n",
      "%timeit bool(re.search(regex_comp, needle))\n",
      "%timeit bool(re.search(r'(?:ly|ed|ing|ers)$', needle))"
     ],
     "language": "python",
     "metadata": {},
     "outputs": [
      {
       "output_type": "stream",
       "stream": "stdout",
       "text": [
        "100000 loops, best of 3: 2.47 \u00b5s per loop\n",
        "1000000 loops, best of 3: 1.71 \u00b5s per loop"
       ]
      },
      {
       "output_type": "stream",
       "stream": "stdout",
       "text": [
        "\n"
       ]
      }
     ],
     "prompt_number": 3
    },
    {
     "cell_type": "markdown",
     "metadata": {},
     "source": [
      "<br>\n",
      "<br>"
     ]
    },
    {
     "cell_type": "heading",
     "level": 3,
     "metadata": {},
     "source": [
      "Verification that all functions work correcltly"
     ]
    },
    {
     "cell_type": "code",
     "collapsed": false,
     "input": [
      "funcs = [old_fashioned, list_comprehension, \n",
      "         generator, endswith_tuple, \n",
      "         regexpr, map_func\n",
      "        ]"
     ],
     "language": "python",
     "metadata": {},
     "outputs": [],
     "prompt_number": 5
    },
    {
     "cell_type": "code",
     "collapsed": false,
     "input": [
      "for f in funcs:\n",
      "    assert(f('neeeeedly') == True), f.__name__\n",
      "    assert(f('neeeeedlee') == False), f.__name__\n",
      "    assert(f('nelyeedlee') == False), f.__name__\n",
      "print('All functions work correctly.')"
     ],
     "language": "python",
     "metadata": {},
     "outputs": [
      {
       "output_type": "stream",
       "stream": "stdout",
       "text": [
        "All functions work correctly.\n"
       ]
      }
     ],
     "prompt_number": 6
    },
    {
     "cell_type": "markdown",
     "metadata": {},
     "source": [
      "<br>\n",
      "<br>"
     ]
    },
    {
     "cell_type": "heading",
     "level": 2,
     "metadata": {},
     "source": [
      "Timing"
     ]
    },
    {
     "cell_type": "code",
     "collapsed": false,
     "input": [
      "import timeit\n",
      "\n",
      "test_cases = [\"neeeeedly\", \"neeeeedlers\", \"neeeeedlee\", ]\n",
      "times_n = {f.__name__:[] for f in funcs}\n",
      "\n",
      "for t in test_cases:\n",
      "    for f in funcs:\n",
      "        f = f.__name__\n",
      "        times_n[f].append(min(timeit.Timer('%s(t)' %f, \n",
      "                      'from __main__ import %s, t' %f)\n",
      "                              .repeat(repeat=500, number=1000)))"
     ],
     "language": "python",
     "metadata": {},
     "outputs": [],
     "prompt_number": 9
    },
    {
     "cell_type": "code",
     "collapsed": false,
     "input": [
      "import platform\n",
      "import multiprocessing\n",
      "\n",
      "def print_sysinfo():\n",
      "    \n",
      "    print('\\nPython version  :', platform.python_version())\n",
      "    print('compiler        :', platform.python_compiler())\n",
      "\n",
      "    print('\\nsystem          :', platform.system())\n",
      "    print('release         :', platform.release())\n",
      "    print('machine         :', platform.machine())\n",
      "    print('processor       :', platform.processor())\n",
      "    print('CPU count       :', multiprocessing.cpu_count())\n",
      "    print('interpreter     :', platform.architecture()[0])\n",
      "    print('\\n\\n')"
     ],
     "language": "python",
     "metadata": {},
     "outputs": [],
     "prompt_number": 10
    },
    {
     "cell_type": "code",
     "collapsed": false,
     "input": [
      "%matplotlib inline"
     ],
     "language": "python",
     "metadata": {},
     "outputs": [],
     "prompt_number": 11
    },
    {
     "cell_type": "code",
     "collapsed": false,
     "input": [
      "from numpy import arange\n",
      "import matplotlib.pyplot as plt\n",
      "\n",
      "def plot():\n",
      "\n",
      "    labels = [('old_fashioned','needle.endswith(\"ly\") or needle.endswith(\"ed\") or ...'),\n",
      "          ('list_comprehension', 'any([needle.endswith(e) for e in (\"ly\", \"ed\", ...)])'),\n",
      "          ('generator', 'any(needle.endswith(e) for e in (\"ly\", \"ed\", ...))'),\n",
      "          ('regexpr', 're.search(r\"(?:ly|ed|ing|ers)$\", needle)'),\n",
      "          ('map_func', 'any(map(needle.endswith, (\"ly\", \"ed\", \"ing\", \"ers\")))'),\n",
      "          ('endswith_tuple', 'needle.endswith((\"ly\", \"ed\", \"ing\", \"ers\"))'),\n",
      "          \n",
      "          ]\n",
      "\n",
      "    x_labels = ['True (first match): \"neeeeedly\"',\n",
      "                'True (first match): \"neeeeedlers\"',\n",
      "                'False: \"neeeeedlee\"'\n",
      "                ]\n",
      "            \n",
      "\n",
      "    ind = arange(len(test_cases))  # the x locations for the groups\n",
      "    width = 0.12\n",
      "\n",
      "    fig = plt.figure(figsize=(14,8))\n",
      "    ax = fig.add_subplot(111)\n",
      "    colors = [(0,'c'), (1,'b'), (2,'g'), (3,'r'), (4,'y'), (5,'m')]\n",
      "    \n",
      "    for l,c in zip(labels,colors):\n",
      "        ax.bar(ind + c[0]*width,\n",
      "            times_n[l[0]], \n",
      "            width,\n",
      "            alpha=0.5,\n",
      "            color=c[1],\n",
      "            label=l[1]\n",
      "        )\n",
      "\n",
      "    ax.set_ylabel('execution time in microseconds', fontsize=16)\n",
      "    ax.set_title('Methods for determening if a string '\\\n",
      "                 'ends with a particular substring',\n",
      "                 fontsize=18)\n",
      "    ax.set_xticks(ind + width + 0.24)\n",
      "    ax.set_xticklabels(x_labels)\n",
      "    leg = ax.legend(loc='upper left', bbox_to_anchor = (0.85, 1.0))\n",
      "    plt.xlim([-0.2, 3.0])\n",
      "    plt.show()"
     ],
     "language": "python",
     "metadata": {},
     "outputs": [],
     "prompt_number": 13
    },
    {
     "cell_type": "markdown",
     "metadata": {},
     "source": [
      "<br>\n",
      "<br>"
     ]
    },
    {
     "cell_type": "heading",
     "level": 1,
     "metadata": {},
     "source": [
      "Results"
     ]
    },
    {
     "cell_type": "code",
     "collapsed": false,
     "input": [
      "print_sysinfo()\n",
      "plot()"
     ],
     "language": "python",
     "metadata": {},
     "outputs": [
      {
       "output_type": "stream",
       "stream": "stdout",
       "text": [
        "\n",
        "Python version  : 3.4.0\n",
        "compiler        : GCC 4.2.1 (Apple Inc. build 5577)\n",
        "\n",
        "system          :"
       ]
      },
      {
       "output_type": "stream",
       "stream": "stdout",
       "text": [
        " Darwin\n",
        "release         : 13.2.0\n",
        "machine         : x86_64\n",
        "processor       : i386\n",
        "CPU count       : 4\n",
        "interpreter     : 64bit\n",
        "\n",
        "\n",
        "\n"
       ]
      },
      {
       "metadata": {},
       "output_type": "display_data",
       "png": "[encoded data removed]",
       "text": [
        "<matplotlib.figure.Figure at 0x10655e128>"
       ]
      }
     ],
     "prompt_number": 14
    },
    {
     "cell_type": "markdown",
     "metadata": {},
     "source": [
      "<br>\n",
      "<br>"
     ]
    },
    {
     "cell_type": "heading",
     "level": 3,
     "metadata": {},
     "source": [
      "Conclusion"
     ]
    },
    {
     "cell_type": "markdown",
     "metadata": {},
     "source": [
      "Clearly, the most elegant and Pythonic way of determining if a string ends with a particular substring is also the most efficient one!"
     ]
    }
   ],
   "metadata": {}
  }
 ]
}