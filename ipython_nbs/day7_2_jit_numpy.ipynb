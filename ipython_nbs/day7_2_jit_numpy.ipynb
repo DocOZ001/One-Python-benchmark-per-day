{
 "metadata": {
  "name": "",
  "signature": "sha256:a2214ce93a689c0fd570fd21c0142fd7018d6f075231d956b76237c99aa69b81"
 },
 "nbformat": 3,
 "nbformat_minor": 0,
 "worksheets": [
  {
   "cells": [
    {
     "cell_type": "markdown",
     "metadata": {},
     "source": [
      "[Sebastian Raschka](http://sebastianraschka.com)  \n",
      "last updated: 05/21/2014\n",
      "\n",
      "- [Open in IPython nbviewer](http://nbviewer.ipython.org/github/rasbt/One-Python-benchmark-per-day/blob/master/ipython_nbs/day7_2_jit_numpy?create=1)  \n",
      "- [Link to this IPython notebook on Github](https://github.com/rasbt/One-Python-benchmark-per-day/blob/master/ipython_nbs/day7_2_jit_numpy.ipynb)  \n",
      "- [Link to the GitHub Repository One-Python-benchmark-per-day](https://github.com/rasbt/One-Python-benchmark-per-day)\n"
     ]
    },
    {
     "cell_type": "markdown",
     "metadata": {},
     "source": [
      "<hr>\n",
      "I would be happy to hear your comments and suggestions.  \n",
      "Please feel free to drop me a note via\n",
      "[twitter](https://twitter.com/rasbt), [email](mailto:bluewoodtree@gmail.com), or [google+](https://plus.google.com/118404394130788869227).\n",
      "<hr>"
     ]
    },
    {
     "cell_type": "markdown",
     "metadata": {},
     "source": [
      "# Day 7.2 - One Python Benchmark per Day"
     ]
    },
    {
     "cell_type": "markdown",
     "metadata": {},
     "source": [
      "## Using just-in-time compilers for speeding up NumPy array expressions"
     ]
    },
    {
     "cell_type": "markdown",
     "metadata": {},
     "source": [
      "<br>\n",
      "<br>"
     ]
    },
    {
     "cell_type": "markdown",
     "metadata": {},
     "source": [
      "This is a follow-up to day 7, where I compared NumPy with Numexpr for various different operators. Now, I only want focus on one expression that was listed in the [Numexpr documentation](https://github.com/pydata/numexpr/blob/master/README.rst) (which supposedly show off its strengths), and compare the performance of Numexpr to the two other JIT (just-in-time) compilers Numba and parakeet."
     ]
    },
    {
     "cell_type": "markdown",
     "metadata": {},
     "source": [
      "###Numexpr \n",
      "\n",
      "[Numexpr](https://pypi.python.org/pypi/numexpr/2.4) is a \"fast numerical expression evaluator for NumPy\". It has a internal Virtual Machine to rewrite code more efficiently by breaking down operations into smaller chunks for the CPU cache. By using a JIT (just-in-time compiler), compilation at runtime is not necessary.\n",
      "\n",
      "\n",
      "\n",
      "The usage is quite simple, we just have to provide the numerical expression that we want to evaluate as a string to the `evaluate` function, e.g., \n",
      "\n",
      "    import numexpr\n",
      "    import numpy\n",
      "    a = numpy.array([[1, 2]])\n",
      "    numexpr.evaluate('a ** 2')\n",
      "    >> array([[1, 4]], dtype=int64)"
     ]
    },
    {
     "cell_type": "markdown",
     "metadata": {},
     "source": [
      "###Numba\n",
      "\n",
      "Numba is using the [LLVM compiler infrastructure](http://llvm.org) for compiling Python code to machine code. Its strength is to work with NumPy arrays to speed-up the code. If you want to read more about Numba, please see refer to the original [website and documentation](http://numba.pydata.org/numba-doc/0.13/index.html)."
     ]
    },
    {
     "cell_type": "markdown",
     "metadata": {},
     "source": [
      "### parakeet\n",
      "Similar to Numba,  [parakeet](http://www.parakeetpython.com) is a Python compiler that optimizes the runtime of numerical computations based on the NumPy data types, such as NumPy arrays.\n",
      "\n",
      "The usage is also similar to Numba where we just have to put the `jit` decorator on top of the function we want to optimize."
     ]
    },
    {
     "cell_type": "markdown",
     "metadata": {},
     "source": [
      "<hr>\n",
      "**-> [skip to the results](#Results)**\n",
      "<hr>"
     ]
    },
    {
     "cell_type": "markdown",
     "metadata": {},
     "source": [
      "** For this benchmark, we will compare different arithmetic operators for simple matrix calculations using NumPy arrays to their Numexpr equivalents. **\n",
      "<br>\n",
      "<br>"
     ]
    },
    {
     "cell_type": "code",
     "collapsed": false,
     "input": [
      "import numpy as np\n",
      "import numexpr as ne\n",
      "from numba import jit as numba_jit\n",
      "from parakeet import jit as para_jit"
     ],
     "language": "python",
     "metadata": {},
     "outputs": [],
     "prompt_number": 1
    },
    {
     "cell_type": "markdown",
     "metadata": {},
     "source": [
      "<br>\n",
      "<br>"
     ]
    },
    {
     "cell_type": "code",
     "collapsed": false,
     "input": [
      "def numpy_complex_expr(A, B):\n",
      "    return(A*B-4.1*A > 2.5*B)"
     ],
     "language": "python",
     "metadata": {},
     "outputs": [],
     "prompt_number": 2
    },
    {
     "cell_type": "code",
     "collapsed": false,
     "input": [
      "def numexpr_complex_expr(A, B):\n",
      "    return ne.evaluate('A*B-4.1*A > 2.5*B')"
     ],
     "language": "python",
     "metadata": {},
     "outputs": [],
     "prompt_number": 3
    },
    {
     "cell_type": "code",
     "collapsed": false,
     "input": [
      "@numba_jit\n",
      "def numba_complex_expr(A, B):\n",
      "    return A*B-4.1*A > 2.5*B"
     ],
     "language": "python",
     "metadata": {},
     "outputs": [],
     "prompt_number": 4
    },
    {
     "cell_type": "code",
     "collapsed": false,
     "input": [
      "@para_jit\n",
      "def parakeet_complex_expr(A, B):\n",
      "    return A*B-4.1*A > 2.5*B"
     ],
     "language": "python",
     "metadata": {},
     "outputs": [],
     "prompt_number": 5
    },
    {
     "cell_type": "markdown",
     "metadata": {},
     "source": [
      "<br>\n",
      "<br>"
     ]
    },
    {
     "cell_type": "markdown",
     "metadata": {},
     "source": [
      "# Timing"
     ]
    },
    {
     "cell_type": "code",
     "collapsed": false,
     "input": [
      "import timeit\n",
      "\n",
      "orders_n = [10**n for n in range(1, 5)]\n",
      "\n",
      "funcs = ['numpy_complex_expr', 'numexpr_complex_expr', \n",
      "         'numba_complex_expr', 'parakeet_complex_expr'\n",
      "        ]\n",
      "\n",
      "timings = {f:[] for f in funcs}\n",
      "\n",
      "for n in orders_n:\n",
      "    for f in funcs:\n",
      "        A = np.random.rand(n,n)\n",
      "        B = np.random.rand(n,n)\n",
      "        timings[f].append(min(timeit.Timer('%s(A, B)' %f, \n",
      "                      'from __main__ import A, B, %s' %f)\n",
      "                              .repeat(repeat=3, number=10)))"
     ],
     "language": "python",
     "metadata": {},
     "outputs": [],
     "prompt_number": 7
    },
    {
     "cell_type": "markdown",
     "metadata": {},
     "source": [
      "<br>\n",
      "<br>"
     ]
    },
    {
     "cell_type": "markdown",
     "metadata": {},
     "source": [
      "## Setting up plots"
     ]
    },
    {
     "cell_type": "code",
     "collapsed": false,
     "input": [
      "import platform\n",
      "from llvm import __version__ as llvm__version__\n",
      "from parakeet import __version__ as parakeet__version__\n",
      "from numba import __version__ as numba__version__\n",
      "\n",
      "def print_sysinfo():\n",
      "    print '\\nsystem   :', platform.system()\n",
      "    print 'release  :', platform.release()\n",
      "    print 'machine  :', platform.machine()\n",
      "    print 'processor:', platform.processor()\n",
      "    print 'interpreter:', platform.architecture()[0]\n",
      "\n",
      "    print '\\nPython version', platform.python_version()\n",
      "    print 'compiler', platform.python_compiler()\n",
      "    print 'NumPy version', np.__version__\n",
      "    print 'Numexpr version', ne.__version__\n",
      "    print 'parakeet version', parakeet__version__\n",
      "    print 'Numba version', numba__version__\n",
      "    print 'llvm version', llvm__version__\n",
      "    print '\\n\\n'"
     ],
     "language": "python",
     "metadata": {},
     "outputs": [],
     "prompt_number": 39
    },
    {
     "cell_type": "code",
     "collapsed": false,
     "input": [
      "import prettytable\n",
      "\n",
      "def summary_table(funcs):\n",
      "    fit_table = prettytable.PrettyTable(['n=%s' %orders_n[-1], \n",
      "                                         'function' ,\n",
      "                                         'rel. performance gain'])\n",
      "    fit_table.align['Numexpr function'] = 'l'\n",
      "    for f in funcs:\n",
      "        fit_table.add_row(['', f, '{:.2f}x'.format(\n",
      "            (timings['numpy_complex_expr'][-1]/timings[f][-1]))])\n",
      "    print(fit_table)"
     ],
     "language": "python",
     "metadata": {},
     "outputs": [],
     "prompt_number": 44
    },
    {
     "cell_type": "code",
     "collapsed": false,
     "input": [
      "%matplotlib inline"
     ],
     "language": "python",
     "metadata": {},
     "outputs": [],
     "prompt_number": 45
    },
    {
     "cell_type": "code",
     "collapsed": false,
     "input": [
      "import matplotlib.pyplot as plt\n",
      "\n",
      "def plot_figures(funcs): \n",
      "    fig = plt.figure(figsize=(8,8))\n",
      "    for f in funcs:\n",
      "        plt.plot([i**2 for i in orders_n], [i*100 for i in timings[f]], \n",
      "                            alpha=0.5, label='%s' %f, marker='o')\n",
      "    plt.legend(loc='upper left')\n",
      "    plt.xscale('log')\n",
      "    plt.yscale('log')\n",
      "    plt.grid()\n",
      "    plt.xlabel('number of elements per matrix')\n",
      "    plt.ylabel('time in milliseconds')\n",
      "        \n",
      "    plt.show()"
     ],
     "language": "python",
     "metadata": {},
     "outputs": [],
     "prompt_number": 46
    },
    {
     "cell_type": "markdown",
     "metadata": {},
     "source": [
      "<br>\n",
      "<br>"
     ]
    },
    {
     "cell_type": "heading",
     "level": 1,
     "metadata": {},
     "source": [
      "Results"
     ]
    },
    {
     "cell_type": "code",
     "collapsed": false,
     "input": [
      "print_sysinfo()\n",
      "summary_table(funcs)\n",
      "plot_figures(funcs)"
     ],
     "language": "python",
     "metadata": {},
     "outputs": [
      {
       "output_type": "stream",
       "stream": "stdout",
       "text": [
        "\n",
        "system   : Darwin\n",
        "release  : 13.1.0\n",
        "machine  : x86_64\n",
        "processor: i386\n",
        "interpreter: "
       ]
      },
      {
       "output_type": "stream",
       "stream": "stdout",
       "text": [
        "64bit\n",
        "\n",
        "Python version 2.7.6\n",
        "compiler GCC 4.0.1 (Apple Inc. build 5493)\n",
        "NumPy version 1.8.1\n",
        "Numexpr version 2.4\n",
        "parakeet version 0.24\n",
        "Numba version 0.13.1\n",
        "llvm version 0.12.4\n",
        "\n",
        "\n",
        "\n",
        "+---------+-----------------------+-----------------------+\n",
        "| n=10000 |        function       | rel. performance gain |\n",
        "+---------+-----------------------+-----------------------+\n",
        "|         |   numpy_complex_expr  |         1.00x         |\n",
        "|         |  numexpr_complex_expr |         9.18x         |\n",
        "|         |   numba_complex_expr  |         1.02x         |\n",
        "|         | parakeet_complex_expr |         11.68x        |\n",
        "+---------+-----------------------+-----------------------+\n"
       ]
      },
      {
       "metadata": {},
       "output_type": "display_data",
       "png": "[encoded data removed]",
       "text": [
        "<matplotlib.figure.Figure at 0x196614d10>"
       ]
      }
     ],
     "prompt_number": 47
    },
    {
     "cell_type": "code",
     "collapsed": false,
     "input": [],
     "language": "python",
     "metadata": {},
     "outputs": []
    }
   ],
   "metadata": {}
  }
 ]
}