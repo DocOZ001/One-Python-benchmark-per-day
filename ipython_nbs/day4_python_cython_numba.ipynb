{
 "metadata": {
  "name": "",
  "signature": "sha256:a701147fd0b519448915a8d7f7baebad142d5d0d6730127591b8995d196aa72c"
 },
 "nbformat": 3,
 "nbformat_minor": 0,
 "worksheets": [
  {
   "cells": [
    {
     "cell_type": "markdown",
     "metadata": {},
     "source": [
      "[Sebastian Raschka](http://sebastianraschka.com)  \n",
      "last updated: 05/17/2014\n",
      "\n",
      "- [Open in IPython nbviewer](http://nbviewer.ipython.org/github/rasbt/One-Python-benchmark-per-day/blob/master/ipython_nbs/day4_python_cython_numba.ipynb?create=1)  \n",
      "- [Link to this IPython notebook on Github](https://github.com/rasbt/One-Python-benchmark-per-day/blob/master/ipython_nbs/day4_python_cython_numba.ipynb)  \n",
      "- [Link to the GitHub Repository One-Python-benchmark-per-day](https://github.com/rasbt/One-Python-benchmark-per-day)\n"
     ]
    },
    {
     "cell_type": "markdown",
     "metadata": {},
     "source": [
      "<hr>\n",
      "I would be happy to hear your comments and suggestions.  \n",
      "Please feel free to drop me a note via\n",
      "[twitter](https://twitter.com/rasbt), [email](mailto:bluewoodtree@gmail.com), or [google+](https://plus.google.com/118404394130788869227).\n",
      "<hr>"
     ]
    },
    {
     "cell_type": "markdown",
     "metadata": {},
     "source": [
      "# Day 4 - One Python Benchmark per Day"
     ]
    },
    {
     "cell_type": "markdown",
     "metadata": {},
     "source": [
      "## (C)Python vs. Cython vs. Numba"
     ]
    },
    {
     "cell_type": "markdown",
     "metadata": {},
     "source": [
      "<hr>\n",
      "**-> [skip to the results](#Results)**\n",
      "<hr>"
     ]
    },
    {
     "cell_type": "markdown",
     "metadata": {},
     "source": [
      "<br>\n",
      "<br>"
     ]
    },
    {
     "cell_type": "markdown",
     "metadata": {},
     "source": [
      "### Quick note about bubble sort"
     ]
    },
    {
     "cell_type": "markdown",
     "metadata": {},
     "source": [
      "I don't want to get into the details about sorting algorithms here, but there is a great report  \n",
      "[\"Sorting in the Presence of Branch Prediction and Caches - Fast Sorting on Modern Computers\"](https://www.cs.tcd.ie/publications/tech-reports/reports.05/TCD-CS-2005-57.pdf) written by Paul Biggar and David Gregg, where they describe and analyze elementary sorting algorithms in very nice detail (see chapter 4).   \n",
      "\n",
      "And for a quick reference, [this website](http://www.sorting-algorithms.com/bubble-sort) has a nice animation of this algorithm."
     ]
    },
    {
     "cell_type": "markdown",
     "metadata": {},
     "source": [
      "A long story short: The \"worst-case\" complexity of the bubble sort algorithm (i.e., \"Big-O\")  \n",
      " $\\Rightarrow \\pmb O(n^2)$"
     ]
    },
    {
     "cell_type": "markdown",
     "metadata": {},
     "source": [
      "<br>\n",
      "<br>"
     ]
    },
    {
     "cell_type": "markdown",
     "metadata": {},
     "source": [
      "### Bubble sort implemented in (C)Python"
     ]
    },
    {
     "cell_type": "code",
     "collapsed": false,
     "input": [
      "def python_bubblesort(a_list):\n",
      "    \"\"\" Plain Python implementation of bubble sort (sorts in place) \"\"\"\n",
      "    count = len(a_list)\n",
      "    for i in range(count):\n",
      "        for j in range(1, count):\n",
      "            if a_list[j] < a_list[j-1]:\n",
      "                a_list[j-1], a_list[j] = a_list[j], a_list[j-1]\n",
      "    return a_list"
     ],
     "language": "python",
     "metadata": {},
     "outputs": [],
     "prompt_number": 1
    },
    {
     "cell_type": "code",
     "collapsed": false,
     "input": [
      "import random\n",
      "random.seed(12345)\n",
      "\n",
      "l = [random.randint(1,100) for num in range(1, 100)]\n",
      "assert(sorted(l) == python_bubblesort(l))\n",
      "print('bubble sort works correctly')"
     ],
     "language": "python",
     "metadata": {},
     "outputs": [
      {
       "output_type": "stream",
       "stream": "stdout",
       "text": [
        "bubble sort works correctly\n"
       ]
      }
     ],
     "prompt_number": 2
    },
    {
     "cell_type": "markdown",
     "metadata": {},
     "source": [
      "<br>\n",
      "<br>"
     ]
    },
    {
     "cell_type": "markdown",
     "metadata": {},
     "source": [
      "### Bubble sort implemented in Cython"
     ]
    },
    {
     "cell_type": "markdown",
     "metadata": {},
     "source": [
      "Maybe we can speed things up a little bit via [Cython's C-extensions for Python](http://cython.org). Cython is basically a hybrid between C and Python and can be pictured as compiled Python code with type declarations.  \n",
      "Since we are working in an IPython notebook here, we can make use of the very convenient *IPython magic*: It will take care of the conversion to C code, the compilation, and eventually the loading of the function.  \n",
      "\n",
      "\n",
      "**If you want to know how to use Cython without the IPython magic, I have a short outline of the procedure [here](http://sebastianraschka.com/IPython_htmls/cython_least_squares.html#cython_bonus).**\n",
      "\n",
      "Note that the static type declarations that we add via `cdef` are note required for Cython to work, but it will speed things up tremendously."
     ]
    },
    {
     "cell_type": "code",
     "collapsed": false,
     "input": [
      "%load_ext cythonmagic"
     ],
     "language": "python",
     "metadata": {},
     "outputs": [],
     "prompt_number": 3
    },
    {
     "cell_type": "code",
     "collapsed": false,
     "input": [
      "%%cython\n",
      "cimport cython\n",
      "cpdef cython_bubblesort_notypes(a_list):\n",
      "    \"\"\" \n",
      "    The Python implementation of bubble sort compiled\n",
      "    via Cython without C type definitions.\n",
      "    \n",
      "    \"\"\"\n",
      "    count = len(a_list)\n",
      "    for i in range(count):\n",
      "        for j in range(1, count):\n",
      "            if a_list[j] < a_list[j-1]:\n",
      "                a_list[j-1], a_list[j] = a_list[j], a_list[j-1]\n",
      "    return a_list"
     ],
     "language": "python",
     "metadata": {},
     "outputs": [],
     "prompt_number": 4
    },
    {
     "cell_type": "code",
     "collapsed": false,
     "input": [
      "%%cython\n",
      "cimport cython\n",
      "cpdef cython_bubblesort_ctypes(a_list):\n",
      "    \"\"\" \n",
      "    Cython implementation of bubble sort with static\n",
      "    type declarations.\n",
      "    \n",
      "    \"\"\"\n",
      "    cdef int count, i, j # static type declarations\n",
      "    count = len(a_list)\n",
      "    for i in range(count):\n",
      "        for j in range(1, count):\n",
      "            if a_list[j] < a_list[j-1]:\n",
      "                a_list[j-1], a_list[j] = a_list[j], a_list[j-1]\n",
      "    return a_list"
     ],
     "language": "python",
     "metadata": {},
     "outputs": [],
     "prompt_number": 5
    },
    {
     "cell_type": "code",
     "collapsed": false,
     "input": [
      "%%cython\n",
      "cimport cython\n",
      "from libc.stdlib cimport malloc, free\n",
      "\n",
      "cpdef cython_bubblesort_clist(a_list):\n",
      "    \"\"\" \n",
      "    The Cython implementation of bubble sort with internal\n",
      "    conversion between Python list objects and C arrays.\n",
      "    \n",
      "    \"\"\"\n",
      "    cdef int *c_list\n",
      "    c_list = <int *>malloc(len(a_list)*cython.sizeof(int))\n",
      "    cdef int count, i, j # static type declarations\n",
      "    count = len(a_list)\n",
      "    \n",
      "    # convert Python list to C array\n",
      "    for i in range(count):\n",
      "        c_list[i] = a_list[i]\n",
      "\n",
      "    for i in range(count):\n",
      "        for j in range(1, count):\n",
      "            if c_list[j] < c_list[j-1]:\n",
      "                c_list[j-1], c_list[j] = c_list[j], c_list[j-1]\n",
      "\n",
      "    # convert C array back to Python list\n",
      "    for i in range(count):\n",
      "        a_list[i] = c_list[i]\n",
      "        \n",
      "    free(c_list)\n",
      "    return a_list"
     ],
     "language": "python",
     "metadata": {},
     "outputs": [],
     "prompt_number": 6
    },
    {
     "cell_type": "code",
     "collapsed": false,
     "input": [
      "%%cython\n",
      "import numpy as np\n",
      "cimport numpy as np\n",
      "cimport cython\n",
      "@cython.boundscheck(False) \n",
      "@cython.wraparound(False)\n",
      "cpdef cython_bubblesort_numpy(inp_ary):\n",
      "    \"\"\" The Cython implementation of Bubblesort with NumPy memoryview.\"\"\"\n",
      "    cdef unsigned long length, i, swapped, ele, temp\n",
      "    cdef long[:] np_ary = inp_ary\n",
      "    length = np_ary.shape[0]\n",
      "    swapped = 1\n",
      "    for i in range(0, length):\n",
      "        if swapped: \n",
      "            swapped = 0\n",
      "            for ele in range(0, length-i-1):\n",
      "                if np_ary[ele] > np_ary[ele + 1]:\n",
      "                    temp = np_ary[ele + 1]\n",
      "                    np_ary[ele + 1] = np_ary[ele]\n",
      "                    np_ary[ele] = temp\n",
      "                    swapped = 1\n",
      "    return inp_ary"
     ],
     "language": "python",
     "metadata": {},
     "outputs": [],
     "prompt_number": 7
    },
    {
     "cell_type": "markdown",
     "metadata": {},
     "source": [
      "<br>\n",
      "<br>"
     ]
    },
    {
     "cell_type": "markdown",
     "metadata": {},
     "source": [
      "### Bubble sort implemented in Numba"
     ]
    },
    {
     "cell_type": "markdown",
     "metadata": {},
     "source": [
      "Numba is using the [LLVM compiler infrastructure](http://llvm.org) for compiling Python code to machine code. Its strength is to work with NumPy arrays to speed-up the code. If you want to read more about Numba, please see refer to the original [website and documentation](http://numba.pydata.org/numba-doc/0.13/index.html)."
     ]
    },
    {
     "cell_type": "code",
     "collapsed": false,
     "input": [
      "from numba import jit\n",
      "@jit\n",
      "def numba_bubblesort(a_list):\n",
      "    \"\"\" Numba implementation of bubble sort (sorts in place) \"\"\"\n",
      "    count = len(a_list)\n",
      "    for i in range(count):\n",
      "        for j in range(1, count):\n",
      "            if a_list[j] < a_list[j-1]:\n",
      "                a_list[j-1], a_list[j] = a_list[j], a_list[j-1]\n",
      "    return a_list"
     ],
     "language": "python",
     "metadata": {},
     "outputs": [],
     "prompt_number": 8
    },
    {
     "cell_type": "code",
     "collapsed": false,
     "input": [
      "from numba import jit\n",
      "@jit\n",
      "def numba_bubblesort_numpy(np_ary):\n",
      "    \"\"\" \n",
      "    Numba implementation of bubble sort (sorts in place),\n",
      "    It is identical to numba_bubble_sort(), but we will feed\n",
      "    a numpy array type to this function.\n",
      "    \n",
      "    \"\"\"\n",
      "    count = np_ary.shape[0]\n",
      "    for i in range(count):\n",
      "        for j in range(1, count):\n",
      "            if np_ary[j] < np_ary[j-1]:\n",
      "                np_ary[j-1], np_ary[j] = np_ary[j], np_ary[j-1]\n",
      "    return np_ary"
     ],
     "language": "python",
     "metadata": {},
     "outputs": [],
     "prompt_number": 9
    },
    {
     "cell_type": "markdown",
     "metadata": {},
     "source": [
      "<br>\n",
      "<br>"
     ]
    },
    {
     "cell_type": "markdown",
     "metadata": {},
     "source": [
      "### Verifying that all implementations work correctly"
     ]
    },
    {
     "cell_type": "code",
     "collapsed": false,
     "input": [
      "import random\n",
      "import copy\n",
      "import numpy as np\n",
      "random.seed(12345)\n",
      "\n",
      "l = np.asarray([random.randint(1,1000) for num in range(1, 1000)])\n",
      "l_sorted = np.sort(l)\n",
      "for f in [python_bubblesort, cython_bubblesort_ctypes, \n",
      "          cython_bubblesort_notypes, cython_bubblesort_clist, \n",
      "          cython_bubblesort_numpy, numba_bubblesort, \n",
      "          numba_bubblesort_numpy]:\n",
      "    assert(l_sorted.all() == f(copy.copy(l)).all())\n",
      "print('Bubblesort works correctly')"
     ],
     "language": "python",
     "metadata": {},
     "outputs": [
      {
       "output_type": "stream",
       "stream": "stdout",
       "text": [
        "Bubblesort works correctly\n"
       ]
      }
     ],
     "prompt_number": 11
    },
    {
     "cell_type": "markdown",
     "metadata": {},
     "source": [
      "<br>\n",
      "<br>"
     ]
    },
    {
     "cell_type": "heading",
     "level": 2,
     "metadata": {},
     "source": [
      "Timing"
     ]
    },
    {
     "cell_type": "code",
     "collapsed": false,
     "input": [
      "import timeit\n",
      "import random\n",
      "import copy\n",
      "import numpy as np\n",
      "random.seed(4567)\n",
      "\n",
      "def make_copy(l):\n",
      "    return copy.deepcopy(l)\n",
      "\n",
      "funcs = ['python_bubblesort', 'numba_bubblesort', \n",
      "         'cython_bubblesort_notypes', 'cython_bubblesort_ctypes', \n",
      "         'cython_bubblesort_clist', 'cython_bubblesort_numpy', \n",
      "         'numba_bubblesort_numpy'\n",
      "         ]\n",
      "\n",
      "orders_n = [10**n for n in range(1, 5)]\n",
      "timings = {f:[] for f in funcs}\n",
      "\n",
      "\n",
      "for n in orders_n:\n",
      "    l = [np.random.randint(n) for num in range(n)]\n",
      "    for f in funcs:\n",
      "        l_copy = make_copy(l)\n",
      "        if f in ['numba_bubblesort_numpy', 'cython_bubblesort_numpy']:\n",
      "            l_copy = np.asarray(l_copy)\n",
      "        timings[f].append(min(timeit.Timer('%s(l_copy)' %f, \n",
      "                      'from __main__ import %s, l_copy' %f)\n",
      "                              .repeat(repeat=5, number=10)))"
     ],
     "language": "python",
     "metadata": {},
     "outputs": [],
     "prompt_number": 12
    },
    {
     "cell_type": "markdown",
     "metadata": {},
     "source": [
      "<br>\n",
      "<br>"
     ]
    },
    {
     "cell_type": "heading",
     "level": 2,
     "metadata": {},
     "source": [
      "Preparing plots"
     ]
    },
    {
     "cell_type": "code",
     "collapsed": false,
     "input": [
      "import platform\n",
      "import multiprocessing\n",
      "from llvm import __version__ as llvm__version__\n",
      "from numba import __version__ as numba__version__\n",
      "\n",
      "def print_sysinfo():\n",
      "    \n",
      "    print('\\nPython version:', platform.python_version())\n",
      "    print('compiler        :', platform.python_compiler())\n",
      "    print('NumPy version   :', np.__version__)\n",
      "    print('Numba version   :', numba__version__)\n",
      "    print('llvm version    :', llvm__version__)\n",
      "    \n",
      "    print('\\nsystem   :', platform.system())\n",
      "    print('release  :', platform.release())\n",
      "    print('machine  :', platform.machine())\n",
      "    print('processor:', platform.processor())\n",
      "    print('CPU count  :', multiprocessing.cpu_count())\n",
      "    print('interpreter:', platform.architecture()[0])\n",
      "    print('\\n\\n')"
     ],
     "language": "python",
     "metadata": {},
     "outputs": [],
     "prompt_number": 14
    },
    {
     "cell_type": "code",
     "collapsed": false,
     "input": [
      "%matplotlib inline"
     ],
     "language": "python",
     "metadata": {},
     "outputs": [],
     "prompt_number": 15
    },
    {
     "cell_type": "code",
     "collapsed": false,
     "input": [
      "import matplotlib.pyplot as plt\n",
      "\n",
      "def plot(timings, title, ranked_labels, labels, orders_n):\n",
      "    plt.rcParams.update({'font.size': 12})\n",
      "\n",
      "    fig = plt.figure(figsize=(11,10))\n",
      "    for lb in ranked_labels:\n",
      "        plt.plot(orders_n, timings[lb], alpha=0.5, label=labels[lb], \n",
      "                 marker='o', lw=3)\n",
      "    plt.xlabel('sample size n (items in the list)')\n",
      "    plt.ylabel('time per computation for 10 loops in seconds')\n",
      "    plt.xlim([min(orders_n) / 10, max(orders_n)* 10])\n",
      "    plt.legend(loc=2)\n",
      "    plt.grid()\n",
      "    plt.xscale('log')\n",
      "    plt.yscale('log')\n",
      "    plt.title(title)\n",
      "    plt.show()"
     ],
     "language": "python",
     "metadata": {},
     "outputs": [],
     "prompt_number": 16
    },
    {
     "cell_type": "code",
     "collapsed": false,
     "input": [
      "import prettytable\n",
      "\n",
      "def summary_table(ranked_labels):\n",
      "    fit_table = prettytable.PrettyTable(['n=%s' %orders_n[-1], \n",
      "                                         'bubblesort function' ,\n",
      "                                         'time in sec.',\n",
      "                                         'rel. performance gain'])\n",
      "    fit_table.align['bubblesort function'] = 'l'\n",
      "    for entry in ranked_labels:\n",
      "        fit_table.add_row(['', labels[entry[1]], round(entry[0], 2), \n",
      "                           round(ranked_labels[0][0]/entry[0], 2)])\n",
      "    print(fit_table)"
     ],
     "language": "python",
     "metadata": {},
     "outputs": [],
     "prompt_number": 17
    },
    {
     "cell_type": "markdown",
     "metadata": {},
     "source": [
      "<a name=\"results\"></a>"
     ]
    },
    {
     "cell_type": "code",
     "collapsed": false,
     "input": [
      "title = 'Performance of bubblesort in Python, Cython, and Numba'\n",
      "\n",
      "labels = {'python_bubblesort':'(C)Python - Python lists', \n",
      "          'numba_bubblesort': 'Numba - Python lists', \n",
      "          'cython_bubblesort_ctypes': 'Cython - with C types, Python lists',\n",
      "          'cython_bubblesort_notypes': 'Cython - no type declarations, Python lists',\n",
      "          'cython_bubblesort_clist': 'Cython - Python lists with to-C-array-conversion',\n",
      "          'cython_bubblesort_numpy': 'Cython - NumPy arrays memoryview',\n",
      "          'numba_bubblesort_numpy': 'Numba - NumPy arrays'\n",
      "          }\n",
      "\n",
      "ranked_by_time = sorted([(time[1][-1],time[0]) for time in timings.items()], reverse=True)\n",
      "\n"
     ],
     "language": "python",
     "metadata": {},
     "outputs": [],
     "prompt_number": 18
    },
    {
     "cell_type": "markdown",
     "metadata": {},
     "source": [
      "<br>\n",
      "<br>"
     ]
    },
    {
     "cell_type": "heading",
     "level": 2,
     "metadata": {},
     "source": [
      "Results"
     ]
    },
    {
     "cell_type": "code",
     "collapsed": false,
     "input": [
      "print_sysinfo()\n",
      "plot(timings, title, [l for t,l in ranked_by_time], labels, orders_n)\n",
      "summary_table(ranked_by_time)"
     ],
     "language": "python",
     "metadata": {},
     "outputs": [
      {
       "output_type": "stream",
       "stream": "stdout",
       "text": [
        "\n",
        "Python version: 3.4.1\n",
        "compiler        : GCC 4.2.1 (Apple Inc. build 5577)\n",
        "NumPy version   : 1.8.1\n",
        "Numba version   : 0.13.1\n",
        "llvm version    : 0.12.4\n",
        "\n",
        "system   : Darwin\n",
        "release  : 13.1.0\n",
        "machine  : x86_64\n",
        "processor: i386\n",
        "CPU count  : 2\n",
        "interpreter:"
       ]
      },
      {
       "output_type": "stream",
       "stream": "stdout",
       "text": [
        " 64bit\n",
        "\n",
        "\n",
        "\n"
       ]
      },
      {
       "metadata": {},
       "output_type": "display_data",
       "png": "[encoded data removed]",
       "text": [
        "<matplotlib.figure.Figure at 0x106283cf8>"
       ]
      },
      {
       "output_type": "stream",
       "stream": "stdout",
       "text": [
        "+---------+--------------------------------------------------+--------------+-----------------------+\n",
        "| n=10000 | bubblesort function                              | time in sec. | rel. performance gain |\n",
        "+---------+--------------------------------------------------+--------------+-----------------------+\n",
        "|         | (C)Python - Python lists                         |    287.54    |          1.0          |\n",
        "|         | Numba - Python lists                             |    207.12    |          1.39         |\n",
        "|         | Cython - no type declarations, Python lists      |    190.48    |          1.51         |\n",
        "|         | Cython - with C types, Python lists              |     51.3     |          5.6          |\n",
        "|         | Numba - NumPy arrays                             |     2.54     |         113.36        |\n",
        "|         | Cython - Python lists with to-C-array-conversion |     0.91     |         315.57        |\n",
        "|         | Cython - NumPy arrays memoryview                 |     0.0      |       1240107.55      |\n",
        "+---------+--------------------------------------------------+--------------+-----------------------+\n"
       ]
      }
     ],
     "prompt_number": 19
    },
    {
     "cell_type": "markdown",
     "metadata": {},
     "source": [
      "Note that the relative results also depend on what version of Python, Cython, and NumPy you are using. Also, the compiler choice for installing NumPy can account for differences in the results.  "
     ]
    }
   ],
   "metadata": {}
  }
 ]
}