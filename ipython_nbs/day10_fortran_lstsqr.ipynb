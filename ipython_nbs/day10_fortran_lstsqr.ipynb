{
 "metadata": {
  "name": "",
  "signature": "sha256:6dc5d0bb4a35b21e6d4af800c13ff63acc82211ea8ca6a71e5c8998259709fbd"
 },
 "nbformat": 3,
 "nbformat_minor": 0,
 "worksheets": [
  {
   "cells": [
    {
     "cell_type": "markdown",
     "metadata": {},
     "source": [
      "[Sebastian Raschka](http://sebastianraschka.com)  \n",
      "last updated: 06/09/2014\n",
      "\n",
      "- [Open in IPython nbviewer](http://nbviewer.ipython.org/github/rasbt/One-Python-benchmark-per-day/blob/master/ipython_nbs/day10_fortran_lstsqr.ipynb?create=1)  \n",
      "\n",
      "- [Link to this IPython notebook on Github](https://github.com/rasbt/One-Python-benchmark-per-day/blob/master/ipython_nbs/day10_fortran_lstsqr.ipynb)  \n",
      "\n",
      "- [Link to the GitHub Repository One-Python-benchmark-per-day](https://github.com/rasbt/One-Python-benchmark-per-day)\n"
     ]
    },
    {
     "cell_type": "markdown",
     "metadata": {},
     "source": [
      "<hr>\n",
      "I am really looking forward to your comments and suggestions to improve and  \n",
      "extend this little collection! Just send me a quick note   \n",
      "via Twitter: [&#64;rasbt](https://twitter.com/rasbt)  \n",
      "or Email: [bluewoodtree@gmail.com](mailto:bluewoodtree@gmail.com)\n",
      "<hr>"
     ]
    },
    {
     "cell_type": "heading",
     "level": 1,
     "metadata": {},
     "source": [
      "Day 10 - One Python Benchmark per Day"
     ]
    },
    {
     "cell_type": "heading",
     "level": 2,
     "metadata": {},
     "source": [
      "Cython - Bridging the gap between Python and Fortran"
     ]
    },
    {
     "cell_type": "markdown",
     "metadata": {},
     "source": [
      "<a name=\"sections\"></a>\n",
      "<br>\n",
      "<br>\n"
     ]
    },
    {
     "cell_type": "heading",
     "level": 3,
     "metadata": {},
     "source": [
      "Sections"
     ]
    },
    {
     "cell_type": "markdown",
     "metadata": {},
     "source": [
      "- [Linear regression via the least squares method](#Linear-regression-via-the-least-squares-method)  \n",
      " \n",
      "- [Least squares fit implementations](#Least-squares-fit-implementations)\n",
      "    \n",
      "    - [Implementation in (C)Python](#Implementation-in-Python)\n",
      "    \n",
      "    - [Implementation in Cython](#Implementation-in-Cython)\n",
      "    \n",
      "    - [Implementation in Fortran](#Implementation-in-Fortran)\n",
      "\n",
      "- [Generating sample data and benchmarking](#Generating-sample-data-and-benchmarking)\n",
      "\n",
      "    - [Verification that all implementations yield similar results](#Verification-that-all-implementations-yield-similar-results)\n",
      "    \n",
      "    - [Visualization](#Visualization)\n",
      "    \n",
      "- ###[Results](#Results)"
     ]
    },
    {
     "cell_type": "markdown",
     "metadata": {},
     "source": [
      "<a name=\"sections\"></a>\n",
      "<br>\n",
      "<br>\n"
     ]
    },
    {
     "cell_type": "markdown",
     "metadata": {},
     "source": [
      "<a name=\"introduction\"></a>\n",
      "<br>\n",
      "<br>"
     ]
    },
    {
     "cell_type": "markdown",
     "metadata": {},
     "source": [
      "![Performance vs. Productivity for different programming languages](https://raw.githubusercontent.com/rasbt/One-Python-benchmark-per-day/master/images/cython_vs_chart.png)  \n",
      "(Note that this chart just reflects my rather objective thoughts after experimenting with Cython, and it is not based on real numbers or benchmarks.)\n",
      "<br>\n",
      "<br>\n",
      "<br>\n",
      "<br>"
     ]
    },
    {
     "cell_type": "heading",
     "level": 2,
     "metadata": {},
     "source": [
      "Linear regression via the least squares method"
     ]
    },
    {
     "cell_type": "markdown",
     "metadata": {},
     "source": [
      "For this benchmark, we will implement a naive least squares method for linear regression, which is the simplest approach to performing a regression analysis of a dependent and a explanatory variable. \n",
      "\n",
      "The objective is to find the best-fitting straight line through a set of points that minimizes the sum of the squared offsets from the line.  \n",
      "The offsets come in 2 different flavors: perpendicular and vertical - with respect to the line.  \n",
      "![](https://raw.githubusercontent.com/rasbt/One-Python-benchmark-per-day/master/images/least_squares_vertical.png)  \n",
      "![](https://raw.githubusercontent.com/rasbt/One-Python-benchmark-per-day/master/images/least_squares_perpendicular.png)  \n",
      "\n",
      "As Michael Burger summarizes it nicely in his article \"[Problems of Linear Least Square Regression - And Approaches to Handle Them](http://www.arsa-conf.com/archive/?vid=1&aid=2&kid=60101-220)\": \"the perpendicular offset method delivers a more precise result but is are more complicated to handle. Therefore normally the vertical offsets are used.\"  \n",
      "Here, we will also use the method of computing the vertical offsets.\n",
      "\n"
     ]
    },
    {
     "cell_type": "markdown",
     "metadata": {},
     "source": [
      "In more mathematical terms, our goal is to compute the best fit to *n* points $(x_i, y_i)$ with $i=1,2,...n,$ via linear equation of the form  \n",
      "$f(x) = a\\cdot x + b$.  \n",
      "We further have to assume that the y-component is  functionally dependent on the x-component.  \n",
      "In a cartesian coordinate system, $b$ is the intercept of the straight line with the y-axis, and $a$ is the slope of this line."
     ]
    },
    {
     "cell_type": "markdown",
     "metadata": {},
     "source": [
      "$a = \\frac{S_{x,y}}{\\sigma_{x}^{2}}\\quad$  (slope)\n",
      "\n",
      "\n",
      "$b = \\bar{y} - a\\bar{x}\\quad$ (y-axis intercept)"
     ]
    },
    {
     "cell_type": "markdown",
     "metadata": {},
     "source": [
      "where \n",
      "\n",
      "\n",
      "$S_{xy} = \\sum_{i=1}^{n} (x_i - \\bar{x})(y_i - \\bar{y})\\quad$ (covariance)\n",
      "\n",
      "\n",
      "$\\sigma{_x}^{2} = \\sum_{i=1}^{n} (x_i - \\bar{x})^2\\quad$ (variance)"
     ]
    },
    {
     "cell_type": "markdown",
     "metadata": {},
     "source": [
      "<a name=\"implementations\"></a>\n",
      "<br>\n",
      "<br>"
     ]
    },
    {
     "cell_type": "heading",
     "level": 2,
     "metadata": {},
     "source": [
      "Least squares fit implementations"
     ]
    },
    {
     "cell_type": "markdown",
     "metadata": {},
     "source": [
      "<a name=\"implementations\"></a>\n",
      "<br>\n",
      "<br>"
     ]
    },
    {
     "cell_type": "markdown",
     "metadata": {},
     "source": [
      "<a id='Implementation-in-Python'</a>"
     ]
    },
    {
     "cell_type": "heading",
     "level": 3,
     "metadata": {},
     "source": [
      "Implementation in (C)Python"
     ]
    },
    {
     "cell_type": "markdown",
     "metadata": {},
     "source": [
      "[[back to top]](#Sections)"
     ]
    },
    {
     "cell_type": "code",
     "collapsed": false,
     "input": [
      "def python_lstsqr(x, y):\n",
      "    \"\"\" Computes the least-squares solution to a linear matrix equation. \"\"\"\n",
      "    len_x = len(x)\n",
      "    x_avg = sum(x)/len_x\n",
      "    y_avg = sum(y)/len(y)\n",
      "    var_x = 0\n",
      "    cov_xy = 0\n",
      "    for i in range(len_x):\n",
      "        temp = x[i] - x_avg\n",
      "        var_x += temp**2\n",
      "        cov_xy += temp*(y[i] - y_avg)\n",
      "    slope = cov_xy / var_x\n",
      "    y_interc = y_avg - slope*x_avg\n",
      "    return (slope, y_interc) "
     ],
     "language": "python",
     "metadata": {},
     "outputs": [],
     "prompt_number": 1
    },
    {
     "cell_type": "markdown",
     "metadata": {},
     "source": [
      "<a name=\"implementations\"></a>\n",
      "<br>\n",
      "<br>"
     ]
    },
    {
     "cell_type": "heading",
     "level": 3,
     "metadata": {},
     "source": [
      "Implementation in Cython"
     ]
    },
    {
     "cell_type": "markdown",
     "metadata": {},
     "source": [
      "[[back to top]](#Sections)"
     ]
    },
    {
     "cell_type": "markdown",
     "metadata": {},
     "source": [
      "Cython (see [Cython's C-extensions for Python](http://cython.org)) is basically a hybrid between C and Python and can be pictured as compiled Python code with type declarations.  \n",
      "Since we are working in an IPython notebook here, we can make use of the very convenient *IPython magic*: It will take care of the conversion to C code, the compilation, and eventually the loading of the function.  \n",
      "Also, we are adding C type declarations; those type declarations are not necessary for using Cython, however, it will improve the performance of our code significantly."
     ]
    },
    {
     "cell_type": "code",
     "collapsed": false,
     "input": [
      "%load_ext cythonmagic"
     ],
     "language": "python",
     "metadata": {},
     "outputs": [],
     "prompt_number": 2
    },
    {
     "cell_type": "code",
     "collapsed": false,
     "input": [
      "%%cython\n",
      "import numpy as np\n",
      "cimport numpy as np\n",
      "cimport cython\n",
      "@cython.boundscheck(False) \n",
      "@cython.wraparound(False)\n",
      "cpdef cython_lstsqr(x_ary, y_ary):\n",
      "    \"\"\" Computes the least-squares solution to a linear matrix equation. \"\"\"\n",
      "    cdef double x_avg, y_avg, var_x, cov_xy,\\\n",
      "         slope, y_interc\n",
      "    cdef double[:] x = x_ary # memory view\n",
      "    cdef double[:] y = y_ary\n",
      "    cdef long N\n",
      "    \n",
      "    N = x.shape[0]\n",
      "    x_avg = np.sum(x)/N\n",
      "    y_avg = np.sum(y)/N\n",
      "    var_x = 0\n",
      "    cov_xy = 0\n",
      "    for i in range(N):\n",
      "        temp = (x[i] - x_avg)\n",
      "        var_x += temp**2\n",
      "        cov_xy += temp*(y[i] - y_avg)\n",
      "    slope = cov_xy / var_x\n",
      "    y_interc = y_avg - slope*x_avg\n",
      "    return (slope, y_interc)"
     ],
     "language": "python",
     "metadata": {},
     "outputs": [],
     "prompt_number": 3
    },
    {
     "cell_type": "markdown",
     "metadata": {},
     "source": [
      "<a name=\"implementations\"></a>\n",
      "<br>\n",
      "<br>"
     ]
    },
    {
     "cell_type": "heading",
     "level": 3,
     "metadata": {},
     "source": [
      "Implementation in Fortran"
     ]
    },
    {
     "cell_type": "markdown",
     "metadata": {},
     "source": [
      "[[back to top]](#Sections)"
     ]
    },
    {
     "cell_type": "markdown",
     "metadata": {},
     "source": [
      "There is also a convenient IPython magic command for compiling Fortran code. The Fortran magic uses NumPy's [`F2PY`](http://wiki.scipy.org/F2py) module for compiling and running the Fortran code. For more information, please see the ['Fortran magic's documentation'](http://nbviewer.ipython.org/github/mgaitan/fortran_magic/blob/master/documentation.ipynb).\n"
     ]
    },
    {
     "cell_type": "code",
     "collapsed": false,
     "input": [
      "%install_ext https://raw.github.com/mgaitan/fortran_magic/master/fortranmagic.py"
     ],
     "language": "python",
     "metadata": {},
     "outputs": [
      {
       "output_type": "stream",
       "stream": "stdout",
       "text": [
        "Installed fortranmagic.py. To use it, type:\n",
        "  %load_ext fortranmagic\n"
       ]
      }
     ],
     "prompt_number": 1
    },
    {
     "cell_type": "code",
     "collapsed": false,
     "input": [
      "%load_ext fortranmagic"
     ],
     "language": "python",
     "metadata": {},
     "outputs": [
      {
       "javascript": [
        "$.getScript(\"https://raw.github.com/marijnh/CodeMirror/master/mode/fortran/fortran.js\", function () {\n",
        "IPython.config.cell_magic_highlight['magic_fortran'] = {'reg':[/^%%fortran/]};});\n"
       ],
       "metadata": {},
       "output_type": "display_data"
      }
     ],
     "prompt_number": 4
    },
    {
     "cell_type": "code",
     "collapsed": false,
     "input": [
      "%%fortran\n",
      "SUBROUTINE fortran_lstsqr(ary_x, ary_y, slope, y_interc)\n",
      "    ! Computes the least-squares solution to a linear matrix equation. \"\"\"\n",
      "    REAL, INTENT(in), DIMENSION(:) :: ary_x, ary_y\n",
      "    REAL, INTENT(out) :: slope, y_interc\n",
      "    REAL :: x_avg, y_avg, var_x, cov_xy, temp\n",
      "    INTEGER :: len_x, i\n",
      "    \n",
      "    len_x = SIZE(ary_x)\n",
      "\n",
      "    x_avg = SUM(ary_x) / len_x\n",
      "    y_avg = SUM(ary_y) / len_x\n",
      "    var_x = 0\n",
      "    cov_xy = 0\n",
      "    \n",
      "    DO i = 1, len_x\n",
      "        temp = ary_x(i) - x_avg\n",
      "        var_x = var_x + temp**2\n",
      "        cov_xy = cov_xy + (temp*(ary_y(i) - y_avg))\n",
      "    END DO\n",
      "    \n",
      "    slope = cov_xy / var_x\n",
      "    y_interc = y_avg - slope*x_avg\n",
      "\n",
      "END SUBROUTINE fortran_lstsqr"
     ],
     "language": "python",
     "metadata": {},
     "outputs": [
      {
       "output_type": "stream",
       "stream": "stdout",
       "text": [
        "\tBuilding module \"_fortran_magic_7d22767f5b7f584236ed9b7fc3132b98\"...\n",
        "\t\tConstructing wrapper function \"fortran_lstsqr\"...\n",
        "\t\t  slope,y_interc = fortran_lstsqr(ary_x,ary_y)\n",
        "\tWrote C/API module \"_fortran_magic_7d22767f5b7f584236ed9b7fc3132b98\" to file \"/var/folders/bq/_946cdn92t7bqzz5frpfpw7r0000gp/T/tmp6_t0cu_q/src.macosx-10.5-x86_64-3.4/_fortran_magic_7d22767f5b7f584236ed9b7fc3132b98module.c\"\n",
        "\tFortran 77 wrappers are saved to \"/var/folders/bq/_946cdn92t7bqzz5frpfpw7r0000gp/T/tmp6_t0cu_q/src.macosx-10.5-x86_64-3.4/_fortran_magic_7d22767f5b7f584236ed9b7fc3132b98-f2pywrappers.f\"\n"
       ]
      }
     ],
     "prompt_number": 5
    },
    {
     "cell_type": "markdown",
     "metadata": {},
     "source": [
      "<a name='numpy_func'></a>\n",
      "<br>\n",
      "<br>"
     ]
    },
    {
     "cell_type": "markdown",
     "metadata": {},
     "source": [
      "<a name='sample_data'></a>\n",
      "<br>\n",
      "<br>"
     ]
    },
    {
     "cell_type": "heading",
     "level": 2,
     "metadata": {},
     "source": [
      "Generating sample data and benchmarking"
     ]
    },
    {
     "cell_type": "markdown",
     "metadata": {},
     "source": [
      "<br>\n",
      "<br>"
     ]
    },
    {
     "cell_type": "heading",
     "level": 3,
     "metadata": {},
     "source": [
      "Verification that all implementations yield same results"
     ]
    },
    {
     "cell_type": "markdown",
     "metadata": {},
     "source": [
      "[[back to top]](#Sections)"
     ]
    },
    {
     "cell_type": "code",
     "collapsed": false,
     "input": [
      "import random\n",
      "import numpy as np\n",
      "\n",
      "random.seed(12345)\n",
      "\n",
      "x = [x_i*random.randrange(8,12)/10 for x_i in range(500)]\n",
      "y = [y_i*random.randrange(8,12)/10 for y_i in range(100,600)]\n",
      "x_ary = np.asarray(x)\n",
      "y_ary = np.asarray(y)\n",
      "\n",
      "reference = python_lstsqr(x,y)\n",
      "funcs = [python_lstsqr, cython_lstsqr, fortran_lstsqr]\n",
      "\n",
      "for f in funcs:\n",
      "    np.testing.assert_array_almost_equal(reference, f(x_ary, y_ary), decimal=4)    "
     ],
     "language": "python",
     "metadata": {},
     "outputs": [],
     "prompt_number": 6
    },
    {
     "cell_type": "markdown",
     "metadata": {},
     "source": [
      "<br>\n",
      "<br>"
     ]
    },
    {
     "cell_type": "heading",
     "level": 3,
     "metadata": {},
     "source": [
      "Python lists vs. Numpy arrays vs. Fortran Arrays"
     ]
    },
    {
     "cell_type": "markdown",
     "metadata": {},
     "source": [
      "[[back to top]](#Sections)"
     ]
    },
    {
     "cell_type": "markdown",
     "metadata": {},
     "source": [
      "For performance reasons, Python list objects will be used for the pure (C)Python implementation of our least squares fit, and [NumPy arrays](http://docs.scipy.org/doc/numpy/reference/arrays.html) will be used with the Fortran and Cython implementations, respectively.\n",
      "\n",
      "NumPy also comes with an method ([numpy.asfortranarray](http://docs.scipy.org/doc/numpy/reference/generated/numpy.asfortranarray.html)) to lay out a NumPy array in Fortran order in memory, however, because this doesn't make any (significant) difference in terms of performance in this case, we will use NumPy's default [`ndarray`](http://docs.scipy.org/doc/numpy/reference/arrays.html) type."
     ]
    },
    {
     "cell_type": "code",
     "collapsed": false,
     "input": [
      "x = [x_i*random.randrange(8,12)/10 for x_i in range(500)]\n",
      "y = [y_i*random.randrange(8,12)/10 for y_i in range(100,600)]\n",
      "x_ary = np.asarray(x)\n",
      "y_ary = np.asarray(y)\n",
      "x_fary = np.asfortranarray(x)\n",
      "y_fary = np.asfortranarray(y)"
     ],
     "language": "python",
     "metadata": {},
     "outputs": [],
     "prompt_number": 7
    },
    {
     "cell_type": "code",
     "collapsed": false,
     "input": [
      "%timeit python_lstsqr(x,y)\n",
      "%timeit python_lstsqr(x_ary,y_ary)\n",
      "%timeit python_lstsqr(x_fary,y_fary)"
     ],
     "language": "python",
     "metadata": {},
     "outputs": [
      {
       "output_type": "stream",
       "stream": "stdout",
       "text": [
        "1000 loops, best of 3: 218 \u00b5s per loop\n",
        "100 loops, best of 3: 2.25 ms per loop"
       ]
      },
      {
       "output_type": "stream",
       "stream": "stdout",
       "text": [
        "\n",
        "100 loops, best of 3: 2.26 ms per loop"
       ]
      },
      {
       "output_type": "stream",
       "stream": "stdout",
       "text": [
        "\n"
       ]
      }
     ],
     "prompt_number": 8
    },
    {
     "cell_type": "code",
     "collapsed": false,
     "input": [
      "%timeit cython_lstsqr(x_ary,y_ary)\n",
      "%timeit cython_lstsqr(x_fary,y_fary)"
     ],
     "language": "python",
     "metadata": {},
     "outputs": [
      {
       "output_type": "stream",
       "stream": "stdout",
       "text": [
        "10000 loops, best of 3: 132 \u00b5s per loop\n",
        "10000 loops, best of 3: 132 \u00b5s per loop"
       ]
      },
      {
       "output_type": "stream",
       "stream": "stdout",
       "text": [
        "\n"
       ]
      }
     ],
     "prompt_number": 9
    },
    {
     "cell_type": "code",
     "collapsed": false,
     "input": [
      "%timeit fortran_lstsqr(x,y)\n",
      "%timeit fortran_lstsqr(x_ary,y_ary)\n",
      "%timeit fortran_lstsqr(x_fary,y_fary)"
     ],
     "language": "python",
     "metadata": {},
     "outputs": [
      {
       "output_type": "stream",
       "stream": "stdout",
       "text": [
        "10000 loops, best of 3: 74.3 \u00b5s per loop\n",
        "100000 loops, best of 3: 4.62 \u00b5s per loop"
       ]
      },
      {
       "output_type": "stream",
       "stream": "stdout",
       "text": [
        "\n",
        "100000 loops, best of 3: 4.69 \u00b5s per loop"
       ]
      },
      {
       "output_type": "stream",
       "stream": "stdout",
       "text": [
        "\n"
       ]
      }
     ],
     "prompt_number": 10
    },
    {
     "cell_type": "markdown",
     "metadata": {},
     "source": [
      "<br>\n",
      "<br>"
     ]
    },
    {
     "cell_type": "markdown",
     "metadata": {},
     "source": [
      "\n",
      "## Visualization"
     ]
    },
    {
     "cell_type": "markdown",
     "metadata": {},
     "source": [
      "[[back to top]](#Sections)"
     ]
    },
    {
     "cell_type": "markdown",
     "metadata": {},
     "source": [
      "Just for a visual cheeck for how our dataset is distributed, and how the least squares regression line looks like, we will plot the results in a scatter plot below.\n",
      "\n",
      "Note that we are only using our \"matrix approach\" to visualize the results - for simplicity. We expect all 3 approaches to produce similar results, which we confirmed in via the `np.testing.assert_array_almost_equal` function above."
     ]
    },
    {
     "cell_type": "code",
     "collapsed": false,
     "input": [
      "%matplotlib inline"
     ],
     "language": "python",
     "metadata": {},
     "outputs": [],
     "prompt_number": 11
    },
    {
     "cell_type": "code",
     "collapsed": false,
     "input": [
      "from matplotlib import pyplot as plt\n",
      "import random\n",
      "\n",
      "random.seed(12345)\n",
      "\n",
      "x = [x_i*random.randrange(8,12)/10 for x_i in range(500)]\n",
      "y = [y_i*random.randrange(8,12)/10 for y_i in range(100,600)]\n",
      "\n",
      "slope, intercept = python_lstsqr(x, y)\n",
      "\n",
      "line_x = [round(min(x)) - 1, round(max(x)) + 1]\n",
      "line_y = [slope*x_i + intercept for x_i in line_x]\n",
      "\n",
      "plt.figure(figsize=(8,8))\n",
      "plt.scatter(x,y)\n",
      "plt.plot(line_x, line_y, color='red', lw='2')\n",
      "\n",
      "plt.ylabel('y')\n",
      "plt.xlabel('x')\n",
      "plt.title('Linear regression via least squares fit')\n",
      "\n",
      "ftext = 'y = ax + b = {:.3f} + {:.3f}x'\\\n",
      "        .format(slope, intercept)\n",
      "plt.figtext(.15,.8, ftext, fontsize=11, ha='left')\n",
      "\n",
      "plt.show()"
     ],
     "language": "python",
     "metadata": {},
     "outputs": [
      {
       "metadata": {},
       "output_type": "display_data",
       "png": "[encoded data removed]",
       "text": [
        "<matplotlib.figure.Figure at 0x10715af60>"
       ]
      }
     ],
     "prompt_number": 12
    },
    {
     "cell_type": "markdown",
     "metadata": {},
     "source": [
      "<br>\n",
      "<br>"
     ]
    },
    {
     "cell_type": "markdown",
     "metadata": {},
     "source": [
      "<a name='performance1'></a>\n",
      "<br>\n",
      "<br>"
     ]
    },
    {
     "cell_type": "heading",
     "level": 2,
     "metadata": {},
     "source": [
      "Preparing to plot the results"
     ]
    },
    {
     "cell_type": "markdown",
     "metadata": {},
     "source": [
      "[[back to top]](#Sections)"
     ]
    },
    {
     "cell_type": "markdown",
     "metadata": {},
     "source": [
      "Now, finally let us take a look at the effect of different sample sizes on the relative performances for each approach."
     ]
    },
    {
     "cell_type": "code",
     "collapsed": false,
     "input": [
      "import timeit\n",
      "import random\n",
      "random.seed(12345)\n",
      "\n",
      "orders_n = [10**n for n in range(1, 6)]\n",
      "timings = {f:[] for f in funcs}\n",
      "\n",
      "for n in orders_n:\n",
      "    x = ([x_i*np.random.randint(8,12)/10 for x_i in range(n)])\n",
      "    y = ([y_i*np.random.randint(10,14)/10 for y_i in range(n)])\n",
      "    x_ary = np.asarray(x)\n",
      "    y_ary = np.asarray(y)\n",
      "    timings['python_lstsqr'].append(timeit.Timer('python_lstsqr(x, y)', \n",
      "            'from __main__ import python_lstsqr, x, y').timeit(1000))\n",
      "    timings['cython_lstsqr'].append(timeit.Timer('cython_lstsqr(x_ary, y_ary)', \n",
      "            'from __main__ import cython_lstsqr, x_ary, y_ary').timeit(1000))\n",
      "    timings['fortran_lstsqr'].append(timeit.Timer('fortran_lstsqr(x_ary, y_ary)', \n",
      "            'from __main__ import fortran_lstsqr, x_ary, y_ary').timeit(1000))"
     ],
     "language": "python",
     "metadata": {},
     "outputs": [],
     "prompt_number": 17
    },
    {
     "cell_type": "code",
     "collapsed": false,
     "input": [
      "import platform\n",
      "import multiprocessing\n",
      "from cython import __version__ as cython__version__\n",
      "from numba import __version__ as numba__version__\n",
      "\n",
      "def print_sysinfo():\n",
      "    \n",
      "    print('\\nPython version  :', platform.python_version())\n",
      "    print('compiler        :', platform.python_compiler())\n",
      "    print('Cython version  :', cython__version__)\n",
      "    print('NumPy version   :', np.__version__)\n",
      "    print('Numba version   :', numba__version__)\n",
      "    \n",
      "    print('\\nsystem     :', platform.system())\n",
      "    print('release    :', platform.release())\n",
      "    print('machine    :', platform.machine())\n",
      "    print('processor  :', platform.processor())\n",
      "    print('CPU count  :', multiprocessing.cpu_count())\n",
      "    print('interpreter:', platform.architecture()[0])\n",
      "    print('\\n\\n')"
     ],
     "language": "python",
     "metadata": {},
     "outputs": [],
     "prompt_number": 18
    },
    {
     "cell_type": "code",
     "collapsed": false,
     "input": [
      "import matplotlib.pyplot as plt\n",
      "\n",
      "def plot(timings, title, labels, orders_n):\n",
      "    plt.rcParams.update({'font.size': 12})\n",
      "\n",
      "    fig = plt.figure(figsize=(11,10))\n",
      "    for lb in labels:\n",
      "        plt.plot(orders_n, timings[lb], alpha=0.5, label=labels[lb], \n",
      "                 marker='o', lw=3)\n",
      "    plt.xlabel('sample size n')\n",
      "    plt.ylabel('time per computation in milliseconds')\n",
      "    plt.xlim([min(orders_n) / 10, max(orders_n)* 10])\n",
      "    plt.legend(loc=2)\n",
      "    plt.grid()\n",
      "    plt.xscale('log')\n",
      "    plt.yscale('log')\n",
      "    plt.title(title)\n",
      "    plt.show()"
     ],
     "language": "python",
     "metadata": {},
     "outputs": [],
     "prompt_number": 19
    },
    {
     "cell_type": "code",
     "collapsed": false,
     "input": [
      "import prettytable\n",
      "\n",
      "funcs = ['python_lstsqr',\n",
      "         'cython_lstsqr',\n",
      "         'fortran_lstsqr',\n",
      "         ]\n",
      "\n",
      "def summary_table(funcs):\n",
      "    fit_table = prettytable.PrettyTable(['n=%s' %orders_n[-1], \n",
      "                                         'Implementation' ,\n",
      "                                         'time in msec'])\n",
      "    fit_table.align['Fortran function'] = 'l'\n",
      "    for f in funcs:\n",
      "        fit_table.add_row(['', f, '{:.3f}'.format(timings[f][-1])])\n",
      "    print(fit_table)"
     ],
     "language": "python",
     "metadata": {},
     "outputs": [],
     "prompt_number": 21
    },
    {
     "cell_type": "markdown",
     "metadata": {},
     "source": [
      "<a name='performance1'></a>\n",
      "<br>\n",
      "<br>"
     ]
    },
    {
     "cell_type": "markdown",
     "metadata": {},
     "source": [
      "<a name='performance1'></a>\n",
      "<br>\n",
      "<br>"
     ]
    },
    {
     "cell_type": "heading",
     "level": 1,
     "metadata": {},
     "source": [
      "Results"
     ]
    },
    {
     "cell_type": "markdown",
     "metadata": {},
     "source": [
      "[[back to top]](#Sections)"
     ]
    },
    {
     "cell_type": "code",
     "collapsed": false,
     "input": [
      "title = 'Performance of Linear Regression Least Squares Fits in Python, Cython, and Fortran'\n",
      "\n",
      "labels = {'python_lstsqr':'Python', \n",
      "          'cython_lstsqr':'Cython',  \n",
      "          'fortran_lstsqr': 'Fortran',\n",
      "          }\n",
      "\n",
      "print_sysinfo()\n",
      "plot(timings, title, labels, orders_n)\n",
      "summary_table(funcs)"
     ],
     "language": "python",
     "metadata": {},
     "outputs": [
      {
       "output_type": "stream",
       "stream": "stdout",
       "text": [
        "\n",
        "Python version  : 3.4.0\n",
        "compiler        : GCC 4.2.1 (Apple Inc. build 5577)\n",
        "Cython version  : 0.20.1\n",
        "NumPy version   : 1.8.1\n",
        "Numba version   : 0.13.1\n",
        "\n",
        "system     : Darwin\n",
        "release    : 13.2.0\n",
        "machine    : x86_64\n",
        "processor  : i386\n",
        "CPU count  : 4\n",
        "interpreter: 64bit\n",
        "\n",
        "\n",
        "\n"
       ]
      },
      {
       "metadata": {},
       "output_type": "display_data",
       "png": "[encoded data removed]",
       "text": [
        "<matplotlib.figure.Figure at 0x10ba500f0>"
       ]
      },
      {
       "output_type": "stream",
       "stream": "stdout",
       "text": [
        "+----------+----------------+--------------+\n",
        "| n=100000 | Implementation | time in msec |\n",
        "+----------+----------------+--------------+\n",
        "|          | python_lstsqr  |    46.026    |\n",
        "|          | cython_lstsqr  |    18.315    |\n",
        "|          | fortran_lstsqr |    0.502     |\n",
        "+----------+----------------+--------------+\n"
       ]
      }
     ],
     "prompt_number": 22
    },
    {
     "cell_type": "markdown",
     "metadata": {},
     "source": [
      "[[back to top]](#Sections)"
     ]
    },
    {
     "cell_type": "markdown",
     "metadata": {},
     "source": [
      "<a name='performance2'></a>\n",
      "<br>\n",
      "<br>"
     ]
    },
    {
     "cell_type": "markdown",
     "metadata": {},
     "source": [
      "<a name=\"cython_bonus\"></a>\n",
      "<br>\n",
      "<br>"
     ]
    },
    {
     "cell_type": "markdown",
     "metadata": {},
     "source": [
      "<a name=\"numba\"></a>\n",
      "<br>\n",
      "<br>"
     ]
    }
   ],
   "metadata": {}
  }
 ]
}