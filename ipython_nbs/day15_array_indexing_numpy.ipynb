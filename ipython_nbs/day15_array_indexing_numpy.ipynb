{
 "metadata": {
  "name": "",
  "signature": "sha256:e9bed6f473e46c77782418f8b53921925ffd895a982ddb485b2de7c4b4c67148"
 },
 "nbformat": 3,
 "nbformat_minor": 0,
 "worksheets": [
  {
   "cells": [
    {
     "cell_type": "markdown",
     "metadata": {},
     "source": [
      "[Sebastian Raschka](http://sebastianraschka.com)  \n",
      "\n",
      "- [Open in IPython nbviewer](http://nbviewer.ipython.org/github/rasbt/One-Python-benchmark-per-day/blob/master/ipython_nbs/day15_array_indexing_numpy.ipynb?create=1)  \n",
      "\n",
      "- [Link to this IPython notebook on Github](https://github.com/rasbt/One-Python-benchmark-per-day/blob/master/ipython_nbs/day15_array_indexing_numpy.ipynb)  \n",
      "\n",
      "- [Link to the GitHub Repository One-Python-benchmark-per-day](https://github.com/rasbt/One-Python-benchmark-per-day)\n"
     ]
    },
    {
     "cell_type": "code",
     "collapsed": false,
     "input": [
      "import time\n",
      "print('Last updated: %s' %time.strftime('%d/%m/%Y'))"
     ],
     "language": "python",
     "metadata": {},
     "outputs": [
      {
       "output_type": "stream",
       "stream": "stdout",
       "text": [
        "Last updated: 24/06/2014\n"
       ]
      }
     ],
     "prompt_number": 1
    },
    {
     "cell_type": "markdown",
     "metadata": {},
     "source": [
      "<hr>\n",
      "I would be happy to hear your comments and suggestions.  \n",
      "Please feel free to drop me a note via\n",
      "[twitter](https://twitter.com/rasbt), [email](mailto:bluewoodtree@gmail.com), or [google+](https://plus.google.com/+SebastianRaschka).\n",
      "<hr>"
     ]
    },
    {
     "cell_type": "heading",
     "level": 1,
     "metadata": {},
     "source": [
      "Day 15 - One Python Benchmark per Day"
     ]
    },
    {
     "cell_type": "heading",
     "level": 2,
     "metadata": {},
     "source": [
      "Array indexing in NumPy: Extracting rows and columns"
     ]
    },
    {
     "cell_type": "markdown",
     "metadata": {},
     "source": [
      "<br>\n",
      "<br>"
     ]
    },
    {
     "cell_type": "markdown",
     "metadata": {},
     "source": [
      "There are multiple ways in NumPy to extract particular rows or columns of interest from a NumPy array."
     ]
    },
    {
     "cell_type": "markdown",
     "metadata": {},
     "source": [
      "For example, given a 3x3-dimensional matrix **A** as shown below,"
     ]
    },
    {
     "cell_type": "code",
     "collapsed": false,
     "input": [
      "import numpy as np\n",
      "A = np.array([[1,2,3],[4,5,6], [7,8,9]])\n",
      "print(A)"
     ],
     "language": "python",
     "metadata": {},
     "outputs": [
      {
       "output_type": "stream",
       "stream": "stdout",
       "text": [
        "[[1 2 3]\n",
        " [4 5 6]\n",
        " [7 8 9]]\n"
       ]
      }
     ],
     "prompt_number": 2
    },
    {
     "cell_type": "markdown",
     "metadata": {},
     "source": [
      "we now want to extract the first and the last column. The most intuitive way would probably be by direct indexing:"
     ]
    },
    {
     "cell_type": "code",
     "collapsed": false,
     "input": [
      "print(A[:,[0,-1]])"
     ],
     "language": "python",
     "metadata": {},
     "outputs": [
      {
       "output_type": "stream",
       "stream": "stdout",
       "text": [
        "[[1 3]\n",
        " [4 6]\n",
        " [7 9]]\n"
       ]
      }
     ],
     "prompt_number": 3
    },
    {
     "cell_type": "markdown",
     "metadata": {},
     "source": [
      "But alternatively, we could also have used the [`numpy.take`](http://docs.scipy.org/doc/numpy/reference/generated/numpy.take.html) function here:"
     ]
    },
    {
     "cell_type": "code",
     "collapsed": false,
     "input": [
      "print(np.take(A, indices=[0,-1], axis=1))"
     ],
     "language": "python",
     "metadata": {},
     "outputs": [
      {
       "output_type": "stream",
       "stream": "stdout",
       "text": [
        "[[1 3]\n",
        " [4 6]\n",
        " [7 9]]\n"
       ]
      }
     ],
     "prompt_number": 4
    },
    {
     "cell_type": "markdown",
     "metadata": {},
     "source": [
      "<br>\n",
      "<br>\n",
      "Equivalently, if we wanted to extract the first and last row:"
     ]
    },
    {
     "cell_type": "code",
     "collapsed": false,
     "input": [
      "print(A[[0,-1],:])"
     ],
     "language": "python",
     "metadata": {},
     "outputs": [
      {
       "output_type": "stream",
       "stream": "stdout",
       "text": [
        "[[1 2 3]\n",
        " [7 8 9]]\n"
       ]
      }
     ],
     "prompt_number": 5
    },
    {
     "cell_type": "code",
     "collapsed": false,
     "input": [
      "print(np.take(A, indices=[0,-1], axis=0))"
     ],
     "language": "python",
     "metadata": {},
     "outputs": [
      {
       "output_type": "stream",
       "stream": "stdout",
       "text": [
        "[[1 2 3]\n",
        " [7 8 9]]\n"
       ]
      }
     ],
     "prompt_number": 6
    },
    {
     "cell_type": "markdown",
     "metadata": {},
     "source": [
      "<br>\n",
      "<br>\n",
      "Both approaches **`return`** a new array object, not just a view/reference to an existing array, which will be demonstrated in the following example:"
     ]
    },
    {
     "cell_type": "code",
     "collapsed": false,
     "input": [
      "print('A before:\\n', A)\n",
      "\n",
      "B = A[[0,-1],:]\n",
      "B[0,0] = 100\n",
      "\n",
      "\n",
      "C = np.take(A, indices=[0,-1], axis=0)\n",
      "C[0,0] = 150\n",
      "\n",
      "print('\\nB:\\n', B)\n",
      "print('\\nC:\\n', C)\n",
      "\n",
      "print('\\nA after:\\n', A)"
     ],
     "language": "python",
     "metadata": {},
     "outputs": [
      {
       "output_type": "stream",
       "stream": "stdout",
       "text": [
        "A before:\n",
        " [[1 2 3]\n",
        " [4 5 6]\n",
        " [7 8 9]]\n",
        "\n",
        "B:\n",
        " [[100   2   3]\n",
        " [  7   8   9]]\n",
        "\n",
        "C:\n",
        " [[150   2   3]\n",
        " [  7   8   9]]\n",
        "\n",
        "A after:\n",
        " [[1 2 3]\n",
        " [4 5 6]\n",
        " [7 8 9]]\n"
       ]
      }
     ],
     "prompt_number": 7
    },
    {
     "cell_type": "markdown",
     "metadata": {},
     "source": [
      "<br>\n",
      "<br>\n",
      "**Note**  \n",
      "\n",
      "`C = np.take(A, indices=[0,-1], axis=0)`  \n",
      "is equivalent to  \n",
      "`np.take(A, indices=[0,-1], axis=0, out=C)`  \n",
      "However, the former approach is the slightly faster one:"
     ]
    },
    {
     "cell_type": "code",
     "collapsed": false,
     "input": [
      "%timeit C = np.take(A, indices=[0,-1], axis=0)\n",
      "%timeit np.take(A, indices=[0,-1], axis=0, out=C)"
     ],
     "language": "python",
     "metadata": {},
     "outputs": [
      {
       "output_type": "stream",
       "stream": "stdout",
       "text": [
        "100000 loops, best of 3: 3.79 \u00b5s per loop\n",
        "100000 loops, best of 3: 5.47 \u00b5s per loop"
       ]
      },
      {
       "output_type": "stream",
       "stream": "stdout",
       "text": [
        "\n"
       ]
      }
     ],
     "prompt_number": 8
    },
    {
     "cell_type": "markdown",
     "metadata": {},
     "source": [
      "<br>\n",
      "<br>"
     ]
    },
    {
     "cell_type": "heading",
     "level": 1,
     "metadata": {},
     "source": [
      "`timeit` benchmarks"
     ]
    },
    {
     "cell_type": "markdown",
     "metadata": {},
     "source": [
      "[[back to top](#Sections)]"
     ]
    },
    {
     "cell_type": "markdown",
     "metadata": {},
     "source": [
      "\n",
      "In the following benchmark, we will see how fast the two approaches are in returning the first column/row, a random column/row, and the last column/row of 2-dimensional arrays (in terms of their axes) consisting NxN elements."
     ]
    },
    {
     "cell_type": "code",
     "collapsed": false,
     "input": [
      "import timeit\n",
      "from numpy import take as np_take\n",
      "\n",
      "orders_n = [10**i for i in range(1, 5)]\n",
      "\n",
      "idx_slice_col, idx_slice_row, np_take_col, np_take_row = [], [], [], []\n",
      "\n",
      "for n in orders_n:\n",
      "    \n",
      "    rand_idx = np.random.randint(n)\n",
      "    A = np.random.randn(n, n)\n",
      "    idx_slice_col.append(min(timeit.Timer('A[:, [0, rand_idx, -1]]', \n",
      "            'from __main__ import A, rand_idx').repeat(repeat=3, number=1)))\n",
      "    np_take_col.append(min(timeit.Timer('np_take(A, indices=[0, rand_idx, -1], axis=1)', \n",
      "            'from __main__ import A, rand_idx, np_take').repeat(repeat=3, number=1)))\n",
      "    idx_slice_row.append(min(timeit.Timer('A[[0, rand_idx, -1], :]', \n",
      "            'from __main__ import A, rand_idx').repeat(repeat=3, number=1)))\n",
      "    np_take_row.append(min(timeit.Timer('np_take(A, indices=[0, rand_idx, -1], axis=0)', \n",
      "            'from __main__ import A, rand_idx, np_take').repeat(repeat=3, number=1)))"
     ],
     "language": "python",
     "metadata": {},
     "outputs": [],
     "prompt_number": 11
    },
    {
     "cell_type": "heading",
     "level": 2,
     "metadata": {},
     "source": [
      "Preparing to plot the results"
     ]
    },
    {
     "cell_type": "markdown",
     "metadata": {},
     "source": [
      "[[back to top](#Sections)]"
     ]
    },
    {
     "cell_type": "code",
     "collapsed": false,
     "input": [
      "import platform\n",
      "import multiprocessing\n",
      "\n",
      "def print_sysinfo():\n",
      "    \n",
      "    print('\\nPython version  :', platform.python_version())\n",
      "    print('compiler        :', platform.python_compiler())\n",
      "    print('Numpy version   :', np.__version__)\n",
      "    \n",
      "    print('\\nsystem     :', platform.system())\n",
      "    print('release    :', platform.release())\n",
      "    print('machine    :', platform.machine())\n",
      "    print('processor  :', platform.processor())\n",
      "    print('CPU count  :', multiprocessing.cpu_count())\n",
      "    print('interpreter:', platform.architecture()[0])\n",
      "    print('\\n\\n')"
     ],
     "language": "python",
     "metadata": {},
     "outputs": [],
     "prompt_number": 12
    },
    {
     "cell_type": "code",
     "collapsed": false,
     "input": [
      "%matplotlib inline"
     ],
     "language": "python",
     "metadata": {},
     "outputs": [],
     "prompt_number": 13
    },
    {
     "cell_type": "code",
     "collapsed": false,
     "input": [
      "import matplotlib.pyplot as plt\n",
      "\n",
      "def plot():\n",
      "\n",
      "    f, ax = plt.subplots(1, 2, figsize=(15,5))\n",
      "\n",
      "    ax[0].plot(orders_n, idx_slice_col, alpha=0.4, lw=3, marker='o', \n",
      "               label='Classic indexing\\nA[:, [0, rand_idx, -1]]')\n",
      "    ax[0].plot(orders_n, np_take_col, alpha=0.4, lw=3, marker='o', \n",
      "               label='NumPy.take\\nnp.take(A, indices=[0, rand_idx, -1], axis=1)')\n",
      "    ax[0].set_title('Getting columns from a NumPy array')\n",
      "    \n",
      "    ax[1].plot(orders_n, idx_slice_row, alpha=0.4, lw=3, marker='o', \n",
      "               label='Classic indexing\\nA[[0, rand_idx, -1], :]')\n",
      "    ax[1].plot(orders_n, np_take_row, alpha=0.4, lw=3, marker='o', \n",
      "               label='NumPy.take\\nnp_take(A, indices=[0, rand_idx, -1], axis=0)')\n",
      "    ax[1].set_title('Getting rows from a NumPy array')\n",
      "    \n",
      "    for x in ax:\n",
      "        x.legend(loc='upper left')\n",
      "        x.set_ylabel('time in seconds')\n",
      "        x.set_xlabel('NumPy array size')\n",
      "    \n",
      "    plt.tight_layout()\n",
      "    plt.show()"
     ],
     "language": "python",
     "metadata": {},
     "outputs": [],
     "prompt_number": 18
    },
    {
     "cell_type": "markdown",
     "metadata": {},
     "source": [
      "<br>\n",
      "<br>"
     ]
    },
    {
     "cell_type": "heading",
     "level": 1,
     "metadata": {},
     "source": [
      "Results"
     ]
    },
    {
     "cell_type": "markdown",
     "metadata": {},
     "source": [
      "[[back to top](#Sections)]"
     ]
    },
    {
     "cell_type": "code",
     "collapsed": false,
     "input": [
      "plot()\n",
      "print_sysinfo()"
     ],
     "language": "python",
     "metadata": {},
     "outputs": [
      {
       "metadata": {},
       "output_type": "display_data",
       "png": "[encoded data removed]",
       "text": [
        "<matplotlib.figure.Figure at 0x1367239b0>"
       ]
      },
      {
       "output_type": "stream",
       "stream": "stdout",
       "text": [
        "\n",
        "Python version  : 3.4.1\n",
        "compiler        : GCC 4.2.1 (Apple Inc. build 5577)\n",
        "Numpy version   : 1.8.1\n",
        "\n",
        "system     : Darwin\n",
        "release    : 13.2.0\n",
        "machine    : x86_64\n",
        "processor  : i386\n",
        "CPU count  : 4\n",
        "interpreter: 64bit\n",
        "\n",
        "\n",
        "\n"
       ]
      }
     ],
     "prompt_number": 19
    }
   ],
   "metadata": {}
  }
 ]
}