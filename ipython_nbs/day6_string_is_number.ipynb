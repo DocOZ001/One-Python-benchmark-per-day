{
 "metadata": {
  "name": "",
  "signature": "sha256:793bec4e501f330ee0c26828287dd8266a8cb81d064a3aa2554f99a1300ee3c9"
 },
 "nbformat": 3,
 "nbformat_minor": 0,
 "worksheets": [
  {
   "cells": [
    {
     "cell_type": "markdown",
     "metadata": {},
     "source": [
      "[Sebastian Raschka](http://sebastianraschka.com)  \n",
      "last updated: 05/13/2014\n",
      "\n",
      "- [Open in IPython nbviewer](http://nbviewer.ipython.org/github/rasbt/One-Python-benchmark-per-day/blob/master/ipython_nbs/day6_string_is_number.ipynb?create=1)  \n",
      "- [Link to this IPython notebook on Github](https://github.com/rasbt/One-Python-benchmark-per-day/blob/master/ipython_nbs/day6_string_is_number.ipynb)  \n",
      "- [Link to the GitHub Repository One-Python-benchmark-per-day](https://github.com/rasbt/One-Python-benchmark-per-day)\n"
     ]
    },
    {
     "cell_type": "markdown",
     "metadata": {},
     "source": [
      "<hr>\n",
      "I would be happy to hear your comments and suggestions.  \n",
      "Please feel free to drop me a note via\n",
      "[twitter](https://twitter.com/rasbt), [email](mailto:bluewoodtree@gmail.com), or [google+](https://plus.google.com/118404394130788869227).\n",
      "<hr>"
     ]
    },
    {
     "cell_type": "markdown",
     "metadata": {},
     "source": [
      "# Day 6 - One Python Benchmark per Day"
     ]
    },
    {
     "cell_type": "markdown",
     "metadata": {},
     "source": [
      "## Determining if a string is a number"
     ]
    },
    {
     "cell_type": "markdown",
     "metadata": {},
     "source": [
      "#### The code in this notebook was executed in Python 3.4.0"
     ]
    },
    {
     "cell_type": "markdown",
     "metadata": {},
     "source": [
      "<br>\n",
      "**[-> skip to the results](#results)**\n",
      "<br>"
     ]
    },
    {
     "cell_type": "markdown",
     "metadata": {},
     "source": [
      "<br>\n",
      "<br>\n",
      "For this benchmark, we will be testing different approaches to determine is a string is a number.  \n",
      "\n",
      "**Note that methods like `.isdigit()` and `.isnumeric()` are only evaluating if a string in an integer**,  \n",
      "e.g., both `'1.2'.isdigit()` and `'1.2'.isnumeric()` return `False`.  "
     ]
    },
    {
     "cell_type": "markdown",
     "metadata": {},
     "source": [
      "## Functions"
     ]
    },
    {
     "cell_type": "code",
     "collapsed": false,
     "input": [
      "def is_number_tryexcept(s):\n",
      "    \"\"\" Returns True is string is a number. \"\"\"\n",
      "    try:\n",
      "        float(s)\n",
      "        return True\n",
      "    except ValueError:\n",
      "        return False"
     ],
     "language": "python",
     "metadata": {},
     "outputs": [],
     "prompt_number": 1
    },
    {
     "cell_type": "code",
     "collapsed": false,
     "input": [
      "import re\n",
      "\n",
      "def is_number_regex(s):\n",
      "    \"\"\" Returns True is string is a number. \"\"\"\n",
      "    if re.match(\"^\\d+?\\.\\d+?$\", s) is None:\n",
      "        return s.isdigit()\n",
      "    return True"
     ],
     "language": "python",
     "metadata": {},
     "outputs": [],
     "prompt_number": 2
    },
    {
     "cell_type": "code",
     "collapsed": false,
     "input": [
      "def is_number_repl_isdigit(s):\n",
      "    \"\"\" Returns True is string is a number. \"\"\"\n",
      "    return s.replace('.','',1).isdigit()"
     ],
     "language": "python",
     "metadata": {},
     "outputs": [],
     "prompt_number": 3
    },
    {
     "cell_type": "markdown",
     "metadata": {},
     "source": [
      "<br>\n",
      "<br>"
     ]
    },
    {
     "cell_type": "markdown",
     "metadata": {},
     "source": [
      "## Testing the functions for correct behavior"
     ]
    },
    {
     "cell_type": "code",
     "collapsed": false,
     "input": [
      "a_float = '1.1234'\n",
      "inv_float = '1.12.34'\n",
      "no_number = 'abc123'\n",
      "an_int = '12345'\n",
      "\n",
      "funcs = [\n",
      "          is_number_tryexcept, \n",
      "          is_number_regex,\n",
      "          is_number_repl_isdigit\n",
      "          ]\n",
      "\n",
      "for f in funcs:\n",
      "    assert (f(a_float) == True), 'Error in %s(%s)' %(f.__name__, a_float)\n",
      "    assert (f(inv_float) == False), 'Error in %s(%s)' %(f.__name__, inv_float)\n",
      "    assert (f(no_number) == False), 'Error in %s(%s)' %(f.__name__, no_number)\n",
      "    assert (f(an_int) == True), 'Error in %s(%s)' %(f.__name__, an_int)\n",
      "print('ok')"
     ],
     "language": "python",
     "metadata": {},
     "outputs": [
      {
       "output_type": "stream",
       "stream": "stdout",
       "text": [
        "ok\n"
       ]
      }
     ],
     "prompt_number": 20
    },
    {
     "cell_type": "markdown",
     "metadata": {},
     "source": [
      "<br>\n",
      "<br>"
     ]
    },
    {
     "cell_type": "markdown",
     "metadata": {},
     "source": [
      "## Special cases where those functions do not work"
     ]
    },
    {
     "cell_type": "code",
     "collapsed": false,
     "input": [
      "a_float = '.1234'\n",
      "\n",
      "print('Float notation \".1234\" is not supported by:')\n",
      "for f in funcs:\n",
      "    if not f(a_float):\n",
      "        print('\\t -', f.__name__)"
     ],
     "language": "python",
     "metadata": {},
     "outputs": [
      {
       "output_type": "stream",
       "stream": "stdout",
       "text": [
        "Float notation \".1234\" is not supported by:\n",
        "\t - is_number_regex\n"
       ]
      }
     ],
     "prompt_number": 28
    },
    {
     "cell_type": "markdown",
     "metadata": {},
     "source": [
      "### Scientific notations"
     ]
    },
    {
     "cell_type": "code",
     "collapsed": false,
     "input": [
      "scientific1 = '1.000000e+50'\n",
      "scientific2 = '1e50'\n",
      "\n",
      "\n",
      "print('Scientific notation \"1.000000e+50\" is not supported by:')\n",
      "for f in funcs:\n",
      "    if not f(scientific1):\n",
      "        print('\\t -', f.__name__)\n",
      "        \n",
      "print('Scientific notation \"1e50\" is not supported by:')\n",
      "for f in funcs:\n",
      "    if not f(scientific2):\n",
      "        print('\\t -', f.__name__)"
     ],
     "language": "python",
     "metadata": {},
     "outputs": [
      {
       "output_type": "stream",
       "stream": "stdout",
       "text": [
        "Scientific notation \"1.000000e+50\" is not supported by:\n",
        "\t - is_number_regex\n",
        "\t - is_number_repl_isdigit\n",
        "Scientific notation \"1e50\" is not supported by:\n",
        "\t - is_number_regex\n",
        "\t - is_number_repl_isdigit\n"
       ]
      }
     ],
     "prompt_number": 29
    },
    {
     "cell_type": "markdown",
     "metadata": {},
     "source": [
      "<br>\n",
      "<br>"
     ]
    },
    {
     "cell_type": "markdown",
     "metadata": {},
     "source": [
      "## Timing the functions"
     ]
    },
    {
     "cell_type": "code",
     "collapsed": false,
     "input": [
      "import timeit\n",
      "\n",
      "test_cases = ['1.12345', '1.12.345', 'abc12345', '12345']\n",
      "times_n = {f.__name__:[] for f in funcs}\n",
      "\n",
      "for t in test_cases:\n",
      "    for f in funcs:\n",
      "        f = f.__name__\n",
      "        times_n[f].append(min(timeit.Timer('%s(t)' %f, \n",
      "                      'from __main__ import %s, t' %f)\n",
      "                              .repeat(repeat=3, number=1000000)))"
     ],
     "language": "python",
     "metadata": {},
     "outputs": [],
     "prompt_number": 5
    },
    {
     "cell_type": "code",
     "collapsed": false,
     "input": [
      "%matplotlib inline"
     ],
     "language": "python",
     "metadata": {},
     "outputs": [],
     "prompt_number": 6
    },
    {
     "cell_type": "code",
     "collapsed": false,
     "input": [
      "from numpy import arange\n",
      "import matplotlib.pyplot as plt\n",
      "\n",
      "labels = [('is_number_tryexcept','Try-except method'),\n",
      "          ('is_number_regex', 'Regular expression'),\n",
      "          ('is_number_repl_isdigit', 'replace-isdigit method')\n",
      "          ]\n",
      "\n",
      "x_labels = ['float: \"1.12345\"',\n",
      "            'invalid float: \"1.12.345\"',\n",
      "            'no number: \"abc12345\"',\n",
      "            'integer: \"12345\"']\n",
      "            \n",
      "plt.rcParams.update({'font.size': 12})\n",
      "\n",
      "ind = arange(len(test_cases))  # the x locations for the groups\n",
      "width = 0.2\n",
      "\n",
      "fig = plt.figure(figsize=(12,8))\n",
      "ax = fig.add_subplot(111)\n",
      "colors = [(0,'c'), (1,'b'), (2,'g')]\n",
      "\n",
      "for l,c in zip(labels,colors):\n",
      "    ax.bar(ind + c[0]*width,\n",
      "        times_n[l[0]], \n",
      "        width,\n",
      "        alpha=0.5,\n",
      "        color=c[1],\n",
      "        label=l[1])\n",
      "\n",
      "ax.set_ylabel('time in microseconds')\n",
      "ax.set_title('Methods for determening if a string is a number')\n",
      "ax.set_xticks(ind + width)\n",
      "ax.set_xticklabels(x_labels)\n",
      "plt.legend(loc='lower left')\n",
      "plt.xlim([-0.2, 3.8])\n",
      "plt.show()"
     ],
     "language": "python",
     "metadata": {},
     "outputs": [
      {
       "metadata": {},
       "output_type": "display_data",
       "png": "[encoded data removed]",
       "text": [
        "<matplotlib.figure.Figure at 0x1064c9dd0>"
       ]
      }
     ],
     "prompt_number": 7
    },
    {
     "cell_type": "markdown",
     "metadata": {},
     "source": [
      "<a name='results'></a>"
     ]
    },
    {
     "cell_type": "markdown",
     "metadata": {},
     "source": [
      "## Conclusion"
     ]
    },
    {
     "cell_type": "markdown",
     "metadata": {},
     "source": [
      "The `try-except` approach appears to be slower than the replace-isdigit method for cases where the string is not a number - executing the `except-block` seems to be very costly. However, we have to consider that it also works for special cases like:  \n",
      "- '1.000000e+50'  \n",
      "- '1e50'  \n",
      "- '.12345'  \n",
      "\n",
      "So it really depends on the data set which method to choose - the more thorough \"try-except\" or the faster \"replace-isdigit\""
     ]
    },
    {
     "cell_type": "code",
     "collapsed": false,
     "input": [],
     "language": "python",
     "metadata": {},
     "outputs": []
    }
   ],
   "metadata": {}
  }
 ]
}