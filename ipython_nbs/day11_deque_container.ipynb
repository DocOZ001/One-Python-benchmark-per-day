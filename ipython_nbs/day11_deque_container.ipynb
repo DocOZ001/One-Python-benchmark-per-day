{
 "metadata": {
  "name": "",
  "signature": "sha256:deb951c53a9534e21cc1c86f970ccddaa0a77cc706ad7109412fb69e39f81d65"
 },
 "nbformat": 3,
 "nbformat_minor": 0,
 "worksheets": [
  {
   "cells": [
    {
     "cell_type": "markdown",
     "metadata": {},
     "source": [
      "[Sebastian Raschka](http://sebastianraschka.com)  \n",
      "last updated: 06/09/2014\n",
      "\n",
      "- [Open in IPython nbviewer](http://nbviewer.ipython.org/github/rasbt/One-Python-benchmark-per-day/blob/master/ipython_nbs/day10_fortran_lstsqr.ipynb?create=1)  \n",
      "\n",
      "- [Link to this IPython notebook on Github](https://github.com/rasbt/One-Python-benchmark-per-day/blob/master/ipython_nbs/day10_fortran_lstsqr.ipynb)  \n",
      "\n",
      "- [Link to the GitHub Repository One-Python-benchmark-per-day](https://github.com/rasbt/One-Python-benchmark-per-day)\n"
     ]
    },
    {
     "cell_type": "markdown",
     "metadata": {},
     "source": [
      "<hr>\n",
      "I am really looking forward to your comments and suggestions to improve and  \n",
      "extend this little collection! Just send me a quick note   \n",
      "via Twitter: [&#64;rasbt](https://twitter.com/rasbt)  \n",
      "or Email: [bluewoodtree@gmail.com](mailto:bluewoodtree@gmail.com)\n",
      "<hr>"
     ]
    },
    {
     "cell_type": "heading",
     "level": 1,
     "metadata": {},
     "source": [
      "Day 11 - One Python Benchmark per Day"
     ]
    },
    {
     "cell_type": "heading",
     "level": 2,
     "metadata": {},
     "source": [
      "The `deque` container data type"
     ]
    },
    {
     "cell_type": "markdown",
     "metadata": {},
     "source": [
      "<br>\n",
      "<br>\n"
     ]
    },
    {
     "cell_type": "markdown",
     "metadata": {},
     "source": [
      "The `collections` module in Python's standard library provides some convienient container datatypes that not only make your code more \"Pythonic\", but they also are optimized for performance for certain operations. Previously, we have seen how we can use the `collections.Counter` class ([Day 3: 6 different ways for counting elements using a dictionary](http://nbviewer.ipython.org/github/rasbt/One-Python-benchmark-per-day/blob/master/ipython_nbs/day3_dictionary_counting.ipynb?create=1)) to write short and efficient code to quantify items.  \n",
      "    Today, we will take a look at another `collections` class: the [`deque`](https://docs.python.org/2/library/collections.html#collections.deque) container data type."
     ]
    },
    {
     "cell_type": "heading",
     "level": 3,
     "metadata": {},
     "source": [
      "Sections"
     ]
    },
    {
     "cell_type": "markdown",
     "metadata": {},
     "source": [
      "- [A short introduction to deques](#A-short-introduction-to-deques)  \n",
      " \n",
      "- [Benchmarking via timeit](#Benchmarking-via-timeit)\n",
      "    \n",
      "- [Results](#Results)\n",
      "\n",
      "- [Conclusion](#Conclusion)"
     ]
    },
    {
     "cell_type": "markdown",
     "metadata": {},
     "source": [
      "<br>\n",
      "<br>\n"
     ]
    },
    {
     "cell_type": "markdown",
     "metadata": {},
     "source": [
      "<br>\n",
      "<br>\n"
     ]
    },
    {
     "cell_type": "heading",
     "level": 2,
     "metadata": {},
     "source": [
      "A short introduction to deques"
     ]
    },
    {
     "cell_type": "markdown",
     "metadata": {},
     "source": [
      "Most of you might already be familiar with `deque`s due to their popularity in C++ and might want to skip this short introduction. \n",
      "\n",
      "For all the others: `deque` (pronounced \"deck\") is short for \"double-ended queue\" and thus it is sometimes also written as \"dequeue\". This abstract data structure is quite similar to an array (or Python list), which is optimized for adding and removing elements from either the back or front.  \n",
      "The `deque` class comes with methods that are already familiar from the Python `list` type, such as"
     ]
    },
    {
     "cell_type": "heading",
     "level": 3,
     "metadata": {},
     "source": [
      "Common methods for Python's `list` and `deque` objects"
     ]
    },
    {
     "cell_type": "markdown",
     "metadata": {},
     "source": [
      "- `append(val)`  \n",
      "appends and element to the right\n",
      "\n",
      "\n",
      "- `clear()`  \n",
      "removes all elements\n",
      "\n",
      "\n",
      "- `count(val)`\n",
      "returns the number of elements that are equal to `val`  \n",
      "\n",
      "\n",
      "- `extend(iterable)`  \n",
      "adds elements to the right from an iterable object\n",
      "\n",
      "\n",
      "- `pop()`  \n",
      "removes and returns an element from the right end\n",
      "\n",
      "\n",
      "- `reverse()`  \n",
      "reverses elements in-place; returns `None`\n",
      "\n",
      "\n",
      "- `remove(val)`  \n",
      "removes first occurence of `val` "
     ]
    },
    {
     "cell_type": "heading",
     "level": 3,
     "metadata": {},
     "source": [
      "Methods unique to `deque` objects"
     ]
    },
    {
     "cell_type": "markdown",
     "metadata": {},
     "source": [
      "- `appendleft(val)`  \n",
      "appends an element to the left\n",
      "\n",
      "\n",
      "- `extendleft(iterable)`  \n",
      "adds elements to the left from an iterable object\n",
      "\n",
      "\n",
      "- `popleft()`  \n",
      "removes and returns an element from the left end\n",
      "\n",
      "\n",
      "- `rotate(n)`  \n",
      "Rotate the deque n steps to the right. If n is negative, rotate to the left. Rotating one step to the right is equivalent to: d.appendleft(d.pop()).\n",
      "\n",
      "\n"
     ]
    },
    {
     "cell_type": "code",
     "collapsed": false,
     "input": [
      "import collections\n",
      "a = collections.deque([1,2,3])\n",
      "a.rotate(2)\n",
      "print(a)"
     ],
     "language": "python",
     "metadata": {},
     "outputs": [
      {
       "output_type": "stream",
       "stream": "stdout",
       "text": [
        "deque([2, 3, 1])\n"
       ]
      }
     ],
     "prompt_number": 1
    },
    {
     "cell_type": "markdown",
     "metadata": {},
     "source": [
      "Note that `deque`s don't have equivalents to the Python `list` methods, such as `index()` for looking up values, or the `.sort()` method (although the `sorted()` function can be used as a workaround). If we want to get a slice from a `deque`, equivalent to `my_list[0:3]`, we would need to use `itertools`, for example.\n",
      "\n",
      "    import itertools\n",
      "    list(itertools.islice(my_deque, 0, 3))"
     ]
    },
    {
     "cell_type": "markdown",
     "metadata": {},
     "source": [
      "<br>\n",
      "<br>"
     ]
    },
    {
     "cell_type": "heading",
     "level": 1,
     "metadata": {},
     "source": [
      "Benchmarking via timeit"
     ]
    },
    {
     "cell_type": "markdown",
     "metadata": {},
     "source": [
      "[[back to top]](#Sections)"
     ]
    },
    {
     "cell_type": "code",
     "collapsed": false,
     "input": [
      "import timeit\n",
      "import collections\n",
      "from copy import copy\n",
      "\n",
      "\n",
      "\n",
      "labels = ['.append()', '.insert(0,x)\\n.appendleft(x)', \n",
      "          '.pop()', '.pop(0)\\n.popleft()', '.reverse()']\n",
      "list_time, deque_time = [], []\n",
      "\n",
      "n = 10000\n",
      "l = [i for i in range(n)]\n",
      "d = collections.deque([i for i in range(n)])\n",
      "\n",
      "l_cp, d_cp = copy(l), copy(d)\n",
      "list_time.append(min(timeit.Timer('l_cp.append(1)', \n",
      "            'from __main__ import l_cp').repeat(repeat=3, number=1000)))\n",
      "deque_time.append(min(timeit.Timer('d_cp.append(1)', \n",
      "            'from __main__ import d_cp').repeat(repeat=3, number=1000)))\n",
      "\n",
      "l_cp, d_cp = copy(l), copy(d)\n",
      "list_time.append(min(timeit.Timer('l_cp.insert(0,1)', \n",
      "            'from __main__ import l_cp').repeat(repeat=3, number=1000)))\n",
      "deque_time.append(min(timeit.Timer('d_cp.appendleft(1)', \n",
      "            'from __main__ import d_cp').repeat(repeat=3, number=1000)))\n",
      "\n",
      "l_cp, d_cp = copy(l), copy(d)\n",
      "list_time.append(min(timeit.Timer('l_cp.pop()', \n",
      "            'from __main__ import l_cp').repeat(repeat=3, number=1000)))\n",
      "deque_time.append(min(timeit.Timer('d_cp.pop()', \n",
      "            'from __main__ import d_cp').repeat(repeat=3, number=1000)))\n",
      "\n",
      "l_cp, d_cp = copy(l), copy(d)\n",
      "list_time.append(min(timeit.Timer('l_cp.pop(0)', \n",
      "            'from __main__ import l_cp').repeat(repeat=3, number=1000)))\n",
      "deque_time.append(min(timeit.Timer('d_cp.popleft()', \n",
      "            'from __main__ import d_cp').repeat(repeat=3, number=1000)))\n",
      "\n",
      "l_cp, d_cp = copy(l), copy(d)\n",
      "list_time.append(min(timeit.Timer('l_cp.reverse()', \n",
      "            'from __main__ import l_cp').repeat(repeat=3, number=1000)))\n",
      "deque_time.append(min(timeit.Timer('d_cp.reverse()', \n",
      "            'from __main__ import d_cp').repeat(repeat=3, number=1000)))"
     ],
     "language": "python",
     "metadata": {},
     "outputs": [],
     "prompt_number": 3
    },
    {
     "cell_type": "markdown",
     "metadata": {},
     "source": [
      "<br>\n",
      "<br>"
     ]
    },
    {
     "cell_type": "heading",
     "level": 2,
     "metadata": {},
     "source": [
      "Preparing to plot the results"
     ]
    },
    {
     "cell_type": "markdown",
     "metadata": {},
     "source": [
      "[[back to top]](#Sections)"
     ]
    },
    {
     "cell_type": "code",
     "collapsed": false,
     "input": [
      "import platform\n",
      "import multiprocessing\n",
      "\n",
      "def print_sysinfo():\n",
      "    \n",
      "    print('\\nPython version  :', platform.python_version())\n",
      "    print('compiler        :', platform.python_compiler())\n",
      "    \n",
      "    print('\\nsystem     :', platform.system())\n",
      "    print('release    :', platform.release())\n",
      "    print('machine    :', platform.machine())\n",
      "    print('processor  :', platform.processor())\n",
      "    print('CPU count  :', multiprocessing.cpu_count())\n",
      "    print('interpreter:', platform.architecture()[0])\n",
      "    print('\\n\\n')"
     ],
     "language": "python",
     "metadata": {},
     "outputs": [],
     "prompt_number": 4
    },
    {
     "cell_type": "code",
     "collapsed": false,
     "input": [
      "%matplotlib inline"
     ],
     "language": "python",
     "metadata": {},
     "outputs": [],
     "prompt_number": 5
    },
    {
     "cell_type": "code",
     "collapsed": false,
     "input": [
      "import matplotlib.pyplot as plt\n",
      "\n",
      "def plot():\n",
      "    plt.rcParams.update({'font.size': 12})\n",
      "\n",
      "    fig = plt.figure(figsize=(11,13))\n",
      "\n",
      "    # Setting the positions and width for the bars\n",
      "    pos = list(range(len(list_time))) \n",
      "    width = 0.2 \n",
      "    \n",
      "    # Plotting the bars\n",
      "    fig, ax = plt.subplots(figsize=(8,6))\n",
      "\n",
      "    plt.bar(pos, list_time, width,\n",
      "                 alpha=0.5,\n",
      "                 color='g',\n",
      "                 label=labels[0])\n",
      "\n",
      "    plt.bar([p + width for p in pos], deque_time, width,\n",
      "                 alpha=0.5,\n",
      "                 color='b',\n",
      "                 label=labels[1])\n",
      "\n",
      "    # Setting axis labels and ticks\n",
      "    ax.set_ylabel('time in seconds\\n(for 1,000 operations on starting size 10,000)')\n",
      "    ax.set_title('Python list and collections.deque operations')\n",
      "    ax.set_xticks([p + 1.5 * width for p in pos])\n",
      "    ax.set_xticklabels(labels)\n",
      "\n",
      "    # Setting the x-axis and y-axis limits\n",
      "    plt.xlim(0-width, len(list_time))\n",
      "    plt.ylim([0, max(list_time + deque_time) * 1.5])\n",
      "\n",
      "    # Adding the legend and showing the plot\n",
      "    plt.legend(['list', 'collections.deque'], loc='upper left')\n",
      "    plt.grid()\n",
      "    plt.show()"
     ],
     "language": "python",
     "metadata": {},
     "outputs": [],
     "prompt_number": 13
    },
    {
     "cell_type": "markdown",
     "metadata": {},
     "source": [
      "<br>\n",
      "<br>"
     ]
    },
    {
     "cell_type": "heading",
     "level": 1,
     "metadata": {},
     "source": [
      "Results"
     ]
    },
    {
     "cell_type": "markdown",
     "metadata": {},
     "source": [
      "[[back to top]](#Sections)"
     ]
    },
    {
     "cell_type": "code",
     "collapsed": false,
     "input": [
      "plot()\n",
      "print_sysinfo()"
     ],
     "language": "python",
     "metadata": {},
     "outputs": [
      {
       "metadata": {},
       "output_type": "display_data",
       "text": [
        "<matplotlib.figure.Figure at 0x1064c8ba8>"
       ]
      },
      {
       "metadata": {},
       "output_type": "display_data",
       "png": "[encoded data removed]",
       "text": [
        "<matplotlib.figure.Figure at 0x1064c8518>"
       ]
      },
      {
       "output_type": "stream",
       "stream": "stdout",
       "text": [
        "\n",
        "Python version  : 3.4.1\n",
        "compiler        : GCC 4.2.1 (Apple Inc. build 5577)\n",
        "\n",
        "system     : Darwin\n",
        "release    : 13.2.0\n",
        "machine    : x86_64\n",
        "processor  : i386\n",
        "CPU count  : 4\n",
        "interpreter: 64bit\n",
        "\n",
        "\n",
        "\n"
       ]
      }
     ],
     "prompt_number": 14
    },
    {
     "cell_type": "heading",
     "level": 2,
     "metadata": {},
     "source": [
      "Conclusion"
     ]
    },
    {
     "cell_type": "markdown",
     "metadata": {},
     "source": [
      "[[back to top]](#Sections)"
     ]
    },
    {
     "cell_type": "markdown",
     "metadata": {},
     "source": [
      "As we can see in the plot above, the performance of the shared methods between Python `list` and `deque` objects are about the same. However, as expected, the `appendleft(x)` and `popleft(x)` methods on deques are significantly faster than workaround-approaches on Python `list`s.  \n",
      "Thus, if our application requires a lot of adding and removing of items at both ends of the data structure, `deque`s are definitely to be preferred over `list`s."
     ]
    },
    {
     "cell_type": "markdown",
     "metadata": {},
     "source": [
      "<a name=\"cython_bonus\"></a>\n",
      "<br>\n",
      "<br>"
     ]
    },
    {
     "cell_type": "markdown",
     "metadata": {},
     "source": [
      "<a name=\"numba\"></a>\n",
      "<br>\n",
      "<br>"
     ]
    }
   ],
   "metadata": {}
  }
 ]
}