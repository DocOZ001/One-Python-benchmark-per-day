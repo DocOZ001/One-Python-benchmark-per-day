{
 "metadata": {
  "name": "",
  "signature": "sha256:1cf9fed59f911c506a34b177b74c4a9571a4bae81e37f5af07c5cc31d43aff77"
 },
 "nbformat": 3,
 "nbformat_minor": 0,
 "worksheets": [
  {
   "cells": [
    {
     "cell_type": "markdown",
     "metadata": {},
     "source": [
      "[Sebastian Raschka](http://sebastianraschka.com)  \n",
      "last updated: 05/09/2014\n",
      "\n",
      "- [Open in IPython Notebook viewer](http://nbviewer.ipython.org/github/rasbt/One-Python-benchmark-per-day/blob/master/ipython_nbs/day3_dictionary_counting.ipynb?create=1)\n",
      "- [Link to this IPython notebook on Github](https://github.com/rasbt/One-Python-benchmark-per-day/blob/master/ipython_nbs/day3_dictionary_counting.ipynb)  \n",
      "- [Link to the GitHub Repository One-Python-benchmark-per-day](https://github.com/rasbt/One-Python-benchmark-per-day)\n",
      "\n",
      "<br>\n",
      "<br>\n",
      "I would be happy to hear your comments and suggestions.  \n",
      "Please feel free to drop me a note via\n",
      "[twitter](https://twitter.com/rasbt), [email](mailto:bluewoodtree@gmail.com), or [google+](https://plus.google.com/118404394130788869227).\n",
      "<hr>"
     ]
    },
    {
     "cell_type": "markdown",
     "metadata": {},
     "source": [
      "# Day 3 - One Python Benchmark per Day"
     ]
    },
    {
     "cell_type": "markdown",
     "metadata": {},
     "source": [
      "### 6 different ways for counting elements using a dictionary\n"
     ]
    },
    {
     "cell_type": "markdown",
     "metadata": {},
     "source": [
      "<hr>\n",
      "**-> [skip to the results](#Results)**\n",
      "<hr>"
     ]
    },
    {
     "cell_type": "markdown",
     "metadata": {},
     "source": [
      "<br>\n",
      "<br>"
     ]
    },
    {
     "cell_type": "heading",
     "level": 3,
     "metadata": {},
     "source": [
      "Dictionary counting functions"
     ]
    },
    {
     "cell_type": "code",
     "collapsed": false,
     "input": [
      "from collections import defaultdict\n",
      "from collections import Counter\n",
      "\n",
      "def add_element_check1(elements):\n",
      "    \"\"\"if ele not in dict (v1)\"\"\"\n",
      "    d = dict()\n",
      "    for e in elements:\n",
      "        if e not in d:\n",
      "            d[e] = 1\n",
      "        else:\n",
      "            d[e] += 1\n",
      "    return d\n",
      "            \n",
      "    \n",
      "def add_element_check2(elements):\n",
      "    \"\"\"if ele not in dict (v2)\"\"\"\n",
      "    d = dict()\n",
      "    for e in elements:\n",
      "        if e not in d:\n",
      "            d[e] = 0\n",
      "        d[e] += 1            \n",
      "    return d\n",
      "        \n",
      "    \n",
      "def add_element_except(elements):\n",
      "    \"\"\"try-except\"\"\"\n",
      "    d = dict()\n",
      "    for e in elements:\n",
      "        try:\n",
      "            d[e] += 1\n",
      "        except KeyError:\n",
      "            d[e] = 1\n",
      "    return d\n",
      "            \n",
      "    \n",
      "def add_element_defaultdict(elements):\n",
      "    \"\"\"defaultdict\"\"\"\n",
      "    d = defaultdict(int)\n",
      "    for e in elements:\n",
      "        d[e] += 1\n",
      "    return d\n",
      "\n",
      "\n",
      "def add_element_get(elements):\n",
      "    \"\"\".get() method\"\"\"\n",
      "    d = dict()\n",
      "    for e in elements:\n",
      "        d[e] = d.get(e, 1) + 1\n",
      "    return d\n",
      "\n",
      "\n",
      "def counter_object(elements):\n",
      "    \"\"\"Counter object\"\"\"\n",
      "    return Counter(elements)"
     ],
     "language": "python",
     "metadata": {},
     "outputs": [],
     "prompt_number": 1
    },
    {
     "cell_type": "markdown",
     "metadata": {},
     "source": [
      "<br>\n",
      "<br>"
     ]
    },
    {
     "cell_type": "heading",
     "level": 3,
     "metadata": {},
     "source": [
      "Dataset 1 - \"I have a dream\""
     ]
    },
    {
     "cell_type": "markdown",
     "metadata": {},
     "source": [
      "<br>\n",
      "The first data set will be Martin Luther King's popular \"I have a dream\" speech for which we want to count the occurences of the individual words. The data file can be downloaded from [here](https://raw.githubusercontent.com/rasbt/One-Python-benchmark-per-day/master/data/day3_dictionary_counting/i_have_a_dream_speech.txt).\n",
      "<br>"
     ]
    },
    {
     "cell_type": "code",
     "collapsed": false,
     "input": [
      "def read_speech(datafile):\n",
      "    \"\"\" \n",
      "    Reads in a text file and returns individual words\n",
      "    in lowercase and stripped from digits and punctuation\n",
      "    \n",
      "    \"\"\"\n",
      "    def strip_word(word):\n",
      "        out = []\n",
      "        for char in word:\n",
      "            if char.isalpha():\n",
      "                out.append(char.lower())\n",
      "        return \"\".join(out)\n",
      "    \n",
      "    with open(datafile,'r') as infile:\n",
      "        for line in infile:\n",
      "            line = line.strip()\n",
      "            if line:\n",
      "                for word in line.split():\n",
      "                    yield strip_word(word)\n",
      "            \n",
      "speech_file = '../data/day3_dictionary_counting/i_have_a_dream_speech.txt'\n",
      "speech = list(read_speech(speech_file))"
     ],
     "language": "python",
     "metadata": {},
     "outputs": [],
     "prompt_number": 2
    },
    {
     "cell_type": "markdown",
     "metadata": {},
     "source": [
      "<br>\n",
      "<br>"
     ]
    },
    {
     "cell_type": "heading",
     "level": 3,
     "metadata": {},
     "source": [
      "Dataset 2 - DNA string"
     ]
    },
    {
     "cell_type": "markdown",
     "metadata": {},
     "source": [
      "Secondly, we will cound the individual nucleotides (\"A\", \"G\", \"C\", or \"T\") in a randomly generated DNA string. The file can be found [here](https://raw.githubusercontent.com/rasbt/One-Python-benchmark-per-day/master/data/day3_dictionary_counting/random_dna.txt)."
     ]
    },
    {
     "cell_type": "code",
     "collapsed": false,
     "input": [
      "def read_dna(datafile):\n",
      "    with open(datafile,'r') as infile:\n",
      "        return list(infile.read())\n",
      "\n",
      "dna_file = '../data/day3_dictionary_counting/random_dna.txt'\n",
      "dna = read_dna(dna_file)  "
     ],
     "language": "python",
     "metadata": {},
     "outputs": [],
     "prompt_number": 3
    },
    {
     "cell_type": "markdown",
     "metadata": {},
     "source": [
      "<br>\n",
      "<br>"
     ]
    },
    {
     "cell_type": "heading",
     "level": 3,
     "metadata": {},
     "source": [
      "Timing"
     ]
    },
    {
     "cell_type": "code",
     "collapsed": false,
     "input": [
      "import timeit\n",
      "from functools import reduce\n",
      "\n",
      "\n",
      "funcs = ['add_element_check1', 'add_element_check2',\n",
      "         'add_element_except', 'add_element_defaultdict',\n",
      "         'add_element_get', 'counter_object']\n",
      "\n",
      "times_n = {f:[] for f in funcs}\n",
      "\n",
      "for d in [speech, dna]:\n",
      "    for f in funcs:\n",
      "        times_n[f].append(min(timeit.Timer('%s(d)' %f, \n",
      "                      'from __main__ import %s, d' %f)\n",
      "                              .repeat(repeat=3, number=1000)))"
     ],
     "language": "python",
     "metadata": {},
     "outputs": [],
     "prompt_number": 4
    },
    {
     "cell_type": "markdown",
     "metadata": {},
     "source": [
      "<br>\n",
      "<br>"
     ]
    },
    {
     "cell_type": "heading",
     "level": 3,
     "metadata": {},
     "source": [
      "Setting up the plots"
     ]
    },
    {
     "cell_type": "code",
     "collapsed": false,
     "input": [
      "import platform\n",
      "import multiprocessing\n",
      "\n",
      "def print_sysinfo():\n",
      "    \n",
      "    print('\\nPython version:', platform.python_version())\n",
      "    print('compiler:', platform.python_compiler())\n",
      "    \n",
      "    print('\\nsystem     :', platform.system())\n",
      "    print('release    :', platform.release())\n",
      "    print('machine    :', platform.machine())\n",
      "    print('processor  :', platform.processor())\n",
      "    print('interpreter:', platform.architecture()[0])\n",
      "    print('CPU count  :', multiprocessing.cpu_count())\n",
      "    print('\\n\\n')"
     ],
     "language": "python",
     "metadata": {},
     "outputs": [],
     "prompt_number": 18
    },
    {
     "cell_type": "code",
     "collapsed": false,
     "input": [
      "%matplotlib inline"
     ],
     "language": "python",
     "metadata": {},
     "outputs": [],
     "prompt_number": 19
    },
    {
     "cell_type": "code",
     "collapsed": false,
     "input": [
      "labels = [('add_element_check1', 'if-else statements (v1)'), \n",
      "          ('add_element_check2', 'if-else statements (v2)'),\n",
      "          ('add_element_except', 'try-except blocks'),\n",
      "          ('add_element_defaultdict', 'using collections.defaultdict'),\n",
      "          ('add_element_get', 'using the .get() method'),\n",
      "          ('counter_object', 'using collections.Counter'),\n",
      "          ] "
     ],
     "language": "python",
     "metadata": {},
     "outputs": [],
     "prompt_number": 20
    },
    {
     "cell_type": "code",
     "collapsed": false,
     "input": [
      "from numpy import arange\n",
      "import matplotlib.pyplot as plt\n",
      "\n",
      "def plot_timings():\n",
      "\n",
      "    plt.rcParams.update({'font.size': 12})\n",
      "\n",
      "    ind = arange(2)  # the x locations for the groups\n",
      "    width = 0.15\n",
      "\n",
      "    fig = plt.figure(figsize=(10,8))\n",
      "    ax = fig.add_subplot(111)\n",
      "    colors = [(0,'b'), (1,'c'), (2,'g'), (3,'r'), (4,'y'), (5, 'm')]\n",
      "\n",
      "    for l,c in zip(labels,colors):\n",
      "        ax.bar(ind + c[0]*width,\n",
      "            times_n[l[0]], \n",
      "            width,\n",
      "            alpha=0.5,\n",
      "            color=c[1],\n",
      "            label=l[1])\n",
      "\n",
      "    ax.set_ylabel('time in milliseconds')\n",
      "    ax.set_title('Methods for counting elements in a dataset using a dictionary')\n",
      "    ax.set_xticks(ind + width)\n",
      "    ax.set_xticklabels(['Luther speech', 'DNA string'])\n",
      "    ax.set_xlim(-0.1,2)\n",
      "    ax.set_ylim(0,1.5)\n",
      "    plt.legend(loc='upper left')\n",
      "    plt.show()"
     ],
     "language": "python",
     "metadata": {},
     "outputs": [],
     "prompt_number": 28
    },
    {
     "cell_type": "code",
     "collapsed": false,
     "input": [
      "import prettytable\n",
      "\n",
      "def count_unique(input_data):\n",
      "    unique = 0\n",
      "    count_dict = add_element_check1(input_data)\n",
      "    for count in count_dict.values():\n",
      "        if count == 1:\n",
      "            unique += 1\n",
      "    different_ele = len(count_dict)\n",
      "    unique_ele = round(unique / different_ele * 100, 2)\n",
      "    return (different_ele, unique_ele)\n",
      "\n",
      "def summary_table():\n",
      "\n",
      "    speech_different, speech_unique = count_unique(speech)\n",
      "    dna_different, dna_unique = count_unique(dna)\n",
      "\n",
      "    fit_table = prettytable.PrettyTable([\"\", \"total elements\" ,\n",
      "                                     \"different elements\", \n",
      "                                     \"unique elements (%)\"])\n",
      "    fit_table.add_row([\"DNA string\", len(dna), dna_different, dna_unique])\n",
      "    fit_table.add_row([\"Luther speech\", len(speech), speech_different, speech_unique])\n",
      "\n",
      "    print(fit_table)"
     ],
     "language": "python",
     "metadata": {},
     "outputs": [],
     "prompt_number": 29
    },
    {
     "cell_type": "heading",
     "level": 2,
     "metadata": {},
     "source": [
      "Results"
     ]
    },
    {
     "cell_type": "code",
     "collapsed": false,
     "input": [
      "print_sysinfo()\n",
      "summary_table()\n",
      "plot_timings()"
     ],
     "language": "python",
     "metadata": {},
     "outputs": [
      {
       "output_type": "stream",
       "stream": "stdout",
       "text": [
        "\n",
        "Python version: 3.4.1\n",
        "compiler: GCC 4.2.1 (Apple Inc. build 5577)\n",
        "\n",
        "system     : Darwin\n",
        "release    : 13.1.0\n",
        "machine    : x86_64\n",
        "processor  : i386\n",
        "interpreter: 64bit\n",
        "CPU count  : 2\n",
        "\n",
        "\n",
        "\n",
        "+---------------+----------------+--------------------+---------------------+\n",
        "|               | total elements | different elements | unique elements (%) |\n",
        "+---------------+----------------+--------------------+---------------------+\n",
        "|   DNA string  |      4000      |         4          |         0.0         |\n",
        "| Luther speech |      1667      |        536         |        65.67        |\n",
        "+---------------+----------------+--------------------+---------------------+\n"
       ]
      },
      {
       "metadata": {},
       "output_type": "display_data",
       "png": "[encoded data removed]",
       "text": [
        "<matplotlib.figure.Figure at 0x10537e668>"
       ]
      }
     ],
     "prompt_number": 30
    },
    {
     "cell_type": "markdown",
     "metadata": {},
     "source": [
      "<br>\n",
      "<br>"
     ]
    },
    {
     "cell_type": "markdown",
     "metadata": {},
     "source": [
      "## Conclusion\n",
      "The bar plot indicates that the performance of the different approaches really depends on how many duplicates we have in our data set. But this can be easily explained:\n",
      "\n",
      "### Scenario 1: No or very low number of duplicates\n",
      "Here, expect that the try-except loop would not perform very well, since an error is raised (and eventually the except-block executed) if we encounter an element that is not already in the dictionary. \n",
      "\n",
      "### Scenario 2: High number of duplicates\n",
      "The try-except method performs much better if we have a high number of duplicates, because the sumation in the try-block succeeds if we are encountering elements that already exist as keys in the dictionary - the except-block can be skipped in this case.  \n",
      "\n",
      "Anyway, for a real application, I would use the `Counter` function from the `collection` module, it is the fastest approach in any case."
     ]
    },
    {
     "cell_type": "code",
     "collapsed": false,
     "input": [],
     "language": "python",
     "metadata": {},
     "outputs": []
    }
   ],
   "metadata": {}
  }
 ]
}