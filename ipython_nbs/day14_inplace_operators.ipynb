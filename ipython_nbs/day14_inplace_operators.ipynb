{
 "metadata": {
  "name": "",
  "signature": "sha256:4142fbcf3e08f8421b2e4d0387751f66f7e0ca3db8d2b2ca8e8691201a94e1cf"
 },
 "nbformat": 3,
 "nbformat_minor": 0,
 "worksheets": [
  {
   "cells": [
    {
     "cell_type": "markdown",
     "metadata": {},
     "source": [
      "[Sebastian Raschka](http://sebastianraschka.com)  \n",
      "\n",
      "- [Open in IPython nbviewer](http://nbviewer.ipython.org/github/rasbt/One-Python-benchmark-per-day/blob/master/ipython_nbs/day14_inplace_operators.ipynb?create=1)  \n",
      "\n",
      "- [Link to this IPython notebook on Github](https://github.com/rasbt/One-Python-benchmark-per-day/blob/master/ipython_nbs/day14_inplace_operators.ipynb.ipynb)  \n",
      "\n",
      "- [Link to the GitHub Repository One-Python-benchmark-per-day](https://github.com/rasbt/One-Python-benchmark-per-day)\n"
     ]
    },
    {
     "cell_type": "code",
     "collapsed": false,
     "input": [
      "import time\n",
      "print('Last updated: %s' %time.strftime('%d/%m/%Y'))"
     ],
     "language": "python",
     "metadata": {},
     "outputs": [
      {
       "output_type": "stream",
       "stream": "stdout",
       "text": [
        "Last updated: 22/06/2014\n"
       ]
      }
     ],
     "prompt_number": 1
    },
    {
     "cell_type": "markdown",
     "metadata": {},
     "source": [
      "<hr>\n",
      "I would be happy to hear your comments and suggestions.  \n",
      "Please feel free to drop me a note via\n",
      "[twitter](https://twitter.com/rasbt), [email](mailto:bluewoodtree@gmail.com), or [google+](https://plus.google.com/+SebastianRaschka).\n",
      "<hr>"
     ]
    },
    {
     "cell_type": "heading",
     "level": 1,
     "metadata": {},
     "source": [
      "Day 14 - One Python Benchmark per Day"
     ]
    },
    {
     "cell_type": "heading",
     "level": 2,
     "metadata": {},
     "source": [
      "Python's and NumPy's in-place operator functions"
     ]
    },
    {
     "cell_type": "markdown",
     "metadata": {},
     "source": [
      "<br>\n",
      "<br>"
     ]
    },
    {
     "cell_type": "heading",
     "level": 1,
     "metadata": {},
     "source": [
      "Sections"
     ]
    },
    {
     "cell_type": "markdown",
     "metadata": {},
     "source": [
      "- [Introduction](#Introduction)\n",
      "- [`timeit` benchmarks](#timeit-benchmarks)\n",
      "- [Results](#Results)\n",
      "- [Conclusion](#Conclusion)"
     ]
    },
    {
     "cell_type": "markdown",
     "metadata": {},
     "source": [
      "<br>\n",
      "<br>"
     ]
    },
    {
     "cell_type": "heading",
     "level": 1,
     "metadata": {},
     "source": [
      "Introduction"
     ]
    },
    {
     "cell_type": "markdown",
     "metadata": {},
     "source": [
      "[[back to top](#Sections)]"
     ]
    },
    {
     "cell_type": "markdown",
     "metadata": {},
     "source": [
      "First, we have to briefly talk about how the operators, e.g., for \"addition\" are implemented in Python.  \n",
      "There are basically to different `add` methods for the `+` operator:\n",
      "\n",
      "- `a.__add__(b)`\n",
      "Returns the sum of `a` and `b` in `a + b`\n",
      "\n",
      "- `a.__iadd__(b)`  \n",
      "Changes the value `a` in place, e.g., `a += b`\n",
      "\n",
      "However, the `__iadd__` method supports only immutable types. Thus, if we use the in-place operator `+=` on, for example integers (integers are immutable), Python simulates the `__iadd__` method:  \n",
      "E.g., for   \n",
      "`a += b`  \n",
      "via  \n",
      "`tmp = a + b; a = tmp`"
     ]
    },
    {
     "cell_type": "heading",
     "level": 3,
     "metadata": {},
     "source": [
      "`__add__` and `__iadd__` examples"
     ]
    },
    {
     "cell_type": "markdown",
     "metadata": {},
     "source": [
      "The examples below show that the **`__add__`** method **returns** the sum,  whereas the **`__iadd__`** method **modifies in-place**."
     ]
    },
    {
     "cell_type": "code",
     "collapsed": false,
     "input": [
      "a = 1\n",
      "b = 2\n",
      "\n",
      "print(a.__add__(b))\n",
      "print(a)"
     ],
     "language": "python",
     "metadata": {},
     "outputs": [
      {
       "output_type": "stream",
       "stream": "stdout",
       "text": [
        "3\n",
        "1\n"
       ]
      }
     ],
     "prompt_number": 2
    },
    {
     "cell_type": "code",
     "collapsed": false,
     "input": [
      "a = [1]\n",
      "b = [2]\n",
      "\n",
      "print(a.__add__(b))\n",
      "print(a)"
     ],
     "language": "python",
     "metadata": {},
     "outputs": [
      {
       "output_type": "stream",
       "stream": "stdout",
       "text": [
        "[1, 2]\n",
        "[1]\n"
       ]
      }
     ],
     "prompt_number": 3
    },
    {
     "cell_type": "code",
     "collapsed": false,
     "input": [
      "a = [1]\n",
      "b = [2]\n",
      "\n",
      "print(a.__iadd__(b))\n",
      "print(a)"
     ],
     "language": "python",
     "metadata": {},
     "outputs": [
      {
       "output_type": "stream",
       "stream": "stdout",
       "text": [
        "[1, 2]\n",
        "[1, 2]\n"
       ]
      }
     ],
     "prompt_number": 4
    },
    {
     "cell_type": "heading",
     "level": 3,
     "metadata": {},
     "source": [
      "The advantage of `__iadd__` for mutable objects"
     ]
    },
    {
     "cell_type": "markdown",
     "metadata": {},
     "source": [
      "The advantage of the `__iadd__` method is that it doesn't create a \"temporary\" object when we use the `+=`-in-place operator on mutable objects, such as Python `list` objects, which leads to a significant performance increase. This also works for NumPy arrays as we will see in the benchmarks below."
     ]
    },
    {
     "cell_type": "markdown",
     "metadata": {},
     "source": [
      "<br>\n",
      "<br>"
     ]
    },
    {
     "cell_type": "heading",
     "level": 1,
     "metadata": {},
     "source": [
      "`timeit` benchmarks"
     ]
    },
    {
     "cell_type": "markdown",
     "metadata": {},
     "source": [
      "[[back to top](#Sections)]"
     ]
    },
    {
     "cell_type": "code",
     "collapsed": false,
     "input": [
      "import numpy as np\n",
      "import timeit\n",
      "\n",
      "py_int, py_list, np_ary = [[],[]], [[],[]], [[],[]]\n",
      "\n",
      "for i in range(100, 1600, 100):\n",
      "\n",
      "    a = i\n",
      "    py_int[0].append(min(timeit.Timer('a = a + i', \n",
      "            'from __main__ import a, i').repeat(repeat=3, number=1000)))\n",
      "\n",
      "    a = i\n",
      "    py_int[1].append(min(timeit.Timer('a += i', \n",
      "            'from __main__ import a, i').repeat(repeat=3, number=1000)))\n",
      "    \n",
      "    a = list(range(i))\n",
      "    py_list[0].append(min(timeit.Timer('a = a + [i]', \n",
      "            'from __main__ import a, i').repeat(repeat=3, number=1000)))\n",
      "\n",
      "    a = list(range(i))\n",
      "    py_list[1].append(min(timeit.Timer('a += [i]', \n",
      "            'from __main__ import a, i').repeat(repeat=3, number=1000)))\n",
      "\n",
      "    a = np.ones((i,i))\n",
      "    np_ary[0].append(min(timeit.Timer('a = a + i', \n",
      "            'from __main__ import a, i').repeat(repeat=3, number=1000)))\n",
      "\n",
      "    a = np.ones((i,i))\n",
      "    np_ary[1].append(min(timeit.Timer('a += i', \n",
      "            'from __main__ import a, i').repeat(repeat=3, number=1000)))"
     ],
     "language": "python",
     "metadata": {},
     "outputs": [],
     "prompt_number": 10
    },
    {
     "cell_type": "markdown",
     "metadata": {},
     "source": [
      "<br>\n",
      "<br>"
     ]
    },
    {
     "cell_type": "heading",
     "level": 2,
     "metadata": {},
     "source": [
      "Preparing to plot the results"
     ]
    },
    {
     "cell_type": "markdown",
     "metadata": {},
     "source": [
      "[[back to top](#Sections)]"
     ]
    },
    {
     "cell_type": "code",
     "collapsed": false,
     "input": [
      "import platform\n",
      "import multiprocessing\n",
      "\n",
      "def print_sysinfo():\n",
      "    \n",
      "    print('\\nPython version  :', platform.python_version())\n",
      "    print('compiler        :', platform.python_compiler())\n",
      "    \n",
      "    print('\\nsystem     :', platform.system())\n",
      "    print('release    :', platform.release())\n",
      "    print('machine    :', platform.machine())\n",
      "    print('processor  :', platform.processor())\n",
      "    print('CPU count  :', multiprocessing.cpu_count())\n",
      "    print('interpreter:', platform.architecture()[0])\n",
      "    print('\\n\\n')"
     ],
     "language": "python",
     "metadata": {},
     "outputs": [],
     "prompt_number": 11
    },
    {
     "cell_type": "code",
     "collapsed": false,
     "input": [
      "%matplotlib inline"
     ],
     "language": "python",
     "metadata": {},
     "outputs": [],
     "prompt_number": 12
    },
    {
     "cell_type": "code",
     "collapsed": false,
     "input": [
      "import matplotlib.pyplot as plt\n",
      "\n",
      "def plot():\n",
      "    bar_labels = ['a += b', 'a = a + b']\n",
      "    data = [py_int, py_list, np_ary]\n",
      "    colors = ['g', 'b', 'r']\n",
      "    x_vals = range(100, 1600, 100)\n",
      "\n",
      "    f, ax = plt.subplots(1, 3, figsize=(15,5))\n",
      "\n",
      "    for i in range(3):\n",
      "        for j in range(2):\n",
      "            ax[i].plot(x_vals, data[i][j], alpha=0.4, lw=3)\n",
      "        ax[i].set_ylim([0, max(data[i][0][-1], data[i][1][-1])*1.5])\n",
      "        ax[i].set_ylabel('time in milliseconds')    \n",
      "        ax[i].set_xlabel('sample size') \n",
      "        ax[i].legend(['a = a + x', 'a += x'])\n",
      "\n",
      "    ax[0].set_title('Python integer addition')\n",
      "    ax[1].set_title('Addition Python list objects')\n",
      "    ax[2].set_title('NumPy: In-place operator for element-wise array operation')\n",
      "    ax[1].legend(['a = a + [x]', 'a += [x]'])\n",
      "    \n",
      "    plt.tight_layout()\n",
      "    plt.show()"
     ],
     "language": "python",
     "metadata": {},
     "outputs": [],
     "prompt_number": 13
    },
    {
     "cell_type": "markdown",
     "metadata": {},
     "source": [
      "<br>\n",
      "<br>"
     ]
    },
    {
     "cell_type": "heading",
     "level": 1,
     "metadata": {},
     "source": [
      "Results"
     ]
    },
    {
     "cell_type": "markdown",
     "metadata": {},
     "source": [
      "[[back to top](#Sections)]"
     ]
    },
    {
     "cell_type": "code",
     "collapsed": false,
     "input": [
      "plot()\n",
      "print_sysinfo()"
     ],
     "language": "python",
     "metadata": {},
     "outputs": [
      {
       "metadata": {},
       "output_type": "display_data",
       "png": "[encoded data removed]",
       "text": [
        "<matplotlib.figure.Figure at 0x1052dd048>"
       ]
      },
      {
       "output_type": "stream",
       "stream": "stdout",
       "text": [
        "\n",
        "Python version  : 3.4.1\n",
        "compiler        : GCC 4.2.1 (Apple Inc. build 5577)\n",
        "\n",
        "system     : Darwin\n",
        "release    : 13.2.0\n",
        "machine    : x86_64\n",
        "processor  : i386\n",
        "CPU count  : 2\n",
        "interpreter: 64bit\n",
        "\n",
        "\n",
        "\n"
       ]
      }
     ],
     "prompt_number": 14
    },
    {
     "cell_type": "heading",
     "level": 1,
     "metadata": {},
     "source": [
      "Conclusion"
     ]
    },
    {
     "cell_type": "markdown",
     "metadata": {},
     "source": [
      "[[back to top](#Sections)]"
     ]
    },
    {
     "cell_type": "markdown",
     "metadata": {},
     "source": [
      "Since the `+=` in-place operator function on immutable objects (here: integers) is merely a workaround using the `__add__` method (`tmp = a + b; a = tmp`) as mentioned in the introduction above, we don't see any performance increase for Python `integer` types if we use the in-place operator: It is just syntactic sugar.  \n",
      "However, it really pays off performance-wise if we use the in-place operator with on mutable types."
     ]
    }
   ],
   "metadata": {}
  }
 ]
}