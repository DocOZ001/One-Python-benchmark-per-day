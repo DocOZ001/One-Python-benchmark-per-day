{
 "metadata": {
  "name": "",
  "signature": "sha256:71d647b62c54b009e4bfcbc7a3ffa0d3fa31dc944f5e644ef4a7c2a2b084c5f9"
 },
 "nbformat": 3,
 "nbformat_minor": 0,
 "worksheets": [
  {
   "cells": [
    {
     "cell_type": "code",
     "collapsed": false,
     "input": [
      ">>> all(i==j for i,j in zip('dog', ['d','o','g'])) \n",
      "True\n",
      "\n",
      ">>> all(i==j for i,j in zip('dog', ['d','o','d']))  \n",
      "False"
     ],
     "language": "python",
     "metadata": {},
     "outputs": []
    },
    {
     "cell_type": "code",
     "collapsed": false,
     "input": [
      ">>> 'dog' == \"\".join(['d','o','g'])\n",
      "True\n",
      "\n",
      ">>> 'dog' == \"\".join(['d','o','d'])\n",
      "False"
     ],
     "language": "python",
     "metadata": {},
     "outputs": []
    },
    {
     "cell_type": "code",
     "collapsed": false,
     "input": [
      "%timeit all(i==j for i,j in zip('dog', ['d','o','g']))"
     ],
     "language": "python",
     "metadata": {},
     "outputs": [
      {
       "output_type": "stream",
       "stream": "stdout",
       "text": [
        "1000000 loops, best of 3: 1.2 \u00b5s per loop\n"
       ]
      }
     ],
     "prompt_number": 1
    },
    {
     "cell_type": "code",
     "collapsed": false,
     "input": [
      "%timeit 'dog' == \"\".join(['d','o','g'])"
     ],
     "language": "python",
     "metadata": {},
     "outputs": [
      {
       "output_type": "stream",
       "stream": "stdout",
       "text": [
        "1000000 loops, best of 3: 306 ns per loop\n"
       ]
      }
     ],
     "prompt_number": 2
    },
    {
     "cell_type": "code",
     "collapsed": false,
     "input": [],
     "language": "python",
     "metadata": {},
     "outputs": []
    }
   ],
   "metadata": {}
  }
 ]
}