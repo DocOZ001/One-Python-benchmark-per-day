{
 "metadata": {
  "name": "",
  "signature": "sha256:060c19efbc1d1c7de3871d86ad6ae1e75fc572543495055ba315bca4eb6e7e3f"
 },
 "nbformat": 3,
 "nbformat_minor": 0,
 "worksheets": [
  {
   "cells": [
    {
     "cell_type": "markdown",
     "metadata": {},
     "source": [
      "[Sebastian Raschka](http://sebastianraschka.com)  \n",
      "\n",
      "last updated: 05/27/2014\n",
      "\n",
      "- [Open in IPython nbviewer](http://nbviewer.ipython.org/github/rasbt/One-Python-benchmark-per-day/blob/master/ipython_nbs/day8_sqrt_and_exp.ipynb?create=1)  \n",
      "\n",
      "- [Link to this IPython notebook on Github](https://github.com/rasbt/One-Python-benchmark-per-day/blob/master/ipython_nbs/day8_sqrt_and_exp.ipynb)  \n",
      "\n",
      "- [Link to the GitHub Repository One-Python-benchmark-per-day](https://github.com/rasbt/One-Python-benchmark-per-day)\n"
     ]
    },
    {
     "cell_type": "markdown",
     "metadata": {},
     "source": [
      "<br>\n",
      "<br>"
     ]
    },
    {
     "cell_type": "heading",
     "level": 1,
     "metadata": {},
     "source": [
      "Day 8 - One Python Benchmark per Day"
     ]
    },
    {
     "cell_type": "heading",
     "level": 2,
     "metadata": {},
     "source": [
      "Calculating square roots and exponents"
     ]
    },
    {
     "cell_type": "markdown",
     "metadata": {},
     "source": [
      "<hr>\n",
      "I would be happy to hear your comments and suggestions.  \n",
      "Please feel free to drop me a note via\n",
      "[twitter](https://twitter.com/rasbt), [email](mailto:bluewoodtree@gmail.com), or [google+](https://plus.google.com/118404394130788869227).\n",
      "<hr>"
     ]
    },
    {
     "cell_type": "markdown",
     "metadata": {},
     "source": [
      "For this benchmark, I only want to focus on the simplest approaches that don't require any additional libraries or modules that are not part of Python's in-built functions or the standard library.  \n",
      "Why? Because in most simple Python scripts I often see people using the math module for those calculations and I was curious to see if we are not better of using the basic arithmetic operator $x^{0.5}$ and the in-built `pow` function for exponential functions."
     ]
    },
    {
     "cell_type": "markdown",
     "metadata": {},
     "source": [
      "<hr>\n",
      "**-> [skip to the results](#Results)**\n",
      "<hr>"
     ]
    },
    {
     "cell_type": "markdown",
     "metadata": {},
     "source": [
      "<br>\n",
      "<br>"
     ]
    },
    {
     "cell_type": "heading",
     "level": 2,
     "metadata": {},
     "source": [
      "Square root functions"
     ]
    },
    {
     "cell_type": "code",
     "collapsed": false,
     "input": [
      "from math import sqrt as math_sqrt\n",
      "\n",
      "def math_module_sqrt(x):\n",
      "    return math_sqrt(x)\n",
      "\n",
      "def arithmetic_operator(x):\n",
      "    return x**0.5\n",
      "\n",
      "x = 988\n",
      "assert(math_module_sqrt(x) == arithmetic_operator(x))\n",
      "print('both functions produce similar results')"
     ],
     "language": "python",
     "metadata": {},
     "outputs": [
      {
       "output_type": "stream",
       "stream": "stdout",
       "text": [
        "both functions produce similar results\n"
       ]
      }
     ],
     "prompt_number": 1
    },
    {
     "cell_type": "markdown",
     "metadata": {},
     "source": [
      "**Note that we imported the math.sqrt() function into the global namespace to reduce the overhead:**"
     ]
    },
    {
     "cell_type": "code",
     "collapsed": false,
     "input": [
      "import math\n",
      "from math import sqrt as math_sqrt\n",
      "\n",
      "x = 81\n",
      "%timeit math_sqrt(x)\n",
      "%timeit math.sqrt(x)"
     ],
     "language": "python",
     "metadata": {},
     "outputs": [
      {
       "output_type": "stream",
       "stream": "stdout",
       "text": [
        "10000000 loops, best of 3: 138 ns per loop\n",
        "10000000 loops, best of 3: 164 ns per loop"
       ]
      },
      {
       "output_type": "stream",
       "stream": "stdout",
       "text": [
        "\n"
       ]
      }
     ],
     "prompt_number": 2
    },
    {
     "cell_type": "markdown",
     "metadata": {},
     "source": [
      "<br>\n",
      "<br>"
     ]
    },
    {
     "cell_type": "heading",
     "level": 2,
     "metadata": {},
     "source": [
      "Power *n* functions"
     ]
    },
    {
     "cell_type": "code",
     "collapsed": false,
     "input": [
      "from math import pow as math_pow\n",
      "\n",
      "def math_module_pow(x, n):\n",
      "    return math_pow(x, n)\n",
      "\n",
      "def inbuilt_pow(x, n):\n",
      "    return pow(x, n)\n",
      "\n",
      "x = 3.3\n",
      "n = 4\n",
      "assert(math_module_pow(x, n) == inbuilt_pow(x, n))\n",
      "print('both functions produce similar results')"
     ],
     "language": "python",
     "metadata": {},
     "outputs": [
      {
       "output_type": "stream",
       "stream": "stdout",
       "text": [
        "both functions produce similar results\n"
       ]
      }
     ],
     "prompt_number": 3
    },
    {
     "cell_type": "markdown",
     "metadata": {},
     "source": [
      "<br>\n",
      "<br>"
     ]
    },
    {
     "cell_type": "heading",
     "level": 2,
     "metadata": {},
     "source": [
      "Timing square root"
     ]
    },
    {
     "cell_type": "code",
     "collapsed": false,
     "input": [
      "import timeit\n",
      "\n",
      "test_sqrt = [12345.54321, 54756, 23423422, 999999999999999]\n",
      "funcs_sqrt = ['math_module_sqrt', 'arithmetic_operator']\n",
      "\n",
      "timings_sqrt = {f:[] for f in funcs_sqrt}\n",
      "\n",
      "for x in test_sqrt:\n",
      "    for f in funcs_sqrt:\n",
      "        timings_sqrt[f].append(min(timeit.Timer('%s(x)' %f, \n",
      "                      'from __main__ import x, %s' %f)\n",
      "                              .repeat(repeat=100, number=1000)))"
     ],
     "language": "python",
     "metadata": {},
     "outputs": [],
     "prompt_number": 4
    },
    {
     "cell_type": "markdown",
     "metadata": {},
     "source": [
      "<br>\n",
      "<br>"
     ]
    },
    {
     "cell_type": "heading",
     "level": 2,
     "metadata": {},
     "source": [
      "Timing power *n*"
     ]
    },
    {
     "cell_type": "code",
     "collapsed": false,
     "input": [
      "import timeit\n",
      "\n",
      "test_pow = list(range(1,13))\n",
      "funcs_pow = ['math_module_pow', 'inbuilt_pow']\n",
      "\n",
      "timings_pow = {f:[] for f in funcs_pow}\n",
      "\n",
      "for n in test_pow:\n",
      "    for f in funcs_pow:\n",
      "        timings_pow[f].append(min(timeit.Timer('%s(n, n)' %f, \n",
      "                      'from __main__ import n, %s' %f)\n",
      "                              .repeat(repeat=100, number=1000)))"
     ],
     "language": "python",
     "metadata": {},
     "outputs": [],
     "prompt_number": 6
    },
    {
     "cell_type": "markdown",
     "metadata": {},
     "source": [
      "<br>\n",
      "<br>"
     ]
    },
    {
     "cell_type": "heading",
     "level": 2,
     "metadata": {},
     "source": [
      "Setting up plots"
     ]
    },
    {
     "cell_type": "code",
     "collapsed": false,
     "input": [
      "import platform\n",
      "import multiprocessing\n",
      "\n",
      "def print_sysinfo():\n",
      "    print('\\nsystem   :', platform.system())\n",
      "    print('release  :', platform.release())\n",
      "    print('machine  :', platform.machine())\n",
      "    print('processor:', platform.processor())\n",
      "    print('interpreter:', platform.architecture()[0])\n",
      "    print('CPU count  :', multiprocessing.cpu_count())\n",
      "\n",
      "    print('\\nPython version', platform.python_version())\n",
      "    print('compiler', platform.python_compiler())\n",
      "    print('\\n\\n')"
     ],
     "language": "python",
     "metadata": {},
     "outputs": [],
     "prompt_number": 7
    },
    {
     "cell_type": "code",
     "collapsed": false,
     "input": [
      "%matplotlib inline"
     ],
     "language": "python",
     "metadata": {},
     "outputs": [],
     "prompt_number": 8
    },
    {
     "cell_type": "code",
     "collapsed": false,
     "input": [
      "import matplotlib.pyplot as plt\n",
      "\n",
      "def plot_figures(): \n",
      "    \n",
      "    fig = plt.figure(figsize=(8,4))\n",
      "    plt.plot(range(len(test_sqrt)), timings_sqrt['math_module_sqrt'], \n",
      "              alpha=0.5, label='math.sqrt(x)', marker='o', lw=2)\n",
      "    plt.plot(range(len(test_sqrt)), timings_sqrt['arithmetic_operator'], \n",
      "              alpha=0.5, label='x**0.5', marker='o', lw=2)\n",
      "    plt.legend(loc='upper left')\n",
      "    plt.xticks(range(len(test_sqrt)), ['$\\sqrt{%s}$'%(x) for x in test_sqrt])\n",
      "    plt.grid()\n",
      "    plt.ylabel('time in milliseconds')\n",
      "        \n",
      "    plt.show()\n",
      "    \n",
      "    fig = plt.figure(figsize=(8,4))\n",
      "    plt.plot(range(len(test_pow)), timings_pow['math_module_pow'], \n",
      "              alpha=0.5, label='math.pow(x, n)', marker='o', lw=2)\n",
      "    plt.plot(range(len(test_pow)), timings_pow['inbuilt_pow'], \n",
      "              alpha=0.5, label='x**n', marker='o', lw=2)\n",
      "    plt.legend(loc='upper left')\n",
      "    plt.xticks(range(len(test_pow)), ['$%s^{%s}$'%(x, x) for x in test_pow])\n",
      "    plt.grid()\n",
      "    plt.ylabel('time in milliseconds')\n",
      "    "
     ],
     "language": "python",
     "metadata": {},
     "outputs": [],
     "prompt_number": 9
    },
    {
     "cell_type": "markdown",
     "metadata": {},
     "source": [
      "<br>\n",
      "<br>"
     ]
    },
    {
     "cell_type": "heading",
     "level": 1,
     "metadata": {},
     "source": [
      "Results"
     ]
    },
    {
     "cell_type": "code",
     "collapsed": false,
     "input": [
      "print_sysinfo()\n",
      "plot_figures()"
     ],
     "language": "python",
     "metadata": {},
     "outputs": [
      {
       "output_type": "stream",
       "stream": "stdout",
       "text": [
        "\n",
        "system   : Darwin\n",
        "release  : 13.1.0\n",
        "machine  : x86_64\n",
        "processor: i386\n",
        "interpreter: 64bit\n",
        "CPU count  : 4\n",
        "\n",
        "Python version 3.4.0\n",
        "compiler GCC 4.2.1 (Apple Inc. build 5577)\n",
        "\n",
        "\n",
        "\n"
       ]
      },
      {
       "metadata": {},
       "output_type": "display_data",
       "png": "[encoded data removed]",
       "text": [
        "<matplotlib.figure.Figure at 0x106543e10>"
       ]
      },
      {
       "metadata": {},
       "output_type": "display_data",
       "png": "[encoded data removed]",
       "text": [
        "<matplotlib.figure.Figure at 0x1069669b0>"
       ]
      }
     ],
     "prompt_number": 10
    },
    {
     "cell_type": "code",
     "collapsed": false,
     "input": [],
     "language": "python",
     "metadata": {},
     "outputs": []
    }
   ],
   "metadata": {}
  }
 ]
}