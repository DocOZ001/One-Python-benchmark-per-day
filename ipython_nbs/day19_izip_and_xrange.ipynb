{
 "metadata": {
  "name": "",
  "signature": "sha256:4f36b3780eeb71f6e41a1eb21f71c879040b388c5577f1b208efd8cefeac9e73"
 },
 "nbformat": 3,
 "nbformat_minor": 0,
 "worksheets": [
  {
   "cells": [
    {
     "cell_type": "markdown",
     "metadata": {},
     "source": [
      "[Sebastian Raschka](http://sebastianraschka.com)  \n",
      "\n",
      "- [Open in IPython nbviewer](http://nbviewer.ipython.org/github/rasbt/One-Python-benchmark-per-day/blob/master/ipython_nbs/day19_izip_and_xrange.ipynb)  \n",
      "\n",
      "- [Link to this IPython notebook on Github](https://github.com/rasbt/One-Python-benchmark-per-day/blob/master/ipython_nbs/day19_izip_and_xrange.ipynb)  \n",
      "\n",
      "- [Link to the GitHub Repository One-Python-benchmark-per-day](https://github.com/rasbt/One-Python-benchmark-per-day)\n"
     ]
    },
    {
     "cell_type": "code",
     "collapsed": false,
     "input": [
      "%load_ext watermark"
     ],
     "language": "python",
     "metadata": {},
     "outputs": [],
     "prompt_number": 1
    },
    {
     "cell_type": "code",
     "collapsed": false,
     "input": [
      "%watermark -d -v -u"
     ],
     "language": "python",
     "metadata": {},
     "outputs": [
      {
       "output_type": "stream",
       "stream": "stdout",
       "text": [
        "Last updated: 20/07/2014 \n",
        "\n",
        "CPython 2.7.8\n",
        "IPython 2.1.0\n"
       ]
      }
     ],
     "prompt_number": 2
    },
    {
     "cell_type": "markdown",
     "metadata": {},
     "source": [
      "<font size=\"1.5em\">[More information](http://nbviewer.ipython.org/github/rasbt/python_reference/blob/master/ipython_magic/watermark.ipynb) about the `watermark` magic command extension.</font>"
     ]
    },
    {
     "cell_type": "markdown",
     "metadata": {},
     "source": [
      "<hr>\n",
      "I would be happy to hear your comments and suggestions.  \n",
      "Please feel free to drop me a note via\n",
      "[twitter](https://twitter.com/rasbt), [email](mailto:bluewoodtree@gmail.com), or [google+](https://plus.google.com/+SebastianRaschka).\n",
      "<hr>"
     ]
    },
    {
     "cell_type": "heading",
     "level": 1,
     "metadata": {},
     "source": [
      "Day 19 - One Python Benchmark per Day"
     ]
    },
    {
     "cell_type": "heading",
     "level": 2,
     "metadata": {},
     "source": [
      "Python 2.x's izip and xrange"
     ]
    },
    {
     "cell_type": "markdown",
     "metadata": {},
     "source": [
      "<br>"
     ]
    },
    {
     "cell_type": "markdown",
     "metadata": {},
     "source": [
      "A common use-case for the `range` function is the classic for-loop. In Python 2.x, `range` will create a list in memory and iterate over it. As you can imagine, its is not always very efficient to create a list (especially for a large number of iterations) if we just want to use it once.  \n",
      "Thus, the `xrange` function was added later-on, which evaluates \"lazily\" similar to generators.  \n",
      "(In Python 3.x, the `range` function was implemented similar to Python's `xrange`). "
     ]
    },
    {
     "cell_type": "markdown",
     "metadata": {},
     "source": [
      "But note that it using `xrange` instead of `range` does not always make sense. E.g., if we have a use-case where we want to iterate over the sequence (here: integers) multiple times, it would be more efficient to use `range`, since `xrange` is always constructing the values from scratch.   \n",
      "And also slicing is not supported by `xrange`."
     ]
    },
    {
     "cell_type": "code",
     "collapsed": false,
     "input": [
      "print 'range', type(range(3))\n",
      "print 'xrange', type(xrange(3))"
     ],
     "language": "python",
     "metadata": {},
     "outputs": [
      {
       "output_type": "stream",
       "stream": "stdout",
       "text": [
        "range <type 'list'>\n",
        "xrange <type 'xrange'>\n"
       ]
      }
     ],
     "prompt_number": 27
    },
    {
     "cell_type": "markdown",
     "metadata": {},
     "source": [
      "In the following benchmark, we will take a look at the speed advantages of `range` over `xrange` using a simple for-loop construct:\n",
      "    \n",
      "    for i in range(some_int):\n",
      "        pass"
     ]
    },
    {
     "cell_type": "markdown",
     "metadata": {},
     "source": [
      "<br>\n",
      "<br>"
     ]
    },
    {
     "cell_type": "markdown",
     "metadata": {},
     "source": [
      "Similar to the `xrange` function, the `izip` function (in the `itertools` built-in module) evaluates the values in a list \"lazily\" without constructing a list of tuples like it's `zip` counterpart."
     ]
    },
    {
     "cell_type": "code",
     "collapsed": false,
     "input": [
      "from itertools import izip\n",
      "\n",
      "print 'zip', type(zip([1,2], [3,4]))\n",
      "print 'izip', type(izip([1,2], [3,4]))"
     ],
     "language": "python",
     "metadata": {},
     "outputs": [
      {
       "output_type": "stream",
       "stream": "stdout",
       "text": [
        "zip <type 'list'>\n",
        "izip <type 'itertools.izip'>\n"
       ]
      }
     ],
     "prompt_number": 4
    },
    {
     "cell_type": "markdown",
     "metadata": {},
     "source": [
      "Also here, we take a look at the speed benefits of using `izip` over `zip` for a simple for-loop construct:\n",
      "    \n",
      "    for i in range(n, n): # where i is a tuple of 2 values\n",
      "        pass"
     ]
    },
    {
     "cell_type": "markdown",
     "metadata": {},
     "source": [
      "<br>"
     ]
    },
    {
     "cell_type": "heading",
     "level": 1,
     "metadata": {},
     "source": [
      "Bechmarking via `timeit`"
     ]
    },
    {
     "cell_type": "code",
     "collapsed": false,
     "input": [
      "import timeit\n",
      "\n",
      "xrange_list, range_list, zip_list, izip_list = [], [], [], []\n",
      "\n",
      "orders = [10**i for i in xrange(1, 9)]\n",
      "\n",
      "for n in orders:\n",
      "\n",
      "    print('n=%s (%s of %s)' %(n, orders.index(n)+1, len(orders)))\n",
      "\n",
      "    range_list.append(min(timeit.Timer('for i in range(n): pass' , \n",
      "            'from __main__ import n').repeat(repeat=5, number=1)))\n",
      "\n",
      "    xrange_list.append(min(timeit.Timer('for i in xrange(n): pass' , \n",
      "            'from __main__ import n').repeat(repeat=5, number=1)))\n",
      "    zip_list.append(min(timeit.Timer('for i in zip(range(n), range(n)): pass' , \n",
      "            'from __main__ import n').repeat(repeat=5, number=1)))\n",
      "    izip_list.append(min(timeit.Timer('for i in izip(range(n), range(n)): pass' , \n",
      "            'from __main__ import n, izip').repeat(repeat=5, number=1)))\n",
      "print('finished')"
     ],
     "language": "python",
     "metadata": {},
     "outputs": [
      {
       "output_type": "stream",
       "stream": "stdout",
       "text": [
        "n=10 (1 of 8)\n",
        "n=100 (2 of 8)\n",
        "n=1000 (3 of 8)\n",
        "n=10000 (4 of 8)\n",
        "n=100000 (5 of 8)"
       ]
      },
      {
       "output_type": "stream",
       "stream": "stdout",
       "text": [
        "\n",
        "n=1000000 (6 of 8)"
       ]
      },
      {
       "output_type": "stream",
       "stream": "stdout",
       "text": [
        "\n",
        "n=10000000 (7 of 8)"
       ]
      },
      {
       "output_type": "stream",
       "stream": "stdout",
       "text": [
        "\n",
        "n=100000000 (8 of 8)"
       ]
      },
      {
       "output_type": "stream",
       "stream": "stdout",
       "text": [
        "\n",
        "finished"
       ]
      },
      {
       "output_type": "stream",
       "stream": "stdout",
       "text": [
        "\n"
       ]
      }
     ],
     "prompt_number": 16
    },
    {
     "cell_type": "code",
     "collapsed": false,
     "input": [
      "%matplotlib inline"
     ],
     "language": "python",
     "metadata": {},
     "outputs": [],
     "prompt_number": 17
    },
    {
     "cell_type": "code",
     "collapsed": false,
     "input": [
      "from matplotlib import pyplot as plt\n",
      "\n",
      "def plot():\n",
      "    \n",
      "    def settings():\n",
      "        plt.xlim([min(orders) / 10, max(orders)* 10])\n",
      "        plt.grid()\n",
      "        plt.xticks(fontsize=16)\n",
      "        plt.yticks(fontsize=16)\n",
      "        plt.xscale('log')\n",
      "        plt.yscale('log')\n",
      "        plt.legend(loc='upper left', fontsize=14)\n",
      "        plt.xlabel('size of n', fontsize=16)\n",
      "        plt.ylabel('time in seconds (log-scale)', fontsize=16)\n",
      "    \n",
      "    fig = plt.figure(figsize=(14,6))\n",
      "    \n",
      "    plt.subplot(1,2,1)\n",
      "    plt.plot(orders, range_list, label='range(n)')\n",
      "    plt.plot(orders, xrange_list, label='xrange(n)')\n",
      "    plt.title('range and xrange in a for-loop', fontsize=22)\n",
      "    settings()\n",
      "    \n",
      "    plt.subplot(1,2,2)\n",
      "    plt.plot(orders, zip_list, label='zip(n, n)')\n",
      "    plt.plot(orders, izip_list, label='izip(n, n)')\n",
      "    plt.title('zip and izip in a for-loop', fontsize=22)\n",
      "    settings()\n",
      "    \n",
      "    plt.tight_layout()\n",
      "    plt.show()"
     ],
     "language": "python",
     "metadata": {},
     "outputs": [],
     "prompt_number": 24
    },
    {
     "cell_type": "markdown",
     "metadata": {},
     "source": [
      "<br>\n",
      "<br>"
     ]
    },
    {
     "cell_type": "heading",
     "level": 1,
     "metadata": {},
     "source": [
      "Results"
     ]
    },
    {
     "cell_type": "code",
     "collapsed": false,
     "input": [
      "plot()"
     ],
     "language": "python",
     "metadata": {},
     "outputs": [
      {
       "metadata": {},
       "output_type": "display_data",
       "png": "[encoded data removed]",
       "text": [
        "<matplotlib.figure.Figure at 0x104e670d0>"
       ]
      }
     ],
     "prompt_number": 25
    },
    {
     "cell_type": "code",
     "collapsed": false,
     "input": [
      "%watermark -d -v -m"
     ],
     "language": "python",
     "metadata": {},
     "outputs": [
      {
       "output_type": "stream",
       "stream": "stdout",
       "text": [
        "20/07/2014 \n",
        "\n",
        "CPython 2.7.8\n",
        "IPython 2.1.0\n",
        "\n",
        "compiler   : GCC 4.2.1 (Apple Inc. build 5577)\n",
        "system     : Darwin\n",
        "release    : 13.3.0\n",
        "machine    : x86_64\n",
        "processor  : i386\n",
        "CPU cores  : 2\n",
        "interpreter: 64bit\n"
       ]
      }
     ],
     "prompt_number": 28
    },
    {
     "cell_type": "markdown",
     "metadata": {},
     "source": [
      "<br>\n",
      "<br>"
     ]
    },
    {
     "cell_type": "markdown",
     "metadata": {},
     "source": [
      "If we take the logarithmic scale, the \"lazy evaluation\" really pays off in simple for-loop constructs where we are only iterating over a given sequence once. Especially with increasing sizes of `n`, we can obeserve that the construction of the list objects via `range` and `zip` becomes very inefficient for a one-time iteration use-case."
     ]
    },
    {
     "cell_type": "code",
     "collapsed": false,
     "input": [],
     "language": "python",
     "metadata": {},
     "outputs": []
    }
   ],
   "metadata": {}
  }
 ]
}